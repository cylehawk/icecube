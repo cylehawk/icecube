{
 "cells": [
  {
   "cell_type": "markdown",
   "id": "84081e02",
   "metadata": {},
   "source": [
    "# Ex2 - Labels Datacube\n",
    "\n",
    "This notebook provides a quick demo on how to create a datacube of training labels to complement a datacube of imagery. The training label datacube is critical for supervised machine learning. Having the ability to ingest labels in a datacube format provides flexibility for ML engineers to train models easily without worrying about underlying remote sensing image formats, which can be sometimes daunting for non experts."
   ]
  },
  {
   "cell_type": "code",
   "execution_count": 1,
   "id": "e383c27b",
   "metadata": {},
   "outputs": [],
   "source": [
    "import os\n",
    "from pathlib import Path\n",
    "import glob\n",
    "import numpy as np\n",
    "import pandas as pd\n",
    "import rasterio\n",
    "from icecube.bin.labels_cube.create_json_labels import CreateLabels\n",
    "import icecube"
   ]
  },
  {
   "cell_type": "markdown",
   "id": "157cd77a",
   "metadata": {},
   "source": [
    "Currently as of version 1.0, `icecube` provides the ability to ingest labels that are both vector and in raster format. These two formats should cover almost all of the use cases needed for training machine learning models for supervised training. Vector labels (e.g. bounding boxes, polygons) are useful for training object detectors while raster images are often (but not always) leveraged for segmentation wokflows."
   ]
  },
  {
   "cell_type": "code",
   "execution_count": 2,
   "id": "c9079a14",
   "metadata": {},
   "outputs": [],
   "source": [
    "# set paths here.\n",
    "icecube_abspath = str(Path(icecube.__file__).parent.parent)\n",
    "resource_dir = os.path.join(icecube_abspath, \"tests/resources\")\n",
    "grd_dir = os.path.join(resource_dir, \"grd_stack/\")\n",
    "vector_labels_save_fpath = os.path.join(icecube_abspath, \"icecube/dataset/temp/dummy_vector_labels.json\")\n",
    "raster_labels_save_fpath = os.path.join(icecube_abspath, \"icecube/dataset/temp/dummy_raster_labels.json\")\n",
    "cube_save_path = os.path.join(icecube_abspath, \"icecube/dataset/temp/my_awesome_labels_cube.nc\")\n",
    "Path(str(Path(vector_labels_save_fpath).parent)).mkdir(parents=True, exist_ok=True)\n",
    "grd_fpaths = glob.glob(grd_dir+\"*\")"
   ]
  },
  {
   "cell_type": "markdown",
   "id": "65510b1b",
   "metadata": {},
   "source": [
    "## Creating JSON Labels\n",
    "\n",
    "In order to populate labels in `icecube`, labels must be converted to a specific JSON structure. The section walks one through the script that can be used to create such labels."
   ]
  },
  {
   "cell_type": "markdown",
   "id": "05c0d200",
   "metadata": {},
   "source": [
    "### 1. Example with vector labels"
   ]
  },
  {
   "cell_type": "markdown",
   "id": "34a27ff8",
   "metadata": {},
   "source": [
    "Let's first go through an example where we will use the assets in `tests/resources` to demonstrate the example with vector labels.\n",
    "The below example showcase ingesting bounding boxes inside datacubes as labels.\n",
    "For the examples below, we will use assets inside `tests/resources/grd_stack/*.tif`"
   ]
  },
  {
   "cell_type": "code",
   "execution_count": 3,
   "id": "0ac4aad0",
   "metadata": {},
   "outputs": [],
   "source": [
    "# let's create some random bounding boxes for dummy training sample\n",
    "random_classes = [\"rand-a\", \"rand-b\", \"rand-c\"] \n",
    "\n",
    "def create_random_bboxes(N, I):\n",
    "    random_bboxes = []\n",
    "    I_shape = I.shape\n",
    "    \n",
    "    for _, i in enumerate(range(N)):\n",
    "        xmin, ymin = np.random.randint(0,I_shape[0]), np.random.randint(0,I_shape[1])\n",
    "        xmax, ymax = np.random.randint(xmin, I_shape[0]), np.random.randint(ymin,I_shape[1]) \n",
    "        \n",
    "        random_bboxes.append([xmin, ymin, xmax, ymax])\n",
    "    \n",
    "    return random_bboxes"
   ]
  },
  {
   "cell_type": "code",
   "execution_count": 4,
   "id": "2e19b070",
   "metadata": {},
   "outputs": [
    {
     "data": {
      "text/html": [
       "<div>\n",
       "<style scoped>\n",
       "    .dataframe tbody tr th:only-of-type {\n",
       "        vertical-align: middle;\n",
       "    }\n",
       "\n",
       "    .dataframe tbody tr th {\n",
       "        vertical-align: top;\n",
       "    }\n",
       "\n",
       "    .dataframe thead th {\n",
       "        text-align: right;\n",
       "    }\n",
       "</style>\n",
       "<table border=\"1\" class=\"dataframe\">\n",
       "  <thead>\n",
       "    <tr style=\"text-align: right;\">\n",
       "      <th></th>\n",
       "      <th>file_name</th>\n",
       "      <th>xmin</th>\n",
       "      <th>ymin</th>\n",
       "      <th>xmax</th>\n",
       "      <th>ymax</th>\n",
       "      <th>class</th>\n",
       "    </tr>\n",
       "  </thead>\n",
       "  <tbody>\n",
       "    <tr>\n",
       "      <th>0</th>\n",
       "      <td>ICEYE_GRD_54549_20210427T215124_hollow_10x10pi...</td>\n",
       "      <td>5</td>\n",
       "      <td>8</td>\n",
       "      <td>9</td>\n",
       "      <td>9</td>\n",
       "      <td>rand-c</td>\n",
       "    </tr>\n",
       "    <tr>\n",
       "      <th>1</th>\n",
       "      <td>ICEYE_GRD_54549_20210427T215124_hollow_10x10pi...</td>\n",
       "      <td>5</td>\n",
       "      <td>3</td>\n",
       "      <td>6</td>\n",
       "      <td>6</td>\n",
       "      <td>rand-c</td>\n",
       "    </tr>\n",
       "    <tr>\n",
       "      <th>2</th>\n",
       "      <td>ICEYE_GRD_54549_20210427T215124_hollow_10x10pi...</td>\n",
       "      <td>8</td>\n",
       "      <td>2</td>\n",
       "      <td>9</td>\n",
       "      <td>9</td>\n",
       "      <td>rand-b</td>\n",
       "    </tr>\n",
       "    <tr>\n",
       "      <th>3</th>\n",
       "      <td>ICEYE_GRD_54549_20210427T215124_hollow_10x10pi...</td>\n",
       "      <td>7</td>\n",
       "      <td>2</td>\n",
       "      <td>9</td>\n",
       "      <td>4</td>\n",
       "      <td>rand-a</td>\n",
       "    </tr>\n",
       "    <tr>\n",
       "      <th>4</th>\n",
       "      <td>ICEYE_GRD_54549_20210427T215124_hollow_10x10pi...</td>\n",
       "      <td>3</td>\n",
       "      <td>5</td>\n",
       "      <td>4</td>\n",
       "      <td>9</td>\n",
       "      <td>rand-c</td>\n",
       "    </tr>\n",
       "  </tbody>\n",
       "</table>\n",
       "</div>"
      ],
      "text/plain": [
       "                                           file_name  xmin  ymin  xmax  ymax  \\\n",
       "0  ICEYE_GRD_54549_20210427T215124_hollow_10x10pi...     5     8     9     9   \n",
       "1  ICEYE_GRD_54549_20210427T215124_hollow_10x10pi...     5     3     6     6   \n",
       "2  ICEYE_GRD_54549_20210427T215124_hollow_10x10pi...     8     2     9     9   \n",
       "3  ICEYE_GRD_54549_20210427T215124_hollow_10x10pi...     7     2     9     4   \n",
       "4  ICEYE_GRD_54549_20210427T215124_hollow_10x10pi...     3     5     4     9   \n",
       "\n",
       "    class  \n",
       "0  rand-c  \n",
       "1  rand-c  \n",
       "2  rand-b  \n",
       "3  rand-a  \n",
       "4  rand-c  "
      ]
     },
     "execution_count": 4,
     "metadata": {},
     "output_type": "execute_result"
    }
   ],
   "source": [
    "# For demo purposes, we will generate some random samples for bounding boxes. \n",
    "labels_collection = []\n",
    "\n",
    "for grd_fpath in grd_fpaths:\n",
    "    grd_values = rasterio.open(grd_fpath).read(1)\n",
    "    grd_product = rasterio.open(grd_fpath).tags()[\"PRODUCT_FILE\"]\n",
    "    bboxes_seq = create_random_bboxes(np.random.randint(30,45), grd_values) \n",
    "    for each_bbox in bboxes_seq: \n",
    "        labels_collection.append([grd_product, each_bbox[0], \n",
    "                                  each_bbox[1],\n",
    "                                  each_bbox[2],\n",
    "                                  each_bbox[3],\n",
    "                                  random_classes[np.random.randint(0,3)]])\n",
    "\n",
    "labels_df = pd.DataFrame(labels_collection, columns=[\"file_name\", \"xmin\", \"ymin\", \"xmax\", \"ymax\", \"class\"])\n",
    "labels_df.head(5)"
   ]
  },
  {
   "cell_type": "code",
   "execution_count": 5,
   "id": "e9a25e6a",
   "metadata": {},
   "outputs": [],
   "source": [
    "# Now we can easily convert these bounding boxes to icecube-friendly JSON strucutre using `CreateLabels` class\n",
    "create_labels = CreateLabels(\"vector\")\n",
    "\n",
    "for i, df_row in labels_df.T.iteritems():\n",
    "    product_labels_seq = []\n",
    "    product_name = df_row.iloc[0] \n",
    "    # instance label contains bounding box for a unit label. \n",
    "    \n",
    "    instance_label = {\"xmin\": df_row.iloc[1],\n",
    "            \"ymin\": df_row.iloc[2],\n",
    "            \"xmax\": df_row.iloc[3],\n",
    "            \"ymax\": df_row.iloc[4],\n",
    "        }\n",
    "    class_name = df_row.iloc[5]\n",
    "    # product_labels_seq contains sequence of WKT geom vectors\n",
    "    product_labels_seq.append(\n",
    "        create_labels.create_instance_bbox(class_name, instance_label)\n",
    "    )\n",
    "\n",
    "    create_labels.populate_labels(str(product_name), product_labels_seq)\n",
    "\n",
    "create_labels.write_labels_to_json(vector_labels_save_fpath, ensure_ascii=True)"
   ]
  },
  {
   "cell_type": "code",
   "execution_count": 6,
   "id": "b4da81e9",
   "metadata": {},
   "outputs": [
    {
     "data": {
      "text/plain": [
       "{'product_file': 'ICEYE_GRD_54549_20210427T215124_hollow_10x10pixels_fake_2.tif',\n",
       " 'labels': {'objects': [{'class': 'rand-c',\n",
       "    'bbox': {'xmin': 5, 'ymin': 8, 'xmax': 9, 'ymax': 9}},\n",
       "   [{'class': 'rand-c', 'bbox': {'xmin': 5, 'ymin': 3, 'xmax': 6, 'ymax': 6}}],\n",
       "   [{'class': 'rand-b', 'bbox': {'xmin': 8, 'ymin': 2, 'xmax': 9, 'ymax': 9}}],\n",
       "   [{'class': 'rand-a', 'bbox': {'xmin': 7, 'ymin': 2, 'xmax': 9, 'ymax': 4}}],\n",
       "   [{'class': 'rand-c', 'bbox': {'xmin': 3, 'ymin': 5, 'xmax': 4, 'ymax': 9}}],\n",
       "   [{'class': 'rand-c', 'bbox': {'xmin': 5, 'ymin': 8, 'xmax': 7, 'ymax': 9}}],\n",
       "   [{'class': 'rand-c', 'bbox': {'xmin': 3, 'ymin': 5, 'xmax': 5, 'ymax': 6}}],\n",
       "   [{'class': 'rand-b', 'bbox': {'xmin': 1, 'ymin': 1, 'xmax': 2, 'ymax': 4}}],\n",
       "   [{'class': 'rand-b', 'bbox': {'xmin': 6, 'ymin': 3, 'xmax': 6, 'ymax': 8}}],\n",
       "   [{'class': 'rand-a', 'bbox': {'xmin': 0, 'ymin': 3, 'xmax': 3, 'ymax': 9}}],\n",
       "   [{'class': 'rand-b', 'bbox': {'xmin': 4, 'ymin': 7, 'xmax': 8, 'ymax': 8}}],\n",
       "   [{'class': 'rand-c', 'bbox': {'xmin': 9, 'ymin': 1, 'xmax': 9, 'ymax': 1}}],\n",
       "   [{'class': 'rand-a', 'bbox': {'xmin': 0, 'ymin': 9, 'xmax': 0, 'ymax': 9}}],\n",
       "   [{'class': 'rand-a', 'bbox': {'xmin': 4, 'ymin': 2, 'xmax': 5, 'ymax': 4}}],\n",
       "   [{'class': 'rand-b', 'bbox': {'xmin': 9, 'ymin': 8, 'xmax': 9, 'ymax': 8}}],\n",
       "   [{'class': 'rand-c', 'bbox': {'xmin': 6, 'ymin': 0, 'xmax': 6, 'ymax': 6}}],\n",
       "   [{'class': 'rand-b', 'bbox': {'xmin': 7, 'ymin': 7, 'xmax': 8, 'ymax': 8}}],\n",
       "   [{'class': 'rand-a', 'bbox': {'xmin': 6, 'ymin': 7, 'xmax': 9, 'ymax': 7}}],\n",
       "   [{'class': 'rand-a', 'bbox': {'xmin': 8, 'ymin': 6, 'xmax': 9, 'ymax': 7}}],\n",
       "   [{'class': 'rand-b', 'bbox': {'xmin': 8, 'ymin': 2, 'xmax': 9, 'ymax': 4}}],\n",
       "   [{'class': 'rand-b', 'bbox': {'xmin': 4, 'ymin': 2, 'xmax': 7, 'ymax': 2}}],\n",
       "   [{'class': 'rand-b', 'bbox': {'xmin': 6, 'ymin': 8, 'xmax': 8, 'ymax': 9}}],\n",
       "   [{'class': 'rand-c', 'bbox': {'xmin': 5, 'ymin': 5, 'xmax': 7, 'ymax': 6}}],\n",
       "   [{'class': 'rand-c', 'bbox': {'xmin': 5, 'ymin': 2, 'xmax': 9, 'ymax': 4}}],\n",
       "   [{'class': 'rand-a', 'bbox': {'xmin': 9, 'ymin': 2, 'xmax': 9, 'ymax': 6}}],\n",
       "   [{'class': 'rand-a', 'bbox': {'xmin': 2, 'ymin': 1, 'xmax': 2, 'ymax': 7}}],\n",
       "   [{'class': 'rand-a', 'bbox': {'xmin': 4, 'ymin': 6, 'xmax': 8, 'ymax': 8}}],\n",
       "   [{'class': 'rand-c', 'bbox': {'xmin': 1, 'ymin': 8, 'xmax': 7, 'ymax': 8}}],\n",
       "   [{'class': 'rand-b', 'bbox': {'xmin': 6, 'ymin': 2, 'xmax': 8, 'ymax': 5}}],\n",
       "   [{'class': 'rand-b', 'bbox': {'xmin': 4, 'ymin': 9, 'xmax': 5, 'ymax': 9}}],\n",
       "   [{'class': 'rand-c', 'bbox': {'xmin': 3, 'ymin': 1, 'xmax': 7, 'ymax': 4}}],\n",
       "   [{'class': 'rand-a', 'bbox': {'xmin': 7, 'ymin': 0, 'xmax': 7, 'ymax': 3}}],\n",
       "   [{'class': 'rand-a', 'bbox': {'xmin': 1, 'ymin': 0, 'xmax': 3, 'ymax': 1}}],\n",
       "   [{'class': 'rand-c',\n",
       "     'bbox': {'xmin': 5, 'ymin': 8, 'xmax': 5, 'ymax': 9}}]]}}"
      ]
     },
     "execution_count": 6,
     "metadata": {},
     "output_type": "execute_result"
    }
   ],
   "source": [
    "# Here is a glimpse at how labels look like for a single image in the stack:\n",
    "create_labels.labels_collection[0]"
   ]
  },
  {
   "cell_type": "markdown",
   "id": "ee3652e8",
   "metadata": {},
   "source": [
    "Please note that we can follow similar structure for other WKT geometries like Polygons, Points and easily create JSON files with labels. Sample vector labels can be found under `tests/resources/labels/dummy_vector_labels.json` for reference."
   ]
  },
  {
   "cell_type": "markdown",
   "id": "f9b7ce4c",
   "metadata": {},
   "source": [
    "### 2. Example with Raster Labels\n",
    "\n",
    "Similar to above example with vector labels, we can ingest rasters as segmentation labels too. This example quickly highlights the workflow to create icecube-friendly raster JSON structure.  "
   ]
  },
  {
   "cell_type": "markdown",
   "id": "d81e4e57",
   "metadata": {},
   "source": [
    "Creating JSON structure for raster labels is relatively straightforward. We simply maintain a dictionary where key represents the product-file (or the image) and value represents the raster as label. \n",
    "For this example, we will use the sample masks inside `tests/resources` "
   ]
  },
  {
   "cell_type": "code",
   "execution_count": 7,
   "id": "8230bbca",
   "metadata": {},
   "outputs": [],
   "source": [
    "masks_dir = os.path.join(resource_dir, \"masks/\")\n",
    "raster_dir = os.path.join(resource_dir, \"grd_stack/\")\n",
    "\n",
    "raster_names = [\n",
    "    \"ICEYE_GRD_SLED_54549_20210427T215124_hollow_10x10pixels_fake_0.tif\",\n",
    "    \"ICEYE_GRD_SLED_54549_20210427T215124_hollow_10x10pixels_fake_1.tif\",\n",
    "    \"ICEYE_GRD_SLED_54549_20210427T215124_hollow_10x10pixels_fake_2.tif\",\n",
    "]\n",
    "\n",
    "masks_names = [\n",
    "    \"ICEYE_GRD_SLED_54549_20210427T215124_hollow_10x10pixels_fake_0.png\",\n",
    "    \"ICEYE_GRD_SLED_54549_20210427T215124_hollow_10x10pixels_fake_1.png\",\n",
    "    \"ICEYE_GRD_SLED_54549_20210427T215124_hollow_10x10pixels_fake_2.png\",\n",
    "]\n",
    "\n",
    "masks_fpaths = [os.path.join(masks_dir, fpath) for fpath in masks_names]\n",
    "\n",
    "# Create a dictionary where key:value pair represents raster:mask\n",
    "\n",
    "raster_mask_dict = {}\n",
    "for raster_name, mask_fpath in zip(raster_names, masks_fpaths):\n",
    "    raster_mask_dict[raster_name] = mask_fpath\n",
    "\n",
    "create_labels = CreateLabels(\"raster\")\n",
    "\n",
    "for product_name, mask_fpath in raster_mask_dict.items():\n",
    "    seg_mask = create_labels.create_instance_segmentation(mask_fpath)\n",
    "    create_labels.populate_labels(product_name, seg_mask)\n",
    "\n",
    "create_labels.write_labels_to_json(raster_labels_save_fpath)"
   ]
  },
  {
   "cell_type": "markdown",
   "id": "bca13dfe",
   "metadata": {},
   "source": [
    "This is how our JSON file looks like for raster labels.\n",
    "\n",
    "`/home/user/runner/` simply indicates the local filepath of rasters\n",
    "\n",
    "```\n",
    "[\n",
    "    {\n",
    "        \"product_file\": \"ICEYE_GRD_SLED_54549_20210427T215124_hollow_10x10pixels_fake_0.tif\",\n",
    "        \"labels\": {\n",
    "            \"segmentation\": \"/home/user/runner/icecube/tests/resources/masks/ICEYE_GRD_SLED_54549_20210427T215124_hollow_10x10pixels_fake_0.png\"\n",
    "        }\n",
    "    },\n",
    "    {\n",
    "        \"product_file\": \"ICEYE_GRD_SLED_54549_20210427T215124_hollow_10x10pixels_fake_1.tif\",\n",
    "        \"labels\": {\n",
    "            \"segmentation\": \"/home/user/runner/icecube/tests/resources/masks/ICEYE_GRD_SLED_54549_20210427T215124_hollow_10x10pixels_fake_1.png\"\n",
    "        }\n",
    "    },\n",
    "    {\n",
    "        \"product_file\": \"ICEYE_GRD_SLED_54549_20210427T215124_hollow_10x10pixels_fake_2.tif\",\n",
    "        \"labels\": {\n",
    "            \"segmentation\": \"/home/user/runner/icecube/tests/resources/masks/ICEYE_GRD_SLED_54549_20210427T215124_hollow_10x10pixels_fake_2.png\"\n",
    "        }\n",
    "    }\n",
    "]\n",
    "```"
   ]
  },
  {
   "cell_type": "markdown",
   "id": "a26dc84a",
   "metadata": {},
   "source": [
    "## Populating Datacubes with Labels\n",
    "\n",
    "Once we have create the icecube formatted JSON structure either for vector geometries or for raster labels, it is fairly straightforward to convert them to an `xr.Dataset` or append them to an already created `xr.Dataset`"
   ]
  },
  {
   "cell_type": "code",
   "execution_count": 8,
   "id": "1fbadc41",
   "metadata": {},
   "outputs": [],
   "source": [
    "# First thing first, some imports\n",
    "from icecube.bin.labels_cube.labels_cube_generator import LabelsDatacubeGenerator\n",
    "from icecube.bin.config import CubeConfig\n",
    "from icecube.bin.datacube import Datacube"
   ]
  },
  {
   "cell_type": "code",
   "execution_count": 9,
   "id": "cb9f284d",
   "metadata": {},
   "outputs": [
    {
     "name": "stderr",
     "output_type": "stream",
     "text": [
      "09/07/2021 05:28:38 PM - sar_datacube_metadata.py - [INFO] - Building the metadata from the folder /mnt/xor/ICEYE_PACKAGES/icecube/tests/resources/grd_stack using GRD\n",
      "processing rasters for labels cube: 100%|██████████| 3/3 [00:00<00:00, 3634.58it/s]\n",
      "09/07/2021 05:28:38 PM - common_utils.py - [INFO] - create running time is 0.0163 seconds\n"
     ]
    }
   ],
   "source": [
    "# Let's create a Datacube from our labels.json file. For demo purposes, we will use only vector labels.\n",
    "\n",
    "config_dir = os.path.join(resource_dir, \"json_config/\")\n",
    "default_config_fpath = os.path.join(config_dir, \"config_use_case_default.json\")\n",
    "\n",
    "raster_dir = os.path.join(resource_dir, \"grd_stack\")\n",
    "\n",
    "dummy_vector_labels_fpath = os.path.join(\n",
    "    resource_dir, \"labels/dummy_vector_labels.json\"\n",
    ")\n",
    "\n",
    "cc = CubeConfig()\n",
    "product_type = \"GRD\"\n",
    "\n",
    "\n",
    "cc.load_config(default_config_fpath)\n",
    "labels_datacube = LabelsDatacubeGenerator.build(\n",
    "    cc, product_type, dummy_vector_labels_fpath, raster_dir\n",
    ")\n",
    "\n",
    "labels_datacube.to_file(cube_save_path)"
   ]
  },
  {
   "cell_type": "markdown",
   "id": "53637420",
   "metadata": {},
   "source": [
    "And that was it, we have a labels datacube generated! 🎉\n",
    ".\n",
    "For inspecting the elements of labels datacube, it is recommended to convert associated `xr.Dataset` to the `Datacube` core class, as it provides ready methods to process datacubes. More details on the `Datacube` core class be found in demo notebook:  **[Ex4_Datacube](https://iceye-ltd.github.io/icecube/examples/Ex4_Datacube.ipynb)**"
   ]
  },
  {
   "cell_type": "code",
   "execution_count": 10,
   "id": "36bf7849",
   "metadata": {},
   "outputs": [
    {
     "data": {
      "text/plain": [
       "icecube.bin.labels_cube.vector_labels.VectorLabels"
      ]
     },
     "execution_count": 10,
     "metadata": {},
     "output_type": "execute_result"
    }
   ],
   "source": [
    "# We can see that returned object is an instance of class VectorLabels\n",
    "type(labels_datacube)"
   ]
  },
  {
   "cell_type": "code",
   "execution_count": 11,
   "id": "6361ce5c",
   "metadata": {},
   "outputs": [
    {
     "name": "stdout",
     "output_type": "stream",
     "text": [
      "['Labels']\n"
     ]
    }
   ],
   "source": [
    "# We can throw `labels_datacube.xrDataset` to Datacube core class to easily access useful operations on the cube\n",
    "dc = Datacube().set_xrdataset(labels_datacube.xrdataset)\n",
    "print(dc.get_data_variables())"
   ]
  },
  {
   "cell_type": "code",
   "execution_count": 12,
   "id": "827d4b48",
   "metadata": {
    "scrolled": false
   },
   "outputs": [
    {
     "name": "stdout",
     "output_type": "stream",
     "text": [
      "Associated labels with product-file: ICEYE_GRD_54549_20210427T215124_hollow_10x10pixels_fake_1.tif are \n",
      "\n"
     ]
    },
    {
     "data": {
      "text/plain": [
       "{'objects': [{'class': 'rand-b',\n",
       "   'bbox': {'xmin': 1, 'ymin': 0, 'xmax': 5, 'ymax': 9}},\n",
       "  {'class': 'rand-b', 'bbox': {'xmin': 8, 'ymin': 9, 'xmax': 8, 'ymax': 9}},\n",
       "  {'class': 'rand-b', 'bbox': {'xmin': 6, 'ymin': 9, 'xmax': 8, 'ymax': 9}},\n",
       "  {'class': 'rand-b', 'bbox': {'xmin': 9, 'ymin': 0, 'xmax': 9, 'ymax': 3}},\n",
       "  {'class': 'rand-b', 'bbox': {'xmin': 5, 'ymin': 7, 'xmax': 9, 'ymax': 8}},\n",
       "  {'class': 'rand-c', 'bbox': {'xmin': 9, 'ymin': 7, 'xmax': 9, 'ymax': 8}},\n",
       "  {'class': 'rand-a', 'bbox': {'xmin': 6, 'ymin': 5, 'xmax': 6, 'ymax': 5}},\n",
       "  {'class': 'rand-c', 'bbox': {'xmin': 2, 'ymin': 9, 'xmax': 2, 'ymax': 9}},\n",
       "  {'class': 'rand-b', 'bbox': {'xmin': 2, 'ymin': 7, 'xmax': 6, 'ymax': 7}},\n",
       "  {'class': 'rand-a', 'bbox': {'xmin': 5, 'ymin': 5, 'xmax': 8, 'ymax': 8}},\n",
       "  {'class': 'rand-c', 'bbox': {'xmin': 5, 'ymin': 3, 'xmax': 5, 'ymax': 4}},\n",
       "  {'class': 'rand-a', 'bbox': {'xmin': 9, 'ymin': 5, 'xmax': 9, 'ymax': 5}},\n",
       "  {'class': 'rand-a', 'bbox': {'xmin': 0, 'ymin': 5, 'xmax': 7, 'ymax': 8}},\n",
       "  {'class': 'rand-c', 'bbox': {'xmin': 8, 'ymin': 4, 'xmax': 8, 'ymax': 8}},\n",
       "  {'class': 'rand-c', 'bbox': {'xmin': 3, 'ymin': 2, 'xmax': 5, 'ymax': 9}},\n",
       "  {'class': 'rand-b', 'bbox': {'xmin': 7, 'ymin': 2, 'xmax': 7, 'ymax': 6}},\n",
       "  {'class': 'rand-b', 'bbox': {'xmin': 9, 'ymin': 2, 'xmax': 9, 'ymax': 9}},\n",
       "  {'class': 'rand-a', 'bbox': {'xmin': 2, 'ymin': 1, 'xmax': 6, 'ymax': 2}},\n",
       "  {'class': 'rand-b', 'bbox': {'xmin': 7, 'ymin': 5, 'xmax': 8, 'ymax': 9}},\n",
       "  {'class': 'rand-a', 'bbox': {'xmin': 9, 'ymin': 2, 'xmax': 9, 'ymax': 9}},\n",
       "  {'class': 'rand-b', 'bbox': {'xmin': 6, 'ymin': 6, 'xmax': 9, 'ymax': 7}},\n",
       "  {'class': 'rand-c', 'bbox': {'xmin': 6, 'ymin': 3, 'xmax': 6, 'ymax': 9}},\n",
       "  {'class': 'rand-b', 'bbox': {'xmin': 8, 'ymin': 3, 'xmax': 8, 'ymax': 3}},\n",
       "  {'class': 'rand-a', 'bbox': {'xmin': 8, 'ymin': 3, 'xmax': 8, 'ymax': 8}},\n",
       "  {'class': 'rand-a', 'bbox': {'xmin': 4, 'ymin': 7, 'xmax': 7, 'ymax': 8}},\n",
       "  {'class': 'rand-a', 'bbox': {'xmin': 2, 'ymin': 1, 'xmax': 2, 'ymax': 7}},\n",
       "  {'class': 'rand-b', 'bbox': {'xmin': 3, 'ymin': 7, 'xmax': 6, 'ymax': 7}},\n",
       "  {'class': 'rand-b', 'bbox': {'xmin': 1, 'ymin': 4, 'xmax': 3, 'ymax': 4}},\n",
       "  {'class': 'rand-c', 'bbox': {'xmin': 6, 'ymin': 1, 'xmax': 7, 'ymax': 6}},\n",
       "  {'class': 'rand-b', 'bbox': {'xmin': 8, 'ymin': 4, 'xmax': 9, 'ymax': 9}},\n",
       "  {'class': 'rand-a', 'bbox': {'xmin': 4, 'ymin': 3, 'xmax': 7, 'ymax': 9}},\n",
       "  {'class': 'rand-a', 'bbox': {'xmin': 9, 'ymin': 3, 'xmax': 9, 'ymax': 6}},\n",
       "  {'class': 'rand-a', 'bbox': {'xmin': 4, 'ymin': 4, 'xmax': 5, 'ymax': 4}},\n",
       "  {'class': 'rand-a', 'bbox': {'xmin': 6, 'ymin': 7, 'xmax': 6, 'ymax': 7}},\n",
       "  {'class': 'rand-b', 'bbox': {'xmin': 4, 'ymin': 3, 'xmax': 5, 'ymax': 8}},\n",
       "  {'class': 'rand-c', 'bbox': {'xmin': 5, 'ymin': 7, 'xmax': 9, 'ymax': 8}},\n",
       "  {'class': 'rand-c', 'bbox': {'xmin': 7, 'ymin': 9, 'xmax': 9, 'ymax': 9}},\n",
       "  {'class': 'rand-b', 'bbox': {'xmin': 9, 'ymin': 7, 'xmax': 9, 'ymax': 9}},\n",
       "  {'class': 'rand-a', 'bbox': {'xmin': 2, 'ymin': 2, 'xmax': 8, 'ymax': 7}},\n",
       "  {'class': 'rand-b', 'bbox': {'xmin': 7, 'ymin': 8, 'xmax': 7, 'ymax': 8}}]}"
      ]
     },
     "execution_count": 12,
     "metadata": {},
     "output_type": "execute_result"
    }
   ],
   "source": [
    "# Finally we can easily see what is inside our datacube easily for one of our products\n",
    "labels_xrarray = dc.get_xrarray(\"Labels\")\n",
    "POI = dc.get_all_products(labels_xrarray)[0]\n",
    "print(\"Associated labels with product-file: {} are \\n\".format(POI))\n",
    "dc.get_product_values(POI, labels_xrarray)"
   ]
  },
  {
   "cell_type": "markdown",
   "id": "de715851",
   "metadata": {},
   "source": [
    "Great, our vector geometries are preserved inside datacube. Similarly we can show it for our raster labels. We will leave it as an exercise for you to get your hands dirty on the code for that part."
   ]
  },
  {
   "cell_type": "markdown",
   "id": "4ec4345d",
   "metadata": {},
   "source": [
    "**Happy Coding :)**"
   ]
  }
 ],
 "metadata": {
  "kernelspec": {
   "display_name": "Python 3",
   "language": "python",
   "name": "python3"
  },
  "language_info": {
   "codemirror_mode": {
    "name": "ipython",
    "version": 3
   },
   "file_extension": ".py",
   "mimetype": "text/x-python",
   "name": "python",
   "nbconvert_exporter": "python",
   "pygments_lexer": "ipython3",
   "version": "3.8.8"
  }
 },
 "nbformat": 4,
 "nbformat_minor": 5
}
