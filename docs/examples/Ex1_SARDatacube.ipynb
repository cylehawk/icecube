{
 "cells": [
  {
   "cell_type": "markdown",
   "metadata": {},
   "source": [
    "# Ex 1 - SAR Datacube\n",
    "\n",
    "In this example, we will create datacube using a stack of Ground Range Detected (GRD) images and Single Look Complex (SLC) images. \n",
    "\n",
    "The aim of the example is to show how to create datacubes from raster (GRD/SLC) directory, read the generated datacubes as a `SARDatacube` object, display the array, run some simple metadata queries, and then save the datacube in netCDF format.\n",
    "\n",
    "ICEcube works with two different data types:\n",
    "\n",
    " - The GRD - Ground Range Detected images are georegistered rasters. ICEYE uses the .tif format. This image has only signal intensity and not the complex information.\n",
    "\n",
    "- SLC - The Single Look Complex files from ICEYE are in the.hdf5 format, the SLC products preserve the phase information."
   ]
  },
  {
   "cell_type": "code",
   "execution_count": 5,
   "metadata": {},
   "outputs": [],
   "source": [
    "import os,sys,inspect\n",
    "import numpy as np\n",
    "from os.path import dirname, abspath, join\n",
    "import icecube\n",
    "from icecube.bin.sar_cube.grd_datacube import GRDDatacube\n",
    "from icecube.bin.sar_cube.slc_datacube import SLCDatacube\n",
    "from icecube.bin.config import CubeConfig \n",
    "import matplotlib.pyplot as plt\n",
    "from pathlib import Path \n",
    "from icecube.bin.datacube_variables import NAME_INTENSITY_BAND"
   ]
  },
  {
   "cell_type": "markdown",
   "metadata": {},
   "source": [
    "## Creating  a Datacube from GRDs"
   ]
  },
  {
   "cell_type": "markdown",
   "metadata": {},
   "source": [
    "Modify the following paths based on your use case. For the purpose of this demo, we'll work on a subset of images used for testing the library."
   ]
  },
  {
   "cell_type": "code",
   "execution_count": 6,
   "metadata": {
    "scrolled": true
   },
   "outputs": [
    {
     "name": "stdout",
     "output_type": "stream",
     "text": [
      "The GRDs used for the demo are located at local_path/icecube/tests/resources/\n"
     ]
    }
   ],
   "source": [
    "icecube_abspath = str(Path(icecube.__file__).parent.parent)\n",
    "test_dir_grds = os.path.join(icecube_abspath, \"tests/resources/grd_stack\")\n",
    "test_dir_slcs = os.path.join(icecube_abspath, \"tests/resources/slc_stack\")\n",
    "print(f\"The GRDs used for the demo are located at local_path/icecube/tests/resources/\")"
   ]
  },
  {
   "cell_type": "markdown",
   "metadata": {},
   "source": [
    "The first step is to create or edit the config file, which is a json file containing the parameters that you want to modify for the datacube construction."
   ]
  },
  {
   "cell_type": "markdown",
   "metadata": {},
   "source": [
    "### Config"
   ]
  },
  {
   "cell_type": "markdown",
   "metadata": {},
   "source": [
    "Configuring datacubes by a .json file provides a convenient way for the user to build datacubes from a monolithic directory of SAR images without worrying about the manual selection of SAR data. You can dump all SAR images into a common directory and slice the information per your need by specifying the date range. Seasonality effects with the datacubes can also be analyzed by slicing information for the required dates.  Be it an event of interest of a short time period or repeated nature, you can configure the datacubes to suit your application needs.\n",
    "\n",
    "The following is a brief description of the parameters that can be passed to configure datacubes:\n",
    "\n",
    "- `start_date`: The date from which the SAR images will be considered for the stack (format: int/str %Y%M%D)\n",
    "- `end_date`: The last date of the image stack (format: int/str %Y%M%D)\n",
    "- `min_incidence_angle`: The lowest incidence angle in the image stack (format: float/int)\n",
    "- `max_incidence_angle`:  The highest incidence angle in the image stack (format: float/int)\n",
    "- `temporal_resolution`: The observation interval (number of days) to be considered between the images in the stack (format: float/int)\n",
    "- `temporal_overlap`: To decide whether images with the same date should be considered (format: bool/int)\n",
    "\n",
    "If the default user configuration is used, all images inside the directory are considered for building the datacubes and no pruning on dates or incidence angles is performed. "
   ]
  },
  {
   "cell_type": "code",
   "execution_count": 7,
   "metadata": {},
   "outputs": [],
   "source": [
    "cube_config = CubeConfig()\n",
    "\n",
    "# If you want to load config parameters;\n",
    "#cube_config.load_config(cube_config_path)\n",
    "\n",
    "# Example json:\n",
    "#{\n",
    "#    \"start_date\": \"20200402\",\n",
    "#    \"end_date\": \"20210420\",\n",
    "#    \"min_incidence_angle\": 20,\n",
    "#    \"max_incidence_angle\": 21,\n",
    "#    \"temporal_resolution\": 1,\n",
    "#    \"coregistered\": true,\n",
    "#    \"space_overlap\": true,\n",
    "#    \"temporal_overlap\": true\n",
    "#}"
   ]
  },
  {
   "cell_type": "code",
   "execution_count": 8,
   "metadata": {},
   "outputs": [
    {
     "name": "stderr",
     "output_type": "stream",
     "text": [
      "09/07/2021 04:07:10 PM - sar_datacube_metadata.py - [INFO] - Building the metadata from the folder /mnt/xor/ICEYE_PACKAGES/icecube/tests/resources/grd_stack using GRD\n",
      "processing rasters for cubes: 100%|██████████| 3/3 [00:00<00:00, 182.52it/s]\n",
      "09/07/2021 04:07:10 PM - common_utils.py - [INFO] - create running time is 0.0331 seconds\n"
     ]
    }
   ],
   "source": [
    "# build the datacube composed by a stack of GRD\n",
    "\n",
    "# The program will execute the following steps:\n",
    "#  - Fetch the metadata of the images\n",
    "#  - Build a dataframe containing the metadata\n",
    "#  - Apply the filtering (sort by date, select by angle)\n",
    "#  - From the filtered metadata, it will load the data accordingly \n",
    "\n",
    "grd_datacube = GRDDatacube.build(cube_config, test_dir_grds)"
   ]
  },
  {
   "cell_type": "markdown",
   "metadata": {},
   "source": [
    "### `GRDDatacube` object\n",
    "\n",
    "Every `GRDDatacube` object is a `SARDatacube`\n",
    "\n",
    "These have multiple methods:\n",
    "\n",
    "- `.cube_config` -> As seen above, the configuration is the one used to create the datacube. We can modify those parameters by defining a json file that will overload every parameters. \n",
    "\n",
    "\n",
    "- `.xrdataset` -> This is theXarray.Dataset containing the stack of images, (Azimuth, Range and Band). Each image is loaded using dask (for memory optimization) and then tranformed into an Xarray.Dataarray. There is one temporal layer in the datacube for each GRD file found in your directory.\n",
    "\n",
    "\n",
    "- `.get_metadata(temporal_index)` ->  Returns the metadata of the image at the certain index, this is Dict[str, str] representing the images"
   ]
  },
  {
   "cell_type": "code",
   "execution_count": 9,
   "metadata": {},
   "outputs": [
    {
     "data": {
      "text/plain": [
       "<bound method Dataset.head of <xarray.Dataset>\n",
       "Dimensions:    (Azimuth: 10, Band: 3, Range: 10)\n",
       "Coordinates:\n",
       "  * Azimuth    (Azimuth) int64 0 1 2 3 4 5 6 7 8 9\n",
       "  * Range      (Range) int64 0 1 2 3 4 5 6 7 8 9\n",
       "  * Band       (Band) datetime64[ns] 2021-04-27 2021-04-28 2021-05-27\n",
       "Data variables:\n",
       "    Intensity  (Band, Azimuth, Range) uint16 329 389 217 418 ... 597 85 482 334>"
      ]
     },
     "execution_count": 9,
     "metadata": {},
     "output_type": "execute_result"
    }
   ],
   "source": [
    "# You can access the dataset, for an easy visualization. The 'Band' dimension shows the number of GRD images stacked from your input path.\n",
    "grd_datacube.xrdataset.head"
   ]
  },
  {
   "cell_type": "code",
   "execution_count": 10,
   "metadata": {},
   "outputs": [
    {
     "data": {
      "text/plain": [
       "Frozen(SortedKeysDict({'Azimuth': 10, 'Range': 10, 'Band': 3}))"
      ]
     },
     "execution_count": 10,
     "metadata": {},
     "output_type": "execute_result"
    }
   ],
   "source": [
    "# Access the array dimensions\n",
    "grd_datacube.xrdataset.dims"
   ]
  },
  {
   "cell_type": "code",
   "execution_count": 11,
   "metadata": {},
   "outputs": [
    {
     "data": {
      "text/plain": [
       "<matplotlib.image.AxesImage at 0x7f9552bd5cd0>"
      ]
     },
     "execution_count": 11,
     "metadata": {},
     "output_type": "execute_result"
    },
    {
     "data": {
      "image/png": "[encoded data removed]",
      "text/plain": [
       "<Figure size 432x288 with 2 Axes>"
      ]
     },
     "metadata": {
      "needs_background": "light"
     },
     "output_type": "display_data"
    }
   ],
   "source": [
    "# Let's visualize the intensity component of the grd_datacube for the first and last image of the stack. \n",
    "# Will convert the data to bytes (from float64), so we can see something.\n",
    "\n",
    "fig, ax = plt.subplots(1,2)\n",
    "\n",
    "#First image in the stack\n",
    "ax[0].imshow(np.byte(grd_datacube.xrdataset['Intensity'][0].values))\n",
    "\n",
    "#Last image in the stack\n",
    "ax[1].imshow(np.byte(grd_datacube.xrdataset['Intensity'][-1].values))"
   ]
  },
  {
   "cell_type": "code",
   "execution_count": 12,
   "metadata": {},
   "outputs": [
    {
     "name": "stdout",
     "output_type": "stream",
     "text": [
      "(3, 10, 10)\n",
      "The time series for the pixel located to the pixel (1,1) is [508  81 525]\n"
     ]
    }
   ],
   "source": [
    "# Slice the stack at the pixel level. If the GRD stack are co-located images at different times, you are slicing by time at this point:\n",
    "# Let's pick the first pixel in range and aziumuth for all images in the stack. \n",
    "\n",
    "#Check the shape of the stack again\n",
    "print(grd_datacube.xrdataset['Intensity'].shape)\n",
    "\n",
    "#the stack depth is the first dimension of the array\n",
    "pixel_time_series = grd_datacube.xrdataset['Intensity'][:,1,1].values\n",
    "print(f\"The time series for the pixel located to the pixel (1,1) is {pixel_time_series}\")"
   ]
  },
  {
   "cell_type": "markdown",
   "metadata": {},
   "source": [
    "The raw ICEYE image metadata for each image can be accessed using the method `get_metadata(attributes, datavars, cube_index)`or directly using attrs of the xarray.Dataset[data_vars]\n",
    "\n",
    "\n",
    "grd_datacube.xrdataset[\"intensity\"].attrs will return a dict[str, list]\n",
    "\n",
    "- `key` represents the metadata key\n",
    "- `vlues` represents the values associated with each layer of the datacube - a missing value is represented by `None`"
   ]
  },
  {
   "cell_type": "code",
   "execution_count": 13,
   "metadata": {},
   "outputs": [
    {
     "data": {
      "text/plain": [
       "dict_keys(['azimuth_time_interval', 'ant_elev_corr_flag', 'product_file', 'tropo_range_delay', 'incidence_angle_ground_range_origin', 'number_of_dc_estimations', 'chirp_duration', 'velY', 'orbit_absolute_number', 'posY', 'orbit_direction', 'calibration_factor', 'incidence_angle_poly_order', 'total_processed_bandwidth_azimuth', 'gcp_terrain_model', 'acquisition_mode', 'range_looks', 'incidence_near', 'coord_center', 'acquisition_end_utc', 'spec_version', 'state_vector_time_utc', 'posX', 'heading', 'number_of_range_samples', 'product_level', 'mean_orbit_altitude', 'grsr_coefficients', 'acquisition_prf', 'grsr_poly_order', 'azimuth_looks', 'azimuth_look_overlap', 'product_name', 'range_look_bandwidth', 'look_side', 'azimuth_spacing', 'satellite_look_angle', 'incidence_center', 'geo_ref_system', 'carrier_frequency', 'sample_precision', 'coord_last_near', 'doppler_rate_poly_order', 'range_sampling_rate', 'number_of_azimuth_samples', 'orbit_relative_number', 'coord_first_far', 'velX', 'polarization', 'incidence_angle_zero_doppler_time', 'applied_processing', 'acquisition_start_utc', 'velZ', 'processing_time', 'zerodoppler_start_utc', 'dc_estimate_coeffs', 'incidence_far', 'dc_estimate_time_utc', 'processing_prf', 'slant_range_to_first_pixel', 'zerodoppler_end_utc', 'range_look_overlap', 'satellite_name', 'area_or_point', 'orbit_processing_level', 'posZ', 'doppler_rate_coeffs', 'avg_scene_height', 'coord_first_near', 'range_spread_comp_flag', 'product_type', 'mean_earth_radius', 'azimuth_look_bandwidth', 'orbit_repeat_cycle', 'chirp_bandwidth', 'range_spacing', 'grsr_ground_range_origin', 'grsr_zero_doppler_time', 'number_of_state_vectors', 'processor_version', 'coord_last_far', 'dc_estimate_poly_order', 'incidence_angle_coefficients', 'window_function_azimuth', 'window_function_range'])"
      ]
     },
     "execution_count": 13,
     "metadata": {},
     "output_type": "execute_result"
    }
   ],
   "source": [
    "# visualize all possibles values\n",
    "grd_datacube.xrdataset['Intensity'].attrs.keys()"
   ]
  },
  {
   "cell_type": "code",
   "execution_count": 14,
   "metadata": {},
   "outputs": [
    {
     "data": {
      "text/plain": [
       "['ICEYE_GRD_54549_20210427T215124_hollow_10x10pixels_fake_1.tif',\n",
       " 'ICEYE_GRD_54549_20210427T215124_hollow_10x10pixels_fake_0.tif',\n",
       " 'ICEYE_GRD_54549_20210427T215124_hollow_10x10pixels_fake_2.tif']"
      ]
     },
     "execution_count": 14,
     "metadata": {},
     "output_type": "execute_result"
    }
   ],
   "source": [
    "# You can see the list of values a specific metadata\n",
    "grd_datacube.xrdataset['Intensity'].attrs['product_file']"
   ]
  },
  {
   "cell_type": "code",
   "execution_count": 15,
   "metadata": {},
   "outputs": [
    {
     "data": {
      "text/plain": [
       "'ICEYE_GRD_54549_20210427T215124_hollow_10x10pixels_fake_1.tif'"
      ]
     },
     "execution_count": 15,
     "metadata": {},
     "output_type": "execute_result"
    }
   ],
   "source": [
    "# If you know what you are looking for, you can directly use the`get_metadata(attr, var, index)` method\n",
    "grd_datacube.get_metadata(\"product_file\", 'Intensity', 0)"
   ]
  },
  {
   "cell_type": "markdown",
   "metadata": {},
   "source": [
    "## Creating  a Datacube from SLCs"
   ]
  },
  {
   "cell_type": "markdown",
   "metadata": {},
   "source": [
    "Following the same logic - you can create a stack from the SLCs images - `SLCDatacube` will return a `SARDatacube` that means that you have access to the same functionalities using either SLCs or GRDs as input"
   ]
  },
  {
   "cell_type": "markdown",
   "metadata": {},
   "source": [
    "### `SLCDatacube` object\n",
    "\n",
    "Every `SLCDatacube` object is a `SARDatacube`\n",
    "\n",
    "You can access the data, using the `xrdataset` attribute:\n",
    "\n",
    "- `.xrdataset` -> This is theXarray.Dataset containing the stack of images, (Azimuth, Range and temporal dimension). Each image is loaded using dask (for memory optimization) and then tranformed into an Xarray.DataArray. There is one temporal layer in the datacube for each SLC file found in your directory."
   ]
  },
  {
   "cell_type": "code",
   "execution_count": 16,
   "metadata": {},
   "outputs": [
    {
     "name": "stderr",
     "output_type": "stream",
     "text": [
      "09/07/2021 04:07:10 PM - sar_datacube_metadata.py - [INFO] - Building the metadata from the folder /mnt/xor/ICEYE_PACKAGES/icecube/tests/resources/slc_stack using SLC\n",
      "processing rasters for cubes: 100%|██████████| 3/3 [00:00<00:00, 29.13it/s]\n",
      "09/07/2021 04:07:10 PM - common_utils.py - [INFO] - create running time is 0.1878 seconds\n"
     ]
    }
   ],
   "source": [
    "slc_datacube = SLCDatacube.build(cube_config, test_dir_slcs)"
   ]
  },
  {
   "cell_type": "markdown",
   "metadata": {},
   "source": [
    "Each image pixel is represented by a complex (I and Q) magnitude value and therefore contains both amplitude and phase information.  The processing for all SLC products results in a single look in each dimension using the full available signal bandwidth. The imagery is geo-referenced using orbit and attitude data from the satellite. SLC images are produced in a zero Doppler geometry. This convention is common with the standard slant range products available from other SAR sensors.\n",
    "\n",
    "Creating the datacube using SLCs will result with 2 bands, `Real` and `Complex` information."
   ]
  },
  {
   "cell_type": "code",
   "execution_count": 17,
   "metadata": {},
   "outputs": [
    {
     "data": {
      "text/html": [
       "<div><svg style=\"position: absolute; width: 0; height: 0; overflow: hidden\">\n",
       "<defs>\n",
       "<symbol id=\"icon-database\" viewBox=\"0 0 32 32\">\n",
       "<path d=\"M16 0c-8.837 0-16 2.239-16 5v4c0 2.761 7.163 5 16 5s16-2.239 16-5v-4c0-2.761-7.163-5-16-5z\"></path>\n",
       "<path d=\"M16 17c-8.837 0-16-2.239-16-5v6c0 2.761 7.163 5 16 5s16-2.239 16-5v-6c0 2.761-7.163 5-16 5z\"></path>\n",
       "<path d=\"M16 26c-8.837 0-16-2.239-16-5v6c0 2.761 7.163 5 16 5s16-2.239 16-5v-6c0 2.761-7.163 5-16 5z\"></path>\n",
       "</symbol>\n",
       "<symbol id=\"icon-file-text2\" viewBox=\"0 0 32 32\">\n",
       "<path d=\"M28.681 7.159c-0.694-0.947-1.662-2.053-2.724-3.116s-2.169-2.030-3.116-2.724c-1.612-1.182-2.393-1.319-2.841-1.319h-15.5c-1.378 0-2.5 1.121-2.5 2.5v27c0 1.378 1.122 2.5 2.5 2.5h23c1.378 0 2.5-1.122 2.5-2.5v-19.5c0-0.448-0.137-1.23-1.319-2.841zM24.543 5.457c0.959 0.959 1.712 1.825 2.268 2.543h-4.811v-4.811c0.718 0.556 1.584 1.309 2.543 2.268zM28 29.5c0 0.271-0.229 0.5-0.5 0.5h-23c-0.271 0-0.5-0.229-0.5-0.5v-27c0-0.271 0.229-0.5 0.5-0.5 0 0 15.499-0 15.5 0v7c0 0.552 0.448 1 1 1h7v19.5z\"></path>\n",
       "<path d=\"M23 26h-14c-0.552 0-1-0.448-1-1s0.448-1 1-1h14c0.552 0 1 0.448 1 1s-0.448 1-1 1z\"></path>\n",
       "<path d=\"M23 22h-14c-0.552 0-1-0.448-1-1s0.448-1 1-1h14c0.552 0 1 0.448 1 1s-0.448 1-1 1z\"></path>\n",
       "<path d=\"M23 18h-14c-0.552 0-1-0.448-1-1s0.448-1 1-1h14c0.552 0 1 0.448 1 1s-0.448 1-1 1z\"></path>\n",
       "</symbol>\n",
       "</defs>\n",
       "</svg>\n",
       "<style>/* CSS stylesheet for displaying xarray objects in jupyterlab.\n",
       " *\n",
       " */\n",
       "\n",
       ":root {\n",
       "  --xr-font-color0: var(--jp-content-font-color0, rgba(0, 0, 0, 1));\n",
       "  --xr-font-color2: var(--jp-content-font-color2, rgba(0, 0, 0, 0.54));\n",
       "  --xr-font-color3: var(--jp-content-font-color3, rgba(0, 0, 0, 0.38));\n",
       "  --xr-border-color: var(--jp-border-color2, #e0e0e0);\n",
       "  --xr-disabled-color: var(--jp-layout-color3, #bdbdbd);\n",
       "  --xr-background-color: var(--jp-layout-color0, white);\n",
       "  --xr-background-color-row-even: var(--jp-layout-color1, white);\n",
       "  --xr-background-color-row-odd: var(--jp-layout-color2, #eeeeee);\n",
       "}\n",
       "\n",
       "html[theme=dark],\n",
       "body.vscode-dark {\n",
       "  --xr-font-color0: rgba(255, 255, 255, 1);\n",
       "  --xr-font-color2: rgba(255, 255, 255, 0.54);\n",
       "  --xr-font-color3: rgba(255, 255, 255, 0.38);\n",
       "  --xr-border-color: #1F1F1F;\n",
       "  --xr-disabled-color: #515151;\n",
       "  --xr-background-color: #111111;\n",
       "  --xr-background-color-row-even: #111111;\n",
       "  --xr-background-color-row-odd: #313131;\n",
       "}\n",
       "\n",
       ".xr-wrap {\n",
       "  display: block;\n",
       "  min-width: 300px;\n",
       "  max-width: 700px;\n",
       "}\n",
       "\n",
       ".xr-text-repr-fallback {\n",
       "  /* fallback to plain text repr when CSS is not injected (untrusted notebook) */\n",
       "  display: none;\n",
       "}\n",
       "\n",
       ".xr-header {\n",
       "  padding-top: 6px;\n",
       "  padding-bottom: 6px;\n",
       "  margin-bottom: 4px;\n",
       "  border-bottom: solid 1px var(--xr-border-color);\n",
       "}\n",
       "\n",
       ".xr-header > div,\n",
       ".xr-header > ul {\n",
       "  display: inline;\n",
       "  margin-top: 0;\n",
       "  margin-bottom: 0;\n",
       "}\n",
       "\n",
       ".xr-obj-type,\n",
       ".xr-array-name {\n",
       "  margin-left: 2px;\n",
       "  margin-right: 10px;\n",
       "}\n",
       "\n",
       ".xr-obj-type {\n",
       "  color: var(--xr-font-color2);\n",
       "}\n",
       "\n",
       ".xr-sections {\n",
       "  padding-left: 0 !important;\n",
       "  display: grid;\n",
       "  grid-template-columns: 150px auto auto 1fr 20px 20px;\n",
       "}\n",
       "\n",
       ".xr-section-item {\n",
       "  display: contents;\n",
       "}\n",
       "\n",
       ".xr-section-item input {\n",
       "  display: none;\n",
       "}\n",
       "\n",
       ".xr-section-item input + label {\n",
       "  color: var(--xr-disabled-color);\n",
       "}\n",
       "\n",
       ".xr-section-item input:enabled + label {\n",
       "  cursor: pointer;\n",
       "  color: var(--xr-font-color2);\n",
       "}\n",
       "\n",
       ".xr-section-item input:enabled + label:hover {\n",
       "  color: var(--xr-font-color0);\n",
       "}\n",
       "\n",
       ".xr-section-summary {\n",
       "  grid-column: 1;\n",
       "  color: var(--xr-font-color2);\n",
       "  font-weight: 500;\n",
       "}\n",
       "\n",
       ".xr-section-summary > span {\n",
       "  display: inline-block;\n",
       "  padding-left: 0.5em;\n",
       "}\n",
       "\n",
       ".xr-section-summary-in:disabled + label {\n",
       "  color: var(--xr-font-color2);\n",
       "}\n",
       "\n",
       ".xr-section-summary-in + label:before {\n",
       "  display: inline-block;\n",
       "  content: '►';\n",
       "  font-size: 11px;\n",
       "  width: 15px;\n",
       "  text-align: center;\n",
       "}\n",
       "\n",
       ".xr-section-summary-in:disabled + label:before {\n",
       "  color: var(--xr-disabled-color);\n",
       "}\n",
       "\n",
       ".xr-section-summary-in:checked + label:before {\n",
       "  content: '▼';\n",
       "}\n",
       "\n",
       ".xr-section-summary-in:checked + label > span {\n",
       "  display: none;\n",
       "}\n",
       "\n",
       ".xr-section-summary,\n",
       ".xr-section-inline-details {\n",
       "  padding-top: 4px;\n",
       "  padding-bottom: 4px;\n",
       "}\n",
       "\n",
       ".xr-section-inline-details {\n",
       "  grid-column: 2 / -1;\n",
       "}\n",
       "\n",
       ".xr-section-details {\n",
       "  display: none;\n",
       "  grid-column: 1 / -1;\n",
       "  margin-bottom: 5px;\n",
       "}\n",
       "\n",
       ".xr-section-summary-in:checked ~ .xr-section-details {\n",
       "  display: contents;\n",
       "}\n",
       "\n",
       ".xr-array-wrap {\n",
       "  grid-column: 1 / -1;\n",
       "  display: grid;\n",
       "  grid-template-columns: 20px auto;\n",
       "}\n",
       "\n",
       ".xr-array-wrap > label {\n",
       "  grid-column: 1;\n",
       "  vertical-align: top;\n",
       "}\n",
       "\n",
       ".xr-preview {\n",
       "  color: var(--xr-font-color3);\n",
       "}\n",
       "\n",
       ".xr-array-preview,\n",
       ".xr-array-data {\n",
       "  padding: 0 5px !important;\n",
       "  grid-column: 2;\n",
       "}\n",
       "\n",
       ".xr-array-data,\n",
       ".xr-array-in:checked ~ .xr-array-preview {\n",
       "  display: none;\n",
       "}\n",
       "\n",
       ".xr-array-in:checked ~ .xr-array-data,\n",
       ".xr-array-preview {\n",
       "  display: inline-block;\n",
       "}\n",
       "\n",
       ".xr-dim-list {\n",
       "  display: inline-block !important;\n",
       "  list-style: none;\n",
       "  padding: 0 !important;\n",
       "  margin: 0;\n",
       "}\n",
       "\n",
       ".xr-dim-list li {\n",
       "  display: inline-block;\n",
       "  padding: 0;\n",
       "  margin: 0;\n",
       "}\n",
       "\n",
       ".xr-dim-list:before {\n",
       "  content: '(';\n",
       "}\n",
       "\n",
       ".xr-dim-list:after {\n",
       "  content: ')';\n",
       "}\n",
       "\n",
       ".xr-dim-list li:not(:last-child):after {\n",
       "  content: ',';\n",
       "  padding-right: 5px;\n",
       "}\n",
       "\n",
       ".xr-has-index {\n",
       "  font-weight: bold;\n",
       "}\n",
       "\n",
       ".xr-var-list,\n",
       ".xr-var-item {\n",
       "  display: contents;\n",
       "}\n",
       "\n",
       ".xr-var-item > div,\n",
       ".xr-var-item label,\n",
       ".xr-var-item > .xr-var-name span {\n",
       "  background-color: var(--xr-background-color-row-even);\n",
       "  margin-bottom: 0;\n",
       "}\n",
       "\n",
       ".xr-var-item > .xr-var-name:hover span {\n",
       "  padding-right: 5px;\n",
       "}\n",
       "\n",
       ".xr-var-list > li:nth-child(odd) > div,\n",
       ".xr-var-list > li:nth-child(odd) > label,\n",
       ".xr-var-list > li:nth-child(odd) > .xr-var-name span {\n",
       "  background-color: var(--xr-background-color-row-odd);\n",
       "}\n",
       "\n",
       ".xr-var-name {\n",
       "  grid-column: 1;\n",
       "}\n",
       "\n",
       ".xr-var-dims {\n",
       "  grid-column: 2;\n",
       "}\n",
       "\n",
       ".xr-var-dtype {\n",
       "  grid-column: 3;\n",
       "  text-align: right;\n",
       "  color: var(--xr-font-color2);\n",
       "}\n",
       "\n",
       ".xr-var-preview {\n",
       "  grid-column: 4;\n",
       "}\n",
       "\n",
       ".xr-var-name,\n",
       ".xr-var-dims,\n",
       ".xr-var-dtype,\n",
       ".xr-preview,\n",
       ".xr-attrs dt {\n",
       "  white-space: nowrap;\n",
       "  overflow: hidden;\n",
       "  text-overflow: ellipsis;\n",
       "  padding-right: 10px;\n",
       "}\n",
       "\n",
       ".xr-var-name:hover,\n",
       ".xr-var-dims:hover,\n",
       ".xr-var-dtype:hover,\n",
       ".xr-attrs dt:hover {\n",
       "  overflow: visible;\n",
       "  width: auto;\n",
       "  z-index: 1;\n",
       "}\n",
       "\n",
       ".xr-var-attrs,\n",
       ".xr-var-data {\n",
       "  display: none;\n",
       "  background-color: var(--xr-background-color) !important;\n",
       "  padding-bottom: 5px !important;\n",
       "}\n",
       "\n",
       ".xr-var-attrs-in:checked ~ .xr-var-attrs,\n",
       ".xr-var-data-in:checked ~ .xr-var-data {\n",
       "  display: block;\n",
       "}\n",
       "\n",
       ".xr-var-data > table {\n",
       "  float: right;\n",
       "}\n",
       "\n",
       ".xr-var-name span,\n",
       ".xr-var-data,\n",
       ".xr-attrs {\n",
       "  padding-left: 25px !important;\n",
       "}\n",
       "\n",
       ".xr-attrs,\n",
       ".xr-var-attrs,\n",
       ".xr-var-data {\n",
       "  grid-column: 1 / -1;\n",
       "}\n",
       "\n",
       "dl.xr-attrs {\n",
       "  padding: 0;\n",
       "  margin: 0;\n",
       "  display: grid;\n",
       "  grid-template-columns: 125px auto;\n",
       "}\n",
       "\n",
       ".xr-attrs dt,\n",
       ".xr-attrs dd {\n",
       "  padding: 0;\n",
       "  margin: 0;\n",
       "  float: left;\n",
       "  padding-right: 10px;\n",
       "  width: auto;\n",
       "}\n",
       "\n",
       ".xr-attrs dt {\n",
       "  font-weight: normal;\n",
       "  grid-column: 1;\n",
       "}\n",
       "\n",
       ".xr-attrs dt:hover span {\n",
       "  display: inline-block;\n",
       "  background: var(--xr-background-color);\n",
       "  padding-right: 10px;\n",
       "}\n",
       "\n",
       ".xr-attrs dd {\n",
       "  grid-column: 2;\n",
       "  white-space: pre-wrap;\n",
       "  word-break: break-all;\n",
       "}\n",
       "\n",
       ".xr-icon-database,\n",
       ".xr-icon-file-text2 {\n",
       "  display: inline-block;\n",
       "  vertical-align: middle;\n",
       "  width: 1em;\n",
       "  height: 1.5em !important;\n",
       "  stroke-width: 0;\n",
       "  stroke: currentColor;\n",
       "  fill: currentColor;\n",
       "}\n",
       "</style><pre class='xr-text-repr-fallback'>&lt;xarray.Dataset&gt;\n",
       "Dimensions:  (Azimuth: 5, Band: 3, Range: 5)\n",
       "Coordinates:\n",
       "  * Azimuth  (Azimuth) int64 0 1 2 3 4\n",
       "  * Range    (Range) int64 0 1 2 3 4\n",
       "  * Band     (Band) datetime64[ns] 2021-04-27 2021-04-28 2021-05-27\n",
       "Data variables:\n",
       "    Real     (Band, Azimuth, Range) float32 dask.array&lt;chunksize=(1, 5, 5), meta=np.ndarray&gt;\n",
       "    Complex  (Band, Azimuth, Range) float32 dask.array&lt;chunksize=(1, 5, 5), meta=np.ndarray&gt;</pre><div class='xr-wrap' hidden><div class='xr-header'><div class='xr-obj-type'>xarray.Dataset</div></div><ul class='xr-sections'><li class='xr-section-item'><input id='section-a626318e-ae34-4aa3-8723-ab441a4d6522' class='xr-section-summary-in' type='checkbox' disabled ><label for='section-a626318e-ae34-4aa3-8723-ab441a4d6522' class='xr-section-summary'  title='Expand/collapse section'>Dimensions:</label><div class='xr-section-inline-details'><ul class='xr-dim-list'><li><span class='xr-has-index'>Azimuth</span>: 5</li><li><span class='xr-has-index'>Band</span>: 3</li><li><span class='xr-has-index'>Range</span>: 5</li></ul></div><div class='xr-section-details'></div></li><li class='xr-section-item'><input id='section-42d583bd-6eb2-438e-bc8f-fe6fa36b8803' class='xr-section-summary-in' type='checkbox'  checked><label for='section-42d583bd-6eb2-438e-bc8f-fe6fa36b8803' class='xr-section-summary' >Coordinates: <span>(3)</span></label><div class='xr-section-inline-details'></div><div class='xr-section-details'><ul class='xr-var-list'><li class='xr-var-item'><div class='xr-var-name'><span class='xr-has-index'>Azimuth</span></div><div class='xr-var-dims'>(Azimuth)</div><div class='xr-var-dtype'>int64</div><div class='xr-var-preview xr-preview'>0 1 2 3 4</div><input id='attrs-c8dfe0ab-62e5-49f1-a557-a13818258ea6' class='xr-var-attrs-in' type='checkbox' disabled><label for='attrs-c8dfe0ab-62e5-49f1-a557-a13818258ea6' title='Show/Hide attributes'><svg class='icon xr-icon-file-text2'><use xlink:href='#icon-file-text2'></use></svg></label><input id='data-d2af198d-e6b0-4a0b-8323-7574356573e9' class='xr-var-data-in' type='checkbox'><label for='data-d2af198d-e6b0-4a0b-8323-7574356573e9' title='Show/Hide data repr'><svg class='icon xr-icon-database'><use xlink:href='#icon-database'></use></svg></label><div class='xr-var-attrs'><dl class='xr-attrs'></dl></div><div class='xr-var-data'><pre>array([0, 1, 2, 3, 4])</pre></div></li><li class='xr-var-item'><div class='xr-var-name'><span class='xr-has-index'>Range</span></div><div class='xr-var-dims'>(Range)</div><div class='xr-var-dtype'>int64</div><div class='xr-var-preview xr-preview'>0 1 2 3 4</div><input id='attrs-1b403a1b-ab7c-4bfa-9617-7e8a843af119' class='xr-var-attrs-in' type='checkbox' disabled><label for='attrs-1b403a1b-ab7c-4bfa-9617-7e8a843af119' title='Show/Hide attributes'><svg class='icon xr-icon-file-text2'><use xlink:href='#icon-file-text2'></use></svg></label><input id='data-7b7ce684-35ae-415d-baac-0d068335e824' class='xr-var-data-in' type='checkbox'><label for='data-7b7ce684-35ae-415d-baac-0d068335e824' title='Show/Hide data repr'><svg class='icon xr-icon-database'><use xlink:href='#icon-database'></use></svg></label><div class='xr-var-attrs'><dl class='xr-attrs'></dl></div><div class='xr-var-data'><pre>array([0, 1, 2, 3, 4])</pre></div></li><li class='xr-var-item'><div class='xr-var-name'><span class='xr-has-index'>Band</span></div><div class='xr-var-dims'>(Band)</div><div class='xr-var-dtype'>datetime64[ns]</div><div class='xr-var-preview xr-preview'>2021-04-27 2021-04-28 2021-05-27</div><input id='attrs-a86f3b12-389e-4a9a-9fcf-18ca80fc23c5' class='xr-var-attrs-in' type='checkbox' disabled><label for='attrs-a86f3b12-389e-4a9a-9fcf-18ca80fc23c5' title='Show/Hide attributes'><svg class='icon xr-icon-file-text2'><use xlink:href='#icon-file-text2'></use></svg></label><input id='data-2bb1f62a-bd61-4c87-ae6b-2889ff502433' class='xr-var-data-in' type='checkbox'><label for='data-2bb1f62a-bd61-4c87-ae6b-2889ff502433' title='Show/Hide data repr'><svg class='icon xr-icon-database'><use xlink:href='#icon-database'></use></svg></label><div class='xr-var-attrs'><dl class='xr-attrs'></dl></div><div class='xr-var-data'><pre>array([&#x27;2021-04-27T00:00:00.000000000&#x27;, &#x27;2021-04-28T00:00:00.000000000&#x27;,\n",
       "       &#x27;2021-05-27T00:00:00.000000000&#x27;], dtype=&#x27;datetime64[ns]&#x27;)</pre></div></li></ul></div></li><li class='xr-section-item'><input id='section-7fcf7fb0-0377-4c67-9e3e-4ad0c14b6491' class='xr-section-summary-in' type='checkbox'  checked><label for='section-7fcf7fb0-0377-4c67-9e3e-4ad0c14b6491' class='xr-section-summary' >Data variables: <span>(2)</span></label><div class='xr-section-inline-details'></div><div class='xr-section-details'><ul class='xr-var-list'><li class='xr-var-item'><div class='xr-var-name'><span>Real</span></div><div class='xr-var-dims'>(Band, Azimuth, Range)</div><div class='xr-var-dtype'>float32</div><div class='xr-var-preview xr-preview'>dask.array&lt;chunksize=(1, 5, 5), meta=np.ndarray&gt;</div><input id='attrs-20e55b07-f0f9-452f-a04e-0771a914c7ab' class='xr-var-attrs-in' type='checkbox' ><label for='attrs-20e55b07-f0f9-452f-a04e-0771a914c7ab' title='Show/Hide attributes'><svg class='icon xr-icon-file-text2'><use xlink:href='#icon-file-text2'></use></svg></label><input id='data-66151eb5-e7f6-4e97-8232-7f592473ab29' class='xr-var-data-in' type='checkbox'><label for='data-66151eb5-e7f6-4e97-8232-7f592473ab29' title='Show/Hide data repr'><svg class='icon xr-icon-database'><use xlink:href='#icon-database'></use></svg></label><div class='xr-var-attrs'><dl class='xr-attrs'><dt><span>azimuth_time_interval :</span></dt><dd>[&#x27;2.709350530535653e-05&#x27;, &#x27;2.709350530535653e-05&#x27;, &#x27;2.709350530535653e-05&#x27;]</dd><dt><span>RPC_LINE_OFF :</span></dt><dd>[&#x27;15601.6005859375&#x27;, &#x27;15601.6005859375&#x27;, &#x27;15601.6005859375&#x27;]</dd><dt><span>ant_elev_corr_flag :</span></dt><dd>[&#x27;1&#x27;, &#x27;1&#x27;, &#x27;1&#x27;]</dd><dt><span>product_file :</span></dt><dd>[&#x27;ICEYE_SLC_54549_20210427T215124_hollow_20x20pixels_fake_1.h5&#x27;, &#x27;ICEYE_SLC_54549_20210427T215124_hollow_20x20pixels_fake_0.h5&#x27;, &#x27;ICEYE_SLC_54549_20210427T215124_hollow_20x20pixels_fake_2.h5&#x27;]</dd><dt><span>angX :</span></dt><dd>[&#x27;[0. 0. 0. 0. 0. 0. 0. 0. 0. 0. 0. 0. 0. 0. 0. 0. 0. 0. 0. 0. 0. 0. 0. 0.\\n 0. 0. 0. 0. 0. 0. 0. 0. 0. 0. 0. 0. 0. 0. 0. 0. 0. 0. 0. 0. 0. 0. 0. 0.\\n 0. 0. 0. 0. 0. 0. 0. 0. 0. 0. 0. 0. 0. 0. 0. 0. 0. 0. 0. 0. 0. 0. 0. 0.\\n 0. 0. 0. 0. 0. 0. 0. 0. 0.]&#x27;, &#x27;[0. 0. 0. 0. 0. 0. 0. 0. 0. 0. 0. 0. 0. 0. 0. 0. 0. 0. 0. 0. 0. 0. 0. 0.\\n 0. 0. 0. 0. 0. 0. 0. 0. 0. 0. 0. 0. 0. 0. 0. 0. 0. 0. 0. 0. 0. 0. 0. 0.\\n 0. 0. 0. 0. 0. 0. 0. 0. 0. 0. 0. 0. 0. 0. 0. 0. 0. 0. 0. 0. 0. 0. 0. 0.\\n 0. 0. 0. 0. 0. 0. 0. 0. 0.]&#x27;, &#x27;[0. 0. 0. 0. 0. 0. 0. 0. 0. 0. 0. 0. 0. 0. 0. 0. 0. 0. 0. 0. 0. 0. 0. 0.\\n 0. 0. 0. 0. 0. 0. 0. 0. 0. 0. 0. 0. 0. 0. 0. 0. 0. 0. 0. 0. 0. 0. 0. 0.\\n 0. 0. 0. 0. 0. 0. 0. 0. 0. 0. 0. 0. 0. 0. 0. 0. 0. 0. 0. 0. 0. 0. 0. 0.\\n 0. 0. 0. 0. 0. 0. 0. 0. 0.]&#x27;]</dd><dt><span>tropo_range_delay :</span></dt><dd>[&#x27;2.8238412754811586&#x27;, &#x27;2.8238412754811586&#x27;, &#x27;2.8238412754811586&#x27;]</dd><dt><span>number_of_dc_estimations :</span></dt><dd>[&#x27;10&#x27;, &#x27;10&#x27;, &#x27;10&#x27;]</dd><dt><span>chirp_duration :</span></dt><dd>[&#x27;3.397714285714286e-05&#x27;, &#x27;3.397714285714286e-05&#x27;, &#x27;3.397714285714286e-05&#x27;]</dd><dt><span>velY :</span></dt><dd>[&#x27;[-874.61792057 -874.43891918 -874.25989712 -874.08085523 -873.90179267\\n -873.7227103  -873.54360769 -873.36448441 -873.18534133 -873.0061776\\n -872.82699406 -872.6477903  -872.4685659  -872.2893217  -872.11005687\\n -871.93077225 -871.75146742 -871.57214196 -871.39279673 -871.21343086\\n -871.03404523 -870.85463941 -870.67521297 -870.49576677 -870.31629996\\n -870.1368134  -869.95730666 -869.77777932 -869.59823223 -869.41866455\\n -869.23907713 -869.05946955 -868.87984138 -868.70019348 -868.520525\\n -868.3408368  -868.16112845 -867.98139953 -867.8016509  -867.6218817\\n -867.44209279 -867.26228376 -867.08245416 -866.90260487 -866.72273502\\n -866.54284549 -866.36293584 -866.18300565 -866.00305577 -865.82308536\\n -865.64309527 -865.46308508 -865.28305437 -865.10300399 -864.92293308\\n -864.74284252 -864.56273187 -864.38260071 -864.2024499  -864.02227858\\n -863.84208762 -863.66187659 -863.48164506 -863.30139389 -863.12112223\\n -862.94083095 -862.76051961 -862.58018779 -862.39983634 -862.21946442\\n -862.03907289 -861.85866132 -861.67822928 -861.49777764 -861.31730553\\n -861.13681383 -860.9563021  -860.77576992 -860.59521816 -860.41464594\\n -860.23405415]&#x27;, &#x27;[-874.61792057 -874.43891918 -874.25989712 -874.08085523 -873.90179267\\n -873.7227103  -873.54360769 -873.36448441 -873.18534133 -873.0061776\\n -872.82699406 -872.6477903  -872.4685659  -872.2893217  -872.11005687\\n -871.93077225 -871.75146742 -871.57214196 -871.39279673 -871.21343086\\n -871.03404523 -870.85463941 -870.67521297 -870.49576677 -870.31629996\\n -870.1368134  -869.95730666 -869.77777932 -869.59823223 -869.41866455\\n -869.23907713 -869.05946955 -868.87984138 -868.70019348 -868.520525\\n -868.3408368  -868.16112845 -867.98139953 -867.8016509  -867.6218817\\n -867.44209279 -867.26228376 -867.08245416 -866.90260487 -866.72273502\\n -866.54284549 -866.36293584 -866.18300565 -866.00305577 -865.82308536\\n -865.64309527 -865.46308508 -865.28305437 -865.10300399 -864.92293308\\n -864.74284252 -864.56273187 -864.38260071 -864.2024499  -864.02227858\\n -863.84208762 -863.66187659 -863.48164506 -863.30139389 -863.12112223\\n -862.94083095 -862.76051961 -862.58018779 -862.39983634 -862.21946442\\n -862.03907289 -861.85866132 -861.67822928 -861.49777764 -861.31730553\\n -861.13681383 -860.9563021  -860.77576992 -860.59521816 -860.41464594\\n -860.23405415]&#x27;, &#x27;[-874.61792057 -874.43891918 -874.25989712 -874.08085523 -873.90179267\\n -873.7227103  -873.54360769 -873.36448441 -873.18534133 -873.0061776\\n -872.82699406 -872.6477903  -872.4685659  -872.2893217  -872.11005687\\n -871.93077225 -871.75146742 -871.57214196 -871.39279673 -871.21343086\\n -871.03404523 -870.85463941 -870.67521297 -870.49576677 -870.31629996\\n -870.1368134  -869.95730666 -869.77777932 -869.59823223 -869.41866455\\n -869.23907713 -869.05946955 -868.87984138 -868.70019348 -868.520525\\n -868.3408368  -868.16112845 -867.98139953 -867.8016509  -867.6218817\\n -867.44209279 -867.26228376 -867.08245416 -866.90260487 -866.72273502\\n -866.54284549 -866.36293584 -866.18300565 -866.00305577 -865.82308536\\n -865.64309527 -865.46308508 -865.28305437 -865.10300399 -864.92293308\\n -864.74284252 -864.56273187 -864.38260071 -864.2024499  -864.02227858\\n -863.84208762 -863.66187659 -863.48164506 -863.30139389 -863.12112223\\n -862.94083095 -862.76051961 -862.58018779 -862.39983634 -862.21946442\\n -862.03907289 -861.85866132 -861.67822928 -861.49777764 -861.31730553\\n -861.13681383 -860.9563021  -860.77576992 -860.59521816 -860.41464594\\n -860.23405415]&#x27;]</dd><dt><span>antenna_pattern_compensation :</span></dt><dd>[&#x27;[[1.0062476]\\n [1.0062436]\\n [1.0062395]\\n ...\\n [1.0118226]\\n [1.0118278]\\n [1.0118333]]&#x27;, &#x27;[[1.0062476]\\n [1.0062436]\\n [1.0062395]\\n ...\\n [1.0118226]\\n [1.0118278]\\n [1.0118333]]&#x27;, &#x27;[[1.0062476]\\n [1.0062436]\\n [1.0062395]\\n ...\\n [1.0118226]\\n [1.0118278]\\n [1.0118333]]&#x27;]</dd><dt><span>orbit_absolute_number :</span></dt><dd>[&#x27;9915&#x27;, &#x27;9915&#x27;, &#x27;9915&#x27;]</dd><dt><span>posY :</span></dt><dd>[&#x27;[-921374.0111596  -921461.46392007 -921548.89898784 -921636.31594396\\n -921723.71520326 -921811.09634695 -921898.45958141 -921985.80511285\\n -922073.13252274 -922160.44222547 -922247.73380269 -922335.00746057\\n -922422.26340509 -922509.50121817 -922596.72131376 -922683.92327395\\n -922771.10730469 -922858.27361175 -922945.42177747 -923032.55221539\\n -923119.66450801 -923206.75886107 -923293.83548014 -923380.89394799\\n -923467.93467772 -923554.95725228 -923641.96187719 -923728.94875781\\n -923815.91747734 -923902.86844845 -923989.80125452 -924076.71610086\\n -924163.61319261 -924250.49211339 -924337.35327547 -924424.19626264\\n -924511.02128001 -924597.82853249 -924684.61760415 -924771.38890681\\n -924858.1420247  -924944.8771627  -925031.59452554 -925118.2936977\\n -925204.97509058 -925291.63828885 -925378.28349717 -925464.91092006\\n -925551.52014242 -925638.11157524 -925724.6848036  -925811.24003196\\n -925897.77746461 -925984.2966869  -926070.79810938 -926157.28131758\\n -926243.74651573 -926330.19390792 -926416.62307992 -926503.03444186\\n -926589.42757968 -926675.80269742 -926762.15999894 -926848.49907045\\n -926934.82032164 -927021.1233389  -927107.40832605 -927193.67548674\\n -927279.92440761 -927366.15549791 -927452.36834447 -927538.56315089\\n -927624.7401206  -927710.89884068 -927797.03971997 -927883.16234572\\n -927969.26692131 -928055.35364997 -928141.4221192  -928227.47273742\\n -928313.50509229]&#x27;, &#x27;[-921374.0111596  -921461.46392007 -921548.89898784 -921636.31594396\\n -921723.71520326 -921811.09634695 -921898.45958141 -921985.80511285\\n -922073.13252274 -922160.44222547 -922247.73380269 -922335.00746057\\n -922422.26340509 -922509.50121817 -922596.72131376 -922683.92327395\\n -922771.10730469 -922858.27361175 -922945.42177747 -923032.55221539\\n -923119.66450801 -923206.75886107 -923293.83548014 -923380.89394799\\n -923467.93467772 -923554.95725228 -923641.96187719 -923728.94875781\\n -923815.91747734 -923902.86844845 -923989.80125452 -924076.71610086\\n -924163.61319261 -924250.49211339 -924337.35327547 -924424.19626264\\n -924511.02128001 -924597.82853249 -924684.61760415 -924771.38890681\\n -924858.1420247  -924944.8771627  -925031.59452554 -925118.2936977\\n -925204.97509058 -925291.63828885 -925378.28349717 -925464.91092006\\n -925551.52014242 -925638.11157524 -925724.6848036  -925811.24003196\\n -925897.77746461 -925984.2966869  -926070.79810938 -926157.28131758\\n -926243.74651573 -926330.19390792 -926416.62307992 -926503.03444186\\n -926589.42757968 -926675.80269742 -926762.15999894 -926848.49907045\\n -926934.82032164 -927021.1233389  -927107.40832605 -927193.67548674\\n -927279.92440761 -927366.15549791 -927452.36834447 -927538.56315089\\n -927624.7401206  -927710.89884068 -927797.03971997 -927883.16234572\\n -927969.26692131 -928055.35364997 -928141.4221192  -928227.47273742\\n -928313.50509229]&#x27;, &#x27;[-921374.0111596  -921461.46392007 -921548.89898784 -921636.31594396\\n -921723.71520326 -921811.09634695 -921898.45958141 -921985.80511285\\n -922073.13252274 -922160.44222547 -922247.73380269 -922335.00746057\\n -922422.26340509 -922509.50121817 -922596.72131376 -922683.92327395\\n -922771.10730469 -922858.27361175 -922945.42177747 -923032.55221539\\n -923119.66450801 -923206.75886107 -923293.83548014 -923380.89394799\\n -923467.93467772 -923554.95725228 -923641.96187719 -923728.94875781\\n -923815.91747734 -923902.86844845 -923989.80125452 -924076.71610086\\n -924163.61319261 -924250.49211339 -924337.35327547 -924424.19626264\\n -924511.02128001 -924597.82853249 -924684.61760415 -924771.38890681\\n -924858.1420247  -924944.8771627  -925031.59452554 -925118.2936977\\n -925204.97509058 -925291.63828885 -925378.28349717 -925464.91092006\\n -925551.52014242 -925638.11157524 -925724.6848036  -925811.24003196\\n -925897.77746461 -925984.2966869  -926070.79810938 -926157.28131758\\n -926243.74651573 -926330.19390792 -926416.62307992 -926503.03444186\\n -926589.42757968 -926675.80269742 -926762.15999894 -926848.49907045\\n -926934.82032164 -927021.1233389  -927107.40832605 -927193.67548674\\n -927279.92440761 -927366.15549791 -927452.36834447 -927538.56315089\\n -927624.7401206  -927710.89884068 -927797.03971997 -927883.16234572\\n -927969.26692131 -928055.35364997 -928141.4221192  -928227.47273742\\n -928313.50509229]&#x27;]</dd><dt><span>RPC_LINE_DEN_COEFF :</span></dt><dd>[&#x27;[922.84619140625, 2.3401360511779785, -905.03662109375, -6.660676956176758, -2.9819934368133545, 0.15026363730430603, -0.967059314250946, 0.5637755990028381, -3.297856092453003, 0.006362438667565584, 0.0007199099636636674, 0.003166565904393792, 0.004018398001790047, 1.2433517440513242e-05, 0.0070885238237679005, 0.0005446553113870323, 4.3951735278824344e-05, 0.0008221659809350967, 6.757764640497044e-05, -2.7039893666369608e-06]&#x27;, &#x27;[922.84619140625, 2.3401360511779785, -905.03662109375, -6.660676956176758, -2.9819934368133545, 0.15026363730430603, -0.967059314250946, 0.5637755990028381, -3.297856092453003, 0.006362438667565584, 0.0007199099636636674, 0.003166565904393792, 0.004018398001790047, 1.2433517440513242e-05, 0.0070885238237679005, 0.0005446553113870323, 4.3951735278824344e-05, 0.0008221659809350967, 6.757764640497044e-05, -2.7039893666369608e-06]&#x27;, &#x27;[922.84619140625, 2.3401360511779785, -905.03662109375, -6.660676956176758, -2.9819934368133545, 0.15026363730430603, -0.967059314250946, 0.5637755990028381, -3.297856092453003, 0.006362438667565584, 0.0007199099636636674, 0.003166565904393792, 0.004018398001790047, 1.2433517440513242e-05, 0.0070885238237679005, 0.0005446553113870323, 4.3951735278824344e-05, 0.0008221659809350967, 6.757764640497044e-05, -2.7039893666369608e-06]&#x27;]</dd><dt><span>orbit_direction :</span></dt><dd>[&#x27;DESCENDING&#x27;, &#x27;ASCENDING&#x27;, &#x27;ASCENDING&#x27;]</dd><dt><span>calibration_factor :</span></dt><dd>[&#x27;6.588095117705568e-07&#x27;, &#x27;6.588095117705568e-07&#x27;, &#x27;6.588095117705568e-07&#x27;]</dd><dt><span>RPC_SAMP_OFF :</span></dt><dd>[&#x27;3587.624267578125&#x27;, &#x27;3587.624267578125&#x27;, &#x27;3587.624267578125&#x27;]</dd><dt><span>total_processed_bandwidth_azimuth :</span></dt><dd>[&#x27;26363.724672587723&#x27;, &#x27;26363.724672587723&#x27;, &#x27;26363.724672587723&#x27;]</dd><dt><span>local_incidence_angle :</span></dt><dd>[&#x27;[31.69812486 31.69819448 31.6982641  ... 32.20868396 32.20875195\\n 32.20881994]&#x27;, &#x27;[31.69812486 31.69819448 31.6982641  ... 32.20868396 32.20875195\\n 32.20881994]&#x27;, &#x27;[31.69812486 31.69819448 31.6982641  ... 32.20868396 32.20875195\\n 32.20881994]&#x27;]</dd><dt><span>acquisition_mode :</span></dt><dd>[&#x27;spotlight&#x27;, &#x27;spotlight&#x27;, &#x27;spotlight&#x27;]</dd><dt><span>range_looks :</span></dt><dd>[&#x27;1&#x27;, &#x27;1&#x27;, &#x27;1&#x27;]</dd><dt><span>incidence_near :</span></dt><dd>[&#x27;31.69812485724647&#x27;, &#x27;31.69812485724647&#x27;, &#x27;31.69812485724647&#x27;]</dd><dt><span>coord_center :</span></dt><dd>[&#x27;[ 3.71300000e+03  1.40810000e+04  3.74456418e+01 -6.25407124e+00]&#x27;, &#x27;[ 3.71300000e+03  1.40810000e+04  3.74456418e+01 -6.25407124e+00]&#x27;, &#x27;[ 3.71300000e+03  1.40810000e+04  3.74456418e+01 -6.25407124e+00]&#x27;]</dd><dt><span>fsl_compensation :</span></dt><dd>[&#x27;[0.95738171 0.95738268 0.95738365 ... 0.96456525 0.96456622 0.96456719]&#x27;, &#x27;[0.95738171 0.95738268 0.95738365 ... 0.96456525 0.96456622 0.96456719]&#x27;, &#x27;[0.95738171 0.95738268 0.95738365 ... 0.96456525 0.96456622 0.96456719]&#x27;]</dd><dt><span>acquisition_end_utc :</span></dt><dd>[&#x27;2021-04-27T21:51:30.025535&#x27;, &#x27;2021-04-28T21:51:30.025535&#x27;, &#x27;2021-05-27T21:51:30.025535&#x27;]</dd><dt><span>spec_version :</span></dt><dd>[&#x27;2.2&#x27;, &#x27;2.2&#x27;, &#x27;2.2&#x27;]</dd><dt><span>RPC_LONG_OFF :</span></dt><dd>[&#x27;-6.256258487701416&#x27;, &#x27;-6.256258487701416&#x27;, &#x27;-6.256258487701416&#x27;]</dd><dt><span>state_vector_time_utc :</span></dt><dd>[&quot;[[b&#x27;2021-04-27T21:51:24.000000&#x27;]\\n [b&#x27;2021-04-27T21:51:24.100000&#x27;]\\n [b&#x27;2021-04-27T21:51:24.200000&#x27;]\\n [b&#x27;2021-04-27T21:51:24.300000&#x27;]\\n [b&#x27;2021-04-27T21:51:24.400000&#x27;]\\n [b&#x27;2021-04-27T21:51:24.500000&#x27;]\\n [b&#x27;2021-04-27T21:51:24.600000&#x27;]\\n [b&#x27;2021-04-27T21:51:24.700000&#x27;]\\n [b&#x27;2021-04-27T21:51:24.800000&#x27;]\\n [b&#x27;2021-04-27T21:51:24.900000&#x27;]\\n [b&#x27;2021-04-27T21:51:25.000000&#x27;]\\n [b&#x27;2021-04-27T21:51:25.100000&#x27;]\\n [b&#x27;2021-04-27T21:51:25.200000&#x27;]\\n [b&#x27;2021-04-27T21:51:25.300000&#x27;]\\n [b&#x27;2021-04-27T21:51:25.400000&#x27;]\\n [b&#x27;2021-04-27T21:51:25.500000&#x27;]\\n [b&#x27;2021-04-27T21:51:25.600000&#x27;]\\n [b&#x27;2021-04-27T21:51:25.700000&#x27;]\\n [b&#x27;2021-04-27T21:51:25.800000&#x27;]\\n [b&#x27;2021-04-27T21:51:25.900000&#x27;]\\n [b&#x27;2021-04-27T21:51:26.000000&#x27;]\\n [b&#x27;2021-04-27T21:51:26.100000&#x27;]\\n [b&#x27;2021-04-27T21:51:26.200000&#x27;]\\n [b&#x27;2021-04-27T21:51:26.300000&#x27;]\\n [b&#x27;2021-04-27T21:51:26.400000&#x27;]\\n [b&#x27;2021-04-27T21:51:26.500000&#x27;]\\n [b&#x27;2021-04-27T21:51:26.600000&#x27;]\\n [b&#x27;2021-04-27T21:51:26.700000&#x27;]\\n [b&#x27;2021-04-27T21:51:26.800000&#x27;]\\n [b&#x27;2021-04-27T21:51:26.900000&#x27;]\\n [b&#x27;2021-04-27T21:51:27.000000&#x27;]\\n [b&#x27;2021-04-27T21:51:27.100000&#x27;]\\n [b&#x27;2021-04-27T21:51:27.200000&#x27;]\\n [b&#x27;2021-04-27T21:51:27.300000&#x27;]\\n [b&#x27;2021-04-27T21:51:27.400000&#x27;]\\n [b&#x27;2021-04-27T21:51:27.500000&#x27;]\\n [b&#x27;2021-04-27T21:51:27.600000&#x27;]\\n [b&#x27;2021-04-27T21:51:27.700000&#x27;]\\n [b&#x27;2021-04-27T21:51:27.800000&#x27;]\\n [b&#x27;2021-04-27T21:51:27.900000&#x27;]\\n [b&#x27;2021-04-27T21:51:28.000000&#x27;]\\n [b&#x27;2021-04-27T21:51:28.100000&#x27;]\\n [b&#x27;2021-04-27T21:51:28.200000&#x27;]\\n [b&#x27;2021-04-27T21:51:28.300000&#x27;]\\n [b&#x27;2021-04-27T21:51:28.400000&#x27;]\\n [b&#x27;2021-04-27T21:51:28.500000&#x27;]\\n [b&#x27;2021-04-27T21:51:28.600000&#x27;]\\n [b&#x27;2021-04-27T21:51:28.700000&#x27;]\\n [b&#x27;2021-04-27T21:51:28.800000&#x27;]\\n [b&#x27;2021-04-27T21:51:28.900000&#x27;]\\n [b&#x27;2021-04-27T21:51:29.000000&#x27;]\\n [b&#x27;2021-04-27T21:51:29.100000&#x27;]\\n [b&#x27;2021-04-27T21:51:29.200000&#x27;]\\n [b&#x27;2021-04-27T21:51:29.300000&#x27;]\\n [b&#x27;2021-04-27T21:51:29.400000&#x27;]\\n [b&#x27;2021-04-27T21:51:29.500000&#x27;]\\n [b&#x27;2021-04-27T21:51:29.600000&#x27;]\\n [b&#x27;2021-04-27T21:51:29.700000&#x27;]\\n [b&#x27;2021-04-27T21:51:29.800000&#x27;]\\n [b&#x27;2021-04-27T21:51:29.900000&#x27;]\\n [b&#x27;2021-04-27T21:51:30.000000&#x27;]\\n [b&#x27;2021-04-27T21:51:30.100000&#x27;]\\n [b&#x27;2021-04-27T21:51:30.200000&#x27;]\\n [b&#x27;2021-04-27T21:51:30.300000&#x27;]\\n [b&#x27;2021-04-27T21:51:30.400000&#x27;]\\n [b&#x27;2021-04-27T21:51:30.500000&#x27;]\\n [b&#x27;2021-04-27T21:51:30.600000&#x27;]\\n [b&#x27;2021-04-27T21:51:30.700000&#x27;]\\n [b&#x27;2021-04-27T21:51:30.800000&#x27;]\\n [b&#x27;2021-04-27T21:51:30.900000&#x27;]\\n [b&#x27;2021-04-27T21:51:31.000000&#x27;]\\n [b&#x27;2021-04-27T21:51:31.100000&#x27;]\\n [b&#x27;2021-04-27T21:51:31.200000&#x27;]\\n [b&#x27;2021-04-27T21:51:31.300000&#x27;]\\n [b&#x27;2021-04-27T21:51:31.400000&#x27;]\\n [b&#x27;2021-04-27T21:51:31.500000&#x27;]\\n [b&#x27;2021-04-27T21:51:31.600000&#x27;]\\n [b&#x27;2021-04-27T21:51:31.700000&#x27;]\\n [b&#x27;2021-04-27T21:51:31.800000&#x27;]\\n [b&#x27;2021-04-27T21:51:31.900000&#x27;]\\n [b&#x27;2021-04-27T21:51:32.000000&#x27;]]&quot;, &quot;[[b&#x27;2021-04-27T21:51:24.000000&#x27;]\\n [b&#x27;2021-04-27T21:51:24.100000&#x27;]\\n [b&#x27;2021-04-27T21:51:24.200000&#x27;]\\n [b&#x27;2021-04-27T21:51:24.300000&#x27;]\\n [b&#x27;2021-04-27T21:51:24.400000&#x27;]\\n [b&#x27;2021-04-27T21:51:24.500000&#x27;]\\n [b&#x27;2021-04-27T21:51:24.600000&#x27;]\\n [b&#x27;2021-04-27T21:51:24.700000&#x27;]\\n [b&#x27;2021-04-27T21:51:24.800000&#x27;]\\n [b&#x27;2021-04-27T21:51:24.900000&#x27;]\\n [b&#x27;2021-04-27T21:51:25.000000&#x27;]\\n [b&#x27;2021-04-27T21:51:25.100000&#x27;]\\n [b&#x27;2021-04-27T21:51:25.200000&#x27;]\\n [b&#x27;2021-04-27T21:51:25.300000&#x27;]\\n [b&#x27;2021-04-27T21:51:25.400000&#x27;]\\n [b&#x27;2021-04-27T21:51:25.500000&#x27;]\\n [b&#x27;2021-04-27T21:51:25.600000&#x27;]\\n [b&#x27;2021-04-27T21:51:25.700000&#x27;]\\n [b&#x27;2021-04-27T21:51:25.800000&#x27;]\\n [b&#x27;2021-04-27T21:51:25.900000&#x27;]\\n [b&#x27;2021-04-27T21:51:26.000000&#x27;]\\n [b&#x27;2021-04-27T21:51:26.100000&#x27;]\\n [b&#x27;2021-04-27T21:51:26.200000&#x27;]\\n [b&#x27;2021-04-27T21:51:26.300000&#x27;]\\n [b&#x27;2021-04-27T21:51:26.400000&#x27;]\\n [b&#x27;2021-04-27T21:51:26.500000&#x27;]\\n [b&#x27;2021-04-27T21:51:26.600000&#x27;]\\n [b&#x27;2021-04-27T21:51:26.700000&#x27;]\\n [b&#x27;2021-04-27T21:51:26.800000&#x27;]\\n [b&#x27;2021-04-27T21:51:26.900000&#x27;]\\n [b&#x27;2021-04-27T21:51:27.000000&#x27;]\\n [b&#x27;2021-04-27T21:51:27.100000&#x27;]\\n [b&#x27;2021-04-27T21:51:27.200000&#x27;]\\n [b&#x27;2021-04-27T21:51:27.300000&#x27;]\\n [b&#x27;2021-04-27T21:51:27.400000&#x27;]\\n [b&#x27;2021-04-27T21:51:27.500000&#x27;]\\n [b&#x27;2021-04-27T21:51:27.600000&#x27;]\\n [b&#x27;2021-04-27T21:51:27.700000&#x27;]\\n [b&#x27;2021-04-27T21:51:27.800000&#x27;]\\n [b&#x27;2021-04-27T21:51:27.900000&#x27;]\\n [b&#x27;2021-04-27T21:51:28.000000&#x27;]\\n [b&#x27;2021-04-27T21:51:28.100000&#x27;]\\n [b&#x27;2021-04-27T21:51:28.200000&#x27;]\\n [b&#x27;2021-04-27T21:51:28.300000&#x27;]\\n [b&#x27;2021-04-27T21:51:28.400000&#x27;]\\n [b&#x27;2021-04-27T21:51:28.500000&#x27;]\\n [b&#x27;2021-04-27T21:51:28.600000&#x27;]\\n [b&#x27;2021-04-27T21:51:28.700000&#x27;]\\n [b&#x27;2021-04-27T21:51:28.800000&#x27;]\\n [b&#x27;2021-04-27T21:51:28.900000&#x27;]\\n [b&#x27;2021-04-27T21:51:29.000000&#x27;]\\n [b&#x27;2021-04-27T21:51:29.100000&#x27;]\\n [b&#x27;2021-04-27T21:51:29.200000&#x27;]\\n [b&#x27;2021-04-27T21:51:29.300000&#x27;]\\n [b&#x27;2021-04-27T21:51:29.400000&#x27;]\\n [b&#x27;2021-04-27T21:51:29.500000&#x27;]\\n [b&#x27;2021-04-27T21:51:29.600000&#x27;]\\n [b&#x27;2021-04-27T21:51:29.700000&#x27;]\\n [b&#x27;2021-04-27T21:51:29.800000&#x27;]\\n [b&#x27;2021-04-27T21:51:29.900000&#x27;]\\n [b&#x27;2021-04-27T21:51:30.000000&#x27;]\\n [b&#x27;2021-04-27T21:51:30.100000&#x27;]\\n [b&#x27;2021-04-27T21:51:30.200000&#x27;]\\n [b&#x27;2021-04-27T21:51:30.300000&#x27;]\\n [b&#x27;2021-04-27T21:51:30.400000&#x27;]\\n [b&#x27;2021-04-27T21:51:30.500000&#x27;]\\n [b&#x27;2021-04-27T21:51:30.600000&#x27;]\\n [b&#x27;2021-04-27T21:51:30.700000&#x27;]\\n [b&#x27;2021-04-27T21:51:30.800000&#x27;]\\n [b&#x27;2021-04-27T21:51:30.900000&#x27;]\\n [b&#x27;2021-04-27T21:51:31.000000&#x27;]\\n [b&#x27;2021-04-27T21:51:31.100000&#x27;]\\n [b&#x27;2021-04-27T21:51:31.200000&#x27;]\\n [b&#x27;2021-04-27T21:51:31.300000&#x27;]\\n [b&#x27;2021-04-27T21:51:31.400000&#x27;]\\n [b&#x27;2021-04-27T21:51:31.500000&#x27;]\\n [b&#x27;2021-04-27T21:51:31.600000&#x27;]\\n [b&#x27;2021-04-27T21:51:31.700000&#x27;]\\n [b&#x27;2021-04-27T21:51:31.800000&#x27;]\\n [b&#x27;2021-04-27T21:51:31.900000&#x27;]\\n [b&#x27;2021-04-27T21:51:32.000000&#x27;]]&quot;, &quot;[[b&#x27;2021-04-27T21:51:24.000000&#x27;]\\n [b&#x27;2021-04-27T21:51:24.100000&#x27;]\\n [b&#x27;2021-04-27T21:51:24.200000&#x27;]\\n [b&#x27;2021-04-27T21:51:24.300000&#x27;]\\n [b&#x27;2021-04-27T21:51:24.400000&#x27;]\\n [b&#x27;2021-04-27T21:51:24.500000&#x27;]\\n [b&#x27;2021-04-27T21:51:24.600000&#x27;]\\n [b&#x27;2021-04-27T21:51:24.700000&#x27;]\\n [b&#x27;2021-04-27T21:51:24.800000&#x27;]\\n [b&#x27;2021-04-27T21:51:24.900000&#x27;]\\n [b&#x27;2021-04-27T21:51:25.000000&#x27;]\\n [b&#x27;2021-04-27T21:51:25.100000&#x27;]\\n [b&#x27;2021-04-27T21:51:25.200000&#x27;]\\n [b&#x27;2021-04-27T21:51:25.300000&#x27;]\\n [b&#x27;2021-04-27T21:51:25.400000&#x27;]\\n [b&#x27;2021-04-27T21:51:25.500000&#x27;]\\n [b&#x27;2021-04-27T21:51:25.600000&#x27;]\\n [b&#x27;2021-04-27T21:51:25.700000&#x27;]\\n [b&#x27;2021-04-27T21:51:25.800000&#x27;]\\n [b&#x27;2021-04-27T21:51:25.900000&#x27;]\\n [b&#x27;2021-04-27T21:51:26.000000&#x27;]\\n [b&#x27;2021-04-27T21:51:26.100000&#x27;]\\n [b&#x27;2021-04-27T21:51:26.200000&#x27;]\\n [b&#x27;2021-04-27T21:51:26.300000&#x27;]\\n [b&#x27;2021-04-27T21:51:26.400000&#x27;]\\n [b&#x27;2021-04-27T21:51:26.500000&#x27;]\\n [b&#x27;2021-04-27T21:51:26.600000&#x27;]\\n [b&#x27;2021-04-27T21:51:26.700000&#x27;]\\n [b&#x27;2021-04-27T21:51:26.800000&#x27;]\\n [b&#x27;2021-04-27T21:51:26.900000&#x27;]\\n [b&#x27;2021-04-27T21:51:27.000000&#x27;]\\n [b&#x27;2021-04-27T21:51:27.100000&#x27;]\\n [b&#x27;2021-04-27T21:51:27.200000&#x27;]\\n [b&#x27;2021-04-27T21:51:27.300000&#x27;]\\n [b&#x27;2021-04-27T21:51:27.400000&#x27;]\\n [b&#x27;2021-04-27T21:51:27.500000&#x27;]\\n [b&#x27;2021-04-27T21:51:27.600000&#x27;]\\n [b&#x27;2021-04-27T21:51:27.700000&#x27;]\\n [b&#x27;2021-04-27T21:51:27.800000&#x27;]\\n [b&#x27;2021-04-27T21:51:27.900000&#x27;]\\n [b&#x27;2021-04-27T21:51:28.000000&#x27;]\\n [b&#x27;2021-04-27T21:51:28.100000&#x27;]\\n [b&#x27;2021-04-27T21:51:28.200000&#x27;]\\n [b&#x27;2021-04-27T21:51:28.300000&#x27;]\\n [b&#x27;2021-04-27T21:51:28.400000&#x27;]\\n [b&#x27;2021-04-27T21:51:28.500000&#x27;]\\n [b&#x27;2021-04-27T21:51:28.600000&#x27;]\\n [b&#x27;2021-04-27T21:51:28.700000&#x27;]\\n [b&#x27;2021-04-27T21:51:28.800000&#x27;]\\n [b&#x27;2021-04-27T21:51:28.900000&#x27;]\\n [b&#x27;2021-04-27T21:51:29.000000&#x27;]\\n [b&#x27;2021-04-27T21:51:29.100000&#x27;]\\n [b&#x27;2021-04-27T21:51:29.200000&#x27;]\\n [b&#x27;2021-04-27T21:51:29.300000&#x27;]\\n [b&#x27;2021-04-27T21:51:29.400000&#x27;]\\n [b&#x27;2021-04-27T21:51:29.500000&#x27;]\\n [b&#x27;2021-04-27T21:51:29.600000&#x27;]\\n [b&#x27;2021-04-27T21:51:29.700000&#x27;]\\n [b&#x27;2021-04-27T21:51:29.800000&#x27;]\\n [b&#x27;2021-04-27T21:51:29.900000&#x27;]\\n [b&#x27;2021-04-27T21:51:30.000000&#x27;]\\n [b&#x27;2021-04-27T21:51:30.100000&#x27;]\\n [b&#x27;2021-04-27T21:51:30.200000&#x27;]\\n [b&#x27;2021-04-27T21:51:30.300000&#x27;]\\n [b&#x27;2021-04-27T21:51:30.400000&#x27;]\\n [b&#x27;2021-04-27T21:51:30.500000&#x27;]\\n [b&#x27;2021-04-27T21:51:30.600000&#x27;]\\n [b&#x27;2021-04-27T21:51:30.700000&#x27;]\\n [b&#x27;2021-04-27T21:51:30.800000&#x27;]\\n [b&#x27;2021-04-27T21:51:30.900000&#x27;]\\n [b&#x27;2021-04-27T21:51:31.000000&#x27;]\\n [b&#x27;2021-04-27T21:51:31.100000&#x27;]\\n [b&#x27;2021-04-27T21:51:31.200000&#x27;]\\n [b&#x27;2021-04-27T21:51:31.300000&#x27;]\\n [b&#x27;2021-04-27T21:51:31.400000&#x27;]\\n [b&#x27;2021-04-27T21:51:31.500000&#x27;]\\n [b&#x27;2021-04-27T21:51:31.600000&#x27;]\\n [b&#x27;2021-04-27T21:51:31.700000&#x27;]\\n [b&#x27;2021-04-27T21:51:31.800000&#x27;]\\n [b&#x27;2021-04-27T21:51:31.900000&#x27;]\\n [b&#x27;2021-04-27T21:51:32.000000&#x27;]]&quot;]</dd><dt><span>posX :</span></dt><dd>[&#x27;[5474808.16271857 5474340.81737572 5473873.4037893  5473405.92419404\\n 5472938.37636674 5472470.76254275 5472003.08161336 5471535.33246921\\n 5471067.51734663 5470599.6340208  5470131.6847287  5469663.66836081\\n 5469195.58380697 5468727.43330512 5468259.21462887 5467790.93001677\\n 5467322.57835854 5466854.15854321 5466385.67281031 5465917.11893186\\n 5465448.49914802 5464979.81234768 5464511.05741911 5464042.23660344\\n 5463573.34767109 5463104.39286383 5462635.37106976 5462166.28117635\\n 5461697.12542633 5461227.90158851 5460758.61190628 5460289.25526693\\n 5459819.83055714 5459350.34002124 5458880.78142647 5458411.1570178\\n 5457941.46568175 5457471.70630418 5457001.88113104 5456531.98792796\\n 5456062.02894151 5455592.00305741 5455121.90916075 5454651.74949905\\n 5454181.52183638 5453711.2284209  5453240.86813754 5452770.43987059\\n 5452299.94586918 5451829.38389577 5451358.75620012 5450888.06166637\\n 5450417.29917802 5449946.47098578 5449475.57485055 5449004.61302369\\n 5448533.58438853 5448062.48782779 5447591.32559378 5447120.09544579\\n 5446648.79963678 5446177.4370493  5445706.00656526 5445234.51043858\\n 5444762.94642696 5444291.31678496 5443819.62039435 5443347.85613624\\n 5442876.02626614 5442404.12854017 5441932.16521447 5441460.13517001\\n 5440988.03728712 5440515.87382291 5440043.64253192 5439571.34567188\\n 5439098.98212298 5438626.55076475 5438154.0538559  5437681.48914937\\n 5437208.85890448]&#x27;, &#x27;[5474808.16271857 5474340.81737572 5473873.4037893  5473405.92419404\\n 5472938.37636674 5472470.76254275 5472003.08161336 5471535.33246921\\n 5471067.51734663 5470599.6340208  5470131.6847287  5469663.66836081\\n 5469195.58380697 5468727.43330512 5468259.21462887 5467790.93001677\\n 5467322.57835854 5466854.15854321 5466385.67281031 5465917.11893186\\n 5465448.49914802 5464979.81234768 5464511.05741911 5464042.23660344\\n 5463573.34767109 5463104.39286383 5462635.37106976 5462166.28117635\\n 5461697.12542633 5461227.90158851 5460758.61190628 5460289.25526693\\n 5459819.83055714 5459350.34002124 5458880.78142647 5458411.1570178\\n 5457941.46568175 5457471.70630418 5457001.88113104 5456531.98792796\\n 5456062.02894151 5455592.00305741 5455121.90916075 5454651.74949905\\n 5454181.52183638 5453711.2284209  5453240.86813754 5452770.43987059\\n 5452299.94586918 5451829.38389577 5451358.75620012 5450888.06166637\\n 5450417.29917802 5449946.47098578 5449475.57485055 5449004.61302369\\n 5448533.58438853 5448062.48782779 5447591.32559378 5447120.09544579\\n 5446648.79963678 5446177.4370493  5445706.00656526 5445234.51043858\\n 5444762.94642696 5444291.31678496 5443819.62039435 5443347.85613624\\n 5442876.02626614 5442404.12854017 5441932.16521447 5441460.13517001\\n 5440988.03728712 5440515.87382291 5440043.64253192 5439571.34567188\\n 5439098.98212298 5438626.55076475 5438154.0538559  5437681.48914937\\n 5437208.85890448]&#x27;, &#x27;[5474808.16271857 5474340.81737572 5473873.4037893  5473405.92419404\\n 5472938.37636674 5472470.76254275 5472003.08161336 5471535.33246921\\n 5471067.51734663 5470599.6340208  5470131.6847287  5469663.66836081\\n 5469195.58380697 5468727.43330512 5468259.21462887 5467790.93001677\\n 5467322.57835854 5466854.15854321 5466385.67281031 5465917.11893186\\n 5465448.49914802 5464979.81234768 5464511.05741911 5464042.23660344\\n 5463573.34767109 5463104.39286383 5462635.37106976 5462166.28117635\\n 5461697.12542633 5461227.90158851 5460758.61190628 5460289.25526693\\n 5459819.83055714 5459350.34002124 5458880.78142647 5458411.1570178\\n 5457941.46568175 5457471.70630418 5457001.88113104 5456531.98792796\\n 5456062.02894151 5455592.00305741 5455121.90916075 5454651.74949905\\n 5454181.52183638 5453711.2284209  5453240.86813754 5452770.43987059\\n 5452299.94586918 5451829.38389577 5451358.75620012 5450888.06166637\\n 5450417.29917802 5449946.47098578 5449475.57485055 5449004.61302369\\n 5448533.58438853 5448062.48782779 5447591.32559378 5447120.09544579\\n 5446648.79963678 5446177.4370493  5445706.00656526 5445234.51043858\\n 5444762.94642696 5444291.31678496 5443819.62039435 5443347.85613624\\n 5442876.02626614 5442404.12854017 5441932.16521447 5441460.13517001\\n 5440988.03728712 5440515.87382291 5440043.64253192 5439571.34567188\\n 5439098.98212298 5438626.55076475 5438154.0538559  5437681.48914937\\n 5437208.85890448]&#x27;]</dd><dt><span>heading :</span></dt><dd>[&#x27;349.91295192092355&#x27;, &#x27;349.91295192092355&#x27;, &#x27;349.91295192092355&#x27;]</dd><dt><span>number_of_range_samples :</span></dt><dd>[&#x27;20&#x27;, &#x27;20&#x27;, &#x27;20&#x27;]</dd><dt><span>product_level :</span></dt><dd>[&#x27;SLC&#x27;, &#x27;SLC&#x27;, &#x27;SLC&#x27;]</dd><dt><span>mean_orbit_altitude :</span></dt><dd>[&#x27;536675.3876030303&#x27;, &#x27;536675.3876030303&#x27;, &#x27;536675.3876030303&#x27;]</dd><dt><span>data_orientation :</span></dt><dd>[&#x27;native&#x27;, &#x27;native&#x27;, &#x27;native&#x27;]</dd><dt><span>acquisition_prf :</span></dt><dd>[&#x27;5886.672581404736&#x27;, &#x27;5886.672581404736&#x27;, &#x27;5886.672581404736&#x27;]</dd><dt><span>azimuth_looks :</span></dt><dd>[&#x27;1&#x27;, &#x27;1&#x27;, &#x27;1&#x27;]</dd><dt><span>RPC_HEIGHT_SCALE :</span></dt><dd>[&#x27;343.31927490234375&#x27;, &#x27;343.31927490234375&#x27;, &#x27;343.31927490234375&#x27;]</dd><dt><span>product_name :</span></dt><dd>[&#x27;ICEYE_X9_SLC_SLED_54549_20210427T215124&#x27;, &#x27;ICEYE_X9_SLC_SLED_54549_20210427T215124&#x27;, &#x27;ICEYE_X9_SLC_SLED_54549_20210427T215124&#x27;]</dd><dt><span>RPC_LINE_SCALE :</span></dt><dd>[&#x27;127695.265625&#x27;, &#x27;127695.265625&#x27;, &#x27;127695.265625&#x27;]</dd><dt><span>look_side :</span></dt><dd>[&#x27;right&#x27;, &#x27;right&#x27;, &#x27;right&#x27;]</dd><dt><span>RPC_HEIGHT_OFF :</span></dt><dd>[&#x27;176.6807403564453&#x27;, &#x27;176.6807403564453&#x27;, &#x27;176.6807403564453&#x27;]</dd><dt><span>satellite_look_angle :</span></dt><dd>[&#x27;29&#x27;, &#x27;30&#x27;, &#x27;28&#x27;]</dd><dt><span>azimuth_ground_spacing :</span></dt><dd>[&#x27;0.19142525627706425&#x27;, &#x27;0.19142525627706425&#x27;, &#x27;0.19142525627706425&#x27;]</dd><dt><span>incidence_center :</span></dt><dd>[&#x27;29.5&#x27;, &#x27;30.5&#x27;, &#x27;28.5&#x27;]</dd><dt><span>ref_track_point_lla :</span></dt><dd>[&#x27;[ 37.44566562  -6.25501394 -42.92271706]&#x27;, &#x27;[ 37.44566562  -6.25501394 -42.92271706]&#x27;, &#x27;[ 37.44566562  -6.25501394 -42.92271706]&#x27;]</dd><dt><span>angZ :</span></dt><dd>[&#x27;[0. 0. 0. 0. 0. 0. 0. 0. 0. 0. 0. 0. 0. 0. 0. 0. 0. 0. 0. 0. 0. 0. 0. 0.\\n 0. 0. 0. 0. 0. 0. 0. 0. 0. 0. 0. 0. 0. 0. 0. 0. 0. 0. 0. 0. 0. 0. 0. 0.\\n 0. 0. 0. 0. 0. 0. 0. 0. 0. 0. 0. 0. 0. 0. 0. 0. 0. 0. 0. 0. 0. 0. 0. 0.\\n 0. 0. 0. 0. 0. 0. 0. 0. 0.]&#x27;, &#x27;[0. 0. 0. 0. 0. 0. 0. 0. 0. 0. 0. 0. 0. 0. 0. 0. 0. 0. 0. 0. 0. 0. 0. 0.\\n 0. 0. 0. 0. 0. 0. 0. 0. 0. 0. 0. 0. 0. 0. 0. 0. 0. 0. 0. 0. 0. 0. 0. 0.\\n 0. 0. 0. 0. 0. 0. 0. 0. 0. 0. 0. 0. 0. 0. 0. 0. 0. 0. 0. 0. 0. 0. 0. 0.\\n 0. 0. 0. 0. 0. 0. 0. 0. 0.]&#x27;, &#x27;[0. 0. 0. 0. 0. 0. 0. 0. 0. 0. 0. 0. 0. 0. 0. 0. 0. 0. 0. 0. 0. 0. 0. 0.\\n 0. 0. 0. 0. 0. 0. 0. 0. 0. 0. 0. 0. 0. 0. 0. 0. 0. 0. 0. 0. 0. 0. 0. 0.\\n 0. 0. 0. 0. 0. 0. 0. 0. 0. 0. 0. 0. 0. 0. 0. 0. 0. 0. 0. 0. 0. 0. 0. 0.\\n 0. 0. 0. 0. 0. 0. 0. 0. 0.]&#x27;]</dd><dt><span>ref_track_point_ecef :</span></dt><dd>[&#x27;[5039944. -552410. 3856819.]&#x27;, &#x27;[5039944. -552410. 3856819.]&#x27;, &#x27;[5039944. -552410. 3856819.]&#x27;]</dd><dt><span>geo_ref_system :</span></dt><dd>[&#x27;WGS84&#x27;, &#x27;WGS84&#x27;, &#x27;WGS84&#x27;]</dd><dt><span>carrier_frequency :</span></dt><dd>[&#x27;9650000000.0&#x27;, &#x27;9650000000.0&#x27;, &#x27;9650000000.0&#x27;]</dd><dt><span>sample_precision :</span></dt><dd>[&#x27;int16&#x27;, &#x27;int16&#x27;, &#x27;int16&#x27;]</dd><dt><span>RPC_SAMP_DEN_COEFF :</span></dt><dd>[&#x27;[0.15467888116836548, 0.0044975802302360535, 0.0012687476119026542, -0.00029731247923336923, 3.889326035277918e-05, -3.516104243317386e-06, -1.202955672852113e-06, 5.7404660765314475e-05, 4.787736543221399e-06, -6.023450964676158e-07, -3.31531992969758e-08, -4.863581537506434e-09, 1.2052447573296377e-07, 1.5022953547827456e-08, 4.692299171438208e-08, 1.2532026971712185e-08, 1.0803641314893753e-09, -7.21848536500147e-09, -1.6511486622405869e-09, 1.5383416762659863e-09]&#x27;, &#x27;[0.15467888116836548, 0.0044975802302360535, 0.0012687476119026542, -0.00029731247923336923, 3.889326035277918e-05, -3.516104243317386e-06, -1.202955672852113e-06, 5.7404660765314475e-05, 4.787736543221399e-06, -6.023450964676158e-07, -3.31531992969758e-08, -4.863581537506434e-09, 1.2052447573296377e-07, 1.5022953547827456e-08, 4.692299171438208e-08, 1.2532026971712185e-08, 1.0803641314893753e-09, -7.21848536500147e-09, -1.6511486622405869e-09, 1.5383416762659863e-09]&#x27;, &#x27;[0.15467888116836548, 0.0044975802302360535, 0.0012687476119026542, -0.00029731247923336923, 3.889326035277918e-05, -3.516104243317386e-06, -1.202955672852113e-06, 5.7404660765314475e-05, 4.787736543221399e-06, -6.023450964676158e-07, -3.31531992969758e-08, -4.863581537506434e-09, 1.2052447573296377e-07, 1.5022953547827456e-08, 4.692299171438208e-08, 1.2532026971712185e-08, 1.0803641314893753e-09, -7.21848536500147e-09, -1.6511486622405869e-09, 1.5383416762659863e-09]&#x27;]</dd><dt><span>coord_last_near :</span></dt><dd>[&#x27;[ 1.00000000e+00  2.81600000e+04  3.74646428e+01 -6.29260350e+00]&#x27;, &#x27;[ 1.00000000e+00  2.81600000e+04  3.74646428e+01 -6.29260350e+00]&#x27;, &#x27;[ 1.00000000e+00  2.81600000e+04  3.74646428e+01 -6.29260350e+00]&#x27;]</dd><dt><span>doppler_rate_poly_order :</span></dt><dd>[&#x27;3&#x27;, &#x27;3&#x27;, &#x27;3&#x27;]</dd><dt><span>range_sampling_rate :</span></dt><dd>[&#x27;358148331.2923262&#x27;, &#x27;358148331.2923262&#x27;, &#x27;358148331.2923262&#x27;]</dd><dt><span>number_of_azimuth_samples :</span></dt><dd>[&#x27;20&#x27;, &#x27;20&#x27;, &#x27;20&#x27;]</dd><dt><span>orbit_relative_number :</span></dt><dd>[&#x27;9915&#x27;, &#x27;9915&#x27;, &#x27;9915&#x27;]</dd><dt><span>coord_first_far :</span></dt><dd>[&#x27;[ 7.42400000e+03  1.00000000e+00  3.74264593e+01 -6.21673831e+00]&#x27;, &#x27;[ 7.42400000e+03  1.00000000e+00  3.74264593e+01 -6.21673831e+00]&#x27;, &#x27;[ 7.42400000e+03  1.00000000e+00  3.74264593e+01 -6.21673831e+00]&#x27;]</dd><dt><span>velX :</span></dt><dd>[&#x27;[-4673.12223293 -4673.79355399 -4674.46481748 -4675.13602017\\n -4675.80716526 -4676.47824955 -4677.14927463 -4677.82024208\\n -4678.49114871 -4679.16199769 -4679.83278583 -4680.50351471\\n -4681.17418593 -4681.84479628 -4682.51534894 -4683.18584072\\n -4683.85627319 -4684.52664797 -4685.19696183 -4685.86721796\\n -4686.53741317 -4687.20754904 -4687.87762716 -4688.54764432\\n -4689.21760372 -4689.88750215 -4690.5573412  -4691.22712246\\n -4691.89684272 -4692.56650517 -4693.23610662 -4693.90564864\\n -4694.57513283 -4695.24455598 -4695.91392128 -4696.58322553\\n -4697.25247031 -4697.92165722 -4698.59078306 -4699.259851\\n -4699.92885785 -4700.59780519 -4701.26669461 -4701.93552292\\n -4702.60429329 -4703.27300253 -4703.94165222 -4704.61024395\\n -4705.27877453 -4705.94724712 -4706.61565854 -4707.28401038\\n -4707.95230421 -4708.62053684 -4709.28871145 -4709.95682485\\n -4710.62487861 -4711.29287433 -4711.96080881 -4712.62868523\\n -4713.2965004  -4713.96425589 -4714.6319533  -4715.29958942\\n -4715.96716744 -4716.63468417 -4717.30214118 -4717.96954006\\n -4718.63687762 -4719.30415703 -4719.97137511 -4720.63853343\\n -4721.30563359 -4721.97267238 -4722.63965298 -4723.3065722\\n -4723.97343163 -4724.64023284 -4725.30697265 -4725.97365423\\n -4726.64027439]&#x27;, &#x27;[-4673.12223293 -4673.79355399 -4674.46481748 -4675.13602017\\n -4675.80716526 -4676.47824955 -4677.14927463 -4677.82024208\\n -4678.49114871 -4679.16199769 -4679.83278583 -4680.50351471\\n -4681.17418593 -4681.84479628 -4682.51534894 -4683.18584072\\n -4683.85627319 -4684.52664797 -4685.19696183 -4685.86721796\\n -4686.53741317 -4687.20754904 -4687.87762716 -4688.54764432\\n -4689.21760372 -4689.88750215 -4690.5573412  -4691.22712246\\n -4691.89684272 -4692.56650517 -4693.23610662 -4693.90564864\\n -4694.57513283 -4695.24455598 -4695.91392128 -4696.58322553\\n -4697.25247031 -4697.92165722 -4698.59078306 -4699.259851\\n -4699.92885785 -4700.59780519 -4701.26669461 -4701.93552292\\n -4702.60429329 -4703.27300253 -4703.94165222 -4704.61024395\\n -4705.27877453 -4705.94724712 -4706.61565854 -4707.28401038\\n -4707.95230421 -4708.62053684 -4709.28871145 -4709.95682485\\n -4710.62487861 -4711.29287433 -4711.96080881 -4712.62868523\\n -4713.2965004  -4713.96425589 -4714.6319533  -4715.29958942\\n -4715.96716744 -4716.63468417 -4717.30214118 -4717.96954006\\n -4718.63687762 -4719.30415703 -4719.97137511 -4720.63853343\\n -4721.30563359 -4721.97267238 -4722.63965298 -4723.3065722\\n -4723.97343163 -4724.64023284 -4725.30697265 -4725.97365423\\n -4726.64027439]&#x27;, &#x27;[-4673.12223293 -4673.79355399 -4674.46481748 -4675.13602017\\n -4675.80716526 -4676.47824955 -4677.14927463 -4677.82024208\\n -4678.49114871 -4679.16199769 -4679.83278583 -4680.50351471\\n -4681.17418593 -4681.84479628 -4682.51534894 -4683.18584072\\n -4683.85627319 -4684.52664797 -4685.19696183 -4685.86721796\\n -4686.53741317 -4687.20754904 -4687.87762716 -4688.54764432\\n -4689.21760372 -4689.88750215 -4690.5573412  -4691.22712246\\n -4691.89684272 -4692.56650517 -4693.23610662 -4693.90564864\\n -4694.57513283 -4695.24455598 -4695.91392128 -4696.58322553\\n -4697.25247031 -4697.92165722 -4698.59078306 -4699.259851\\n -4699.92885785 -4700.59780519 -4701.26669461 -4701.93552292\\n -4702.60429329 -4703.27300253 -4703.94165222 -4704.61024395\\n -4705.27877453 -4705.94724712 -4706.61565854 -4707.28401038\\n -4707.95230421 -4708.62053684 -4709.28871145 -4709.95682485\\n -4710.62487861 -4711.29287433 -4711.96080881 -4712.62868523\\n -4713.2965004  -4713.96425589 -4714.6319533  -4715.29958942\\n -4715.96716744 -4716.63468417 -4717.30214118 -4717.96954006\\n -4718.63687762 -4719.30415703 -4719.97137511 -4720.63853343\\n -4721.30563359 -4721.97267238 -4722.63965298 -4723.3065722\\n -4723.97343163 -4724.64023284 -4725.30697265 -4725.97365423\\n -4726.64027439]&#x27;]</dd><dt><span>polarization :</span></dt><dd>[&#x27;VV&#x27;, &#x27;VV&#x27;, &#x27;VV&#x27;]</dd><dt><span>RPC_LONG_SCALE :</span></dt><dd>[&#x27;0.20208331942558289&#x27;, &#x27;0.20208331942558289&#x27;, &#x27;0.20208331942558289&#x27;]</dd><dt><span>acquisition_start_utc :</span></dt><dd>[&#x27;2021-04-27T21:51:24.929476&#x27;, &#x27;2021-04-27T21:51:24.929476&#x27;, &#x27;2021-04-27T21:51:24.929476&#x27;]</dd><dt><span>RPC_SAMP_SCALE :</span></dt><dd>[&#x27;27781.984375&#x27;, &#x27;27781.984375&#x27;, &#x27;27781.984375&#x27;]</dd><dt><span>velZ :</span></dt><dd>[&#x27;[6022.05575618 6021.5578102  6021.05979033 6020.56169896 6020.06353371\\n 6019.56529696 6019.06698754 6018.56860427 6018.07014951 6017.57162092\\n 6017.07302086 6016.57434815 6016.07560162 6015.57678364 6015.07789185\\n 6014.57892863 6014.07989279 6013.58078316 6013.08160211 6012.58234728\\n 6012.08302105 6011.58362224 6011.08414966 6010.58460569 6010.08498798\\n 6009.58529889 6009.08553725 6008.58570188 6008.08579515 6007.5858147\\n 6007.08576292 6006.58563861 6006.08544059 6005.58517126 6005.08482823\\n 6004.5844139  6004.08392707 6003.58336657 6003.08273479 6002.58202933\\n 6002.08125261 6001.58040342 6001.07948059 6000.5784865  6000.07741878\\n 5999.57627981 5999.07506842 5998.57378341 5998.07242718 5997.57099734\\n 5997.06949629 5996.56792284 5996.06627581 5995.56455758 5995.06276578\\n 5994.5609028  5994.05896746 5993.55695855 5993.05487849 5992.55272489\\n 5992.05050013 5991.54820304 5991.04583243 5990.54339068 5990.04087542\\n 5989.53828905 5989.03563037 5988.53289819 5988.03009492 5987.52721816\\n 5987.02427032 5986.52125021 5986.01815663 5985.51499198 5985.01175388\\n 5984.50844473 5984.00506334 5983.50160851 5982.99808264 5982.49448335\\n 5981.99081305]&#x27;, &#x27;[6022.05575618 6021.5578102  6021.05979033 6020.56169896 6020.06353371\\n 6019.56529696 6019.06698754 6018.56860427 6018.07014951 6017.57162092\\n 6017.07302086 6016.57434815 6016.07560162 6015.57678364 6015.07789185\\n 6014.57892863 6014.07989279 6013.58078316 6013.08160211 6012.58234728\\n 6012.08302105 6011.58362224 6011.08414966 6010.58460569 6010.08498798\\n 6009.58529889 6009.08553725 6008.58570188 6008.08579515 6007.5858147\\n 6007.08576292 6006.58563861 6006.08544059 6005.58517126 6005.08482823\\n 6004.5844139  6004.08392707 6003.58336657 6003.08273479 6002.58202933\\n 6002.08125261 6001.58040342 6001.07948059 6000.5784865  6000.07741878\\n 5999.57627981 5999.07506842 5998.57378341 5998.07242718 5997.57099734\\n 5997.06949629 5996.56792284 5996.06627581 5995.56455758 5995.06276578\\n 5994.5609028  5994.05896746 5993.55695855 5993.05487849 5992.55272489\\n 5992.05050013 5991.54820304 5991.04583243 5990.54339068 5990.04087542\\n 5989.53828905 5989.03563037 5988.53289819 5988.03009492 5987.52721816\\n 5987.02427032 5986.52125021 5986.01815663 5985.51499198 5985.01175388\\n 5984.50844473 5984.00506334 5983.50160851 5982.99808264 5982.49448335\\n 5981.99081305]&#x27;, &#x27;[6022.05575618 6021.5578102  6021.05979033 6020.56169896 6020.06353371\\n 6019.56529696 6019.06698754 6018.56860427 6018.07014951 6017.57162092\\n 6017.07302086 6016.57434815 6016.07560162 6015.57678364 6015.07789185\\n 6014.57892863 6014.07989279 6013.58078316 6013.08160211 6012.58234728\\n 6012.08302105 6011.58362224 6011.08414966 6010.58460569 6010.08498798\\n 6009.58529889 6009.08553725 6008.58570188 6008.08579515 6007.5858147\\n 6007.08576292 6006.58563861 6006.08544059 6005.58517126 6005.08482823\\n 6004.5844139  6004.08392707 6003.58336657 6003.08273479 6002.58202933\\n 6002.08125261 6001.58040342 6001.07948059 6000.5784865  6000.07741878\\n 5999.57627981 5999.07506842 5998.57378341 5998.07242718 5997.57099734\\n 5997.06949629 5996.56792284 5996.06627581 5995.56455758 5995.06276578\\n 5994.5609028  5994.05896746 5993.55695855 5993.05487849 5992.55272489\\n 5992.05050013 5991.54820304 5991.04583243 5990.54339068 5990.04087542\\n 5989.53828905 5989.03563037 5988.53289819 5988.03009492 5987.52721816\\n 5987.02427032 5986.52125021 5986.01815663 5985.51499198 5985.01175388\\n 5984.50844473 5984.00506334 5983.50160851 5982.99808264 5982.49448335\\n 5981.99081305]&#x27;]</dd><dt><span>processing_time :</span></dt><dd>[&#x27;2021-04-28T04:58:23&#x27;, &#x27;2021-04-28T04:58:23&#x27;, &#x27;2021-04-28T04:58:23&#x27;]</dd><dt><span>zerodoppler_start_utc :</span></dt><dd>[&#x27;2021-04-27T21:51:27.093640&#x27;, &#x27;2021-04-27T21:51:27.093640&#x27;, &#x27;2021-04-27T21:51:27.093640&#x27;]</dd><dt><span>RPC_LAT_SCALE :</span></dt><dd>[&#x27;0.19374999403953552&#x27;, &#x27;0.19374999403953552&#x27;, &#x27;0.19374999403953552&#x27;]</dd><dt><span>dc_estimate_coeffs :</span></dt><dd>[&#x27;[[-2259.75195312     0.             0.             0.        ]\\n [-1743.7265625      0.             0.             0.        ]\\n [-1227.69921875     0.             0.             0.        ]\\n [ -711.671875       0.             0.             0.        ]\\n [ -195.64453125     0.             0.             0.        ]\\n [  320.38085938     0.             0.             0.        ]\\n [  836.40625        0.             0.             0.        ]\\n [ 1352.43359375     0.             0.             0.        ]\\n [ 1868.4609375      0.             0.             0.        ]\\n [ 2384.48828125     0.             0.             0.        ]]&#x27;, &#x27;[[-2259.75195312     0.             0.             0.        ]\\n [-1743.7265625      0.             0.             0.        ]\\n [-1227.69921875     0.             0.             0.        ]\\n [ -711.671875       0.             0.             0.        ]\\n [ -195.64453125     0.             0.             0.        ]\\n [  320.38085938     0.             0.             0.        ]\\n [  836.40625        0.             0.             0.        ]\\n [ 1352.43359375     0.             0.             0.        ]\\n [ 1868.4609375      0.             0.             0.        ]\\n [ 2384.48828125     0.             0.             0.        ]]&#x27;, &#x27;[[-2259.75195312     0.             0.             0.        ]\\n [-1743.7265625      0.             0.             0.        ]\\n [-1227.69921875     0.             0.             0.        ]\\n [ -711.671875       0.             0.             0.        ]\\n [ -195.64453125     0.             0.             0.        ]\\n [  320.38085938     0.             0.             0.        ]\\n [  836.40625        0.             0.             0.        ]\\n [ 1352.43359375     0.             0.             0.        ]\\n [ 1868.4609375      0.             0.             0.        ]\\n [ 2384.48828125     0.             0.             0.        ]]&#x27;]</dd><dt><span>incidence_far :</span></dt><dd>[&#x27;32.208819936210446&#x27;, &#x27;32.208819936210446&#x27;, &#x27;32.208819936210446&#x27;]</dd><dt><span>dc_estimate_time_utc :</span></dt><dd>[&quot;[[b&#x27;2021-04-27T21:51:27.093640&#x27;]\\n [b&#x27;2021-04-27T21:51:27.178412&#x27;]\\n [b&#x27;2021-04-27T21:51:27.263185&#x27;]\\n [b&#x27;2021-04-27T21:51:27.347958&#x27;]\\n [b&#x27;2021-04-27T21:51:27.432730&#x27;]\\n [b&#x27;2021-04-27T21:51:27.517503&#x27;]\\n [b&#x27;2021-04-27T21:51:27.602275&#x27;]\\n [b&#x27;2021-04-27T21:51:27.687048&#x27;]\\n [b&#x27;2021-04-27T21:51:27.771820&#x27;]\\n [b&#x27;2021-04-27T21:51:27.856593&#x27;]]&quot;, &quot;[[b&#x27;2021-04-27T21:51:27.093640&#x27;]\\n [b&#x27;2021-04-27T21:51:27.178412&#x27;]\\n [b&#x27;2021-04-27T21:51:27.263185&#x27;]\\n [b&#x27;2021-04-27T21:51:27.347958&#x27;]\\n [b&#x27;2021-04-27T21:51:27.432730&#x27;]\\n [b&#x27;2021-04-27T21:51:27.517503&#x27;]\\n [b&#x27;2021-04-27T21:51:27.602275&#x27;]\\n [b&#x27;2021-04-27T21:51:27.687048&#x27;]\\n [b&#x27;2021-04-27T21:51:27.771820&#x27;]\\n [b&#x27;2021-04-27T21:51:27.856593&#x27;]]&quot;, &quot;[[b&#x27;2021-04-27T21:51:27.093640&#x27;]\\n [b&#x27;2021-04-27T21:51:27.178412&#x27;]\\n [b&#x27;2021-04-27T21:51:27.263185&#x27;]\\n [b&#x27;2021-04-27T21:51:27.347958&#x27;]\\n [b&#x27;2021-04-27T21:51:27.432730&#x27;]\\n [b&#x27;2021-04-27T21:51:27.517503&#x27;]\\n [b&#x27;2021-04-27T21:51:27.602275&#x27;]\\n [b&#x27;2021-04-27T21:51:27.687048&#x27;]\\n [b&#x27;2021-04-27T21:51:27.771820&#x27;]\\n [b&#x27;2021-04-27T21:51:27.856593&#x27;]]&quot;]</dd><dt><span>processing_prf :</span></dt><dd>[&#x27;36909.21454162281&#x27;, &#x27;36909.21454162281&#x27;, &#x27;36909.21454162281&#x27;]</dd><dt><span>slant_range_to_first_pixel :</span></dt><dd>[&#x27;621684.5286148057&#x27;, &#x27;621684.5286148057&#x27;, &#x27;621684.5286148057&#x27;]</dd><dt><span>zerodoppler_end_utc :</span></dt><dd>[&#x27;2021-04-27T21:51:27.856593&#x27;, &#x27;2021-04-27T21:51:27.856593&#x27;, &#x27;2021-04-27T21:51:27.856593&#x27;]</dd><dt><span>satellite_name :</span></dt><dd>[&#x27;ICEYE-X9&#x27;, &#x27;ICEYE-X9&#x27;, &#x27;ICEYE-X9&#x27;]</dd><dt><span>orbit_processing_level :</span></dt><dd>[&#x27;precise&#x27;, &#x27;precise&#x27;, &#x27;precise&#x27;]</dd><dt><span>posZ :</span></dt><dd>[&#x27;[4109487.20309768 4110089.38320021 4110691.51494008 4111293.59543885\\n 4111895.62756019 4112497.60842612 4113099.5394648  4113701.42210389\\n 4114303.25346613 4114905.03641401 4115506.76807074 4116108.44986388\\n 4116710.0832205  4117311.66526454 4117913.19885731 4118514.68112321\\n 4119116.11348921 4119717.4973818  4120318.82992609 4120920.1139822\\n 4121521.34667574 4122122.52943307 4122723.66368008 4123324.7465431\\n 4123925.78088107 4124526.76382077 4125127.69678798 4125728.58120801\\n 4126329.41420836 4126930.19864679 4127530.93165127 4128131.61464698\\n 4128732.24905865 4129332.83201498 4129933.36637252 4130533.84926045\\n 4131134.28210339 4131734.66632543 4132334.99905648 4132935.2831519\\n 4133535.51574207 4134135.69825099 4134735.83210218 4135335.91442675\\n 4135935.94807886 4136535.9301901  4137135.86218387 4137735.74548311\\n 4138335.5772201  4138935.36024782 4139535.09169906 4140134.77299661\\n 4140734.40556282 4141333.98653118 4141933.51875348 4142532.9993637\\n 4143132.42978405 4143731.81143628 4144331.14145507 4144930.42269102\\n 4145529.6522793  4146128.83164154 4146727.96219887 4147327.0410872\\n 4147926.07115592 4148525.04954141 4149123.9776647  4149722.85694634\\n 4150321.68452341 4150920.46324413 4151519.19024607 4152117.86694965\\n 4152716.49477483 4153315.07085991 4153913.5980519  4154512.07348958\\n 4155110.49859279 4155708.87478087 4156307.19919332 4156905.47467597\\n 4157503.69836878]&#x27;, &#x27;[4109487.20309768 4110089.38320021 4110691.51494008 4111293.59543885\\n 4111895.62756019 4112497.60842612 4113099.5394648  4113701.42210389\\n 4114303.25346613 4114905.03641401 4115506.76807074 4116108.44986388\\n 4116710.0832205  4117311.66526454 4117913.19885731 4118514.68112321\\n 4119116.11348921 4119717.4973818  4120318.82992609 4120920.1139822\\n 4121521.34667574 4122122.52943307 4122723.66368008 4123324.7465431\\n 4123925.78088107 4124526.76382077 4125127.69678798 4125728.58120801\\n 4126329.41420836 4126930.19864679 4127530.93165127 4128131.61464698\\n 4128732.24905865 4129332.83201498 4129933.36637252 4130533.84926045\\n 4131134.28210339 4131734.66632543 4132334.99905648 4132935.2831519\\n 4133535.51574207 4134135.69825099 4134735.83210218 4135335.91442675\\n 4135935.94807886 4136535.9301901  4137135.86218387 4137735.74548311\\n 4138335.5772201  4138935.36024782 4139535.09169906 4140134.77299661\\n 4140734.40556282 4141333.98653118 4141933.51875348 4142532.9993637\\n 4143132.42978405 4143731.81143628 4144331.14145507 4144930.42269102\\n 4145529.6522793  4146128.83164154 4146727.96219887 4147327.0410872\\n 4147926.07115592 4148525.04954141 4149123.9776647  4149722.85694634\\n 4150321.68452341 4150920.46324413 4151519.19024607 4152117.86694965\\n 4152716.49477483 4153315.07085991 4153913.5980519  4154512.07348958\\n 4155110.49859279 4155708.87478087 4156307.19919332 4156905.47467597\\n 4157503.69836878]&#x27;, &#x27;[4109487.20309768 4110089.38320021 4110691.51494008 4111293.59543885\\n 4111895.62756019 4112497.60842612 4113099.5394648  4113701.42210389\\n 4114303.25346613 4114905.03641401 4115506.76807074 4116108.44986388\\n 4116710.0832205  4117311.66526454 4117913.19885731 4118514.68112321\\n 4119116.11348921 4119717.4973818  4120318.82992609 4120920.1139822\\n 4121521.34667574 4122122.52943307 4122723.66368008 4123324.7465431\\n 4123925.78088107 4124526.76382077 4125127.69678798 4125728.58120801\\n 4126329.41420836 4126930.19864679 4127530.93165127 4128131.61464698\\n 4128732.24905865 4129332.83201498 4129933.36637252 4130533.84926045\\n 4131134.28210339 4131734.66632543 4132334.99905648 4132935.2831519\\n 4133535.51574207 4134135.69825099 4134735.83210218 4135335.91442675\\n 4135935.94807886 4136535.9301901  4137135.86218387 4137735.74548311\\n 4138335.5772201  4138935.36024782 4139535.09169906 4140134.77299661\\n 4140734.40556282 4141333.98653118 4141933.51875348 4142532.9993637\\n 4143132.42978405 4143731.81143628 4144331.14145507 4144930.42269102\\n 4145529.6522793  4146128.83164154 4146727.96219887 4147327.0410872\\n 4147926.07115592 4148525.04954141 4149123.9776647  4149722.85694634\\n 4150321.68452341 4150920.46324413 4151519.19024607 4152117.86694965\\n 4152716.49477483 4153315.07085991 4153913.5980519  4154512.07348958\\n 4155110.49859279 4155708.87478087 4156307.19919332 4156905.47467597\\n 4157503.69836878]&#x27;]</dd><dt><span>RPC_LINE_NUM_COEFF :</span></dt><dd>[&#x27;[-0.2578882575035095, -121.38870239257812, 801.61962890625, 0.03505373001098633, 121.65729522705078, 0.8761919736862183, -5.816091060638428, 0.3620956540107727, -785.8128051757812, -0.0002460726536810398, 0.25339189171791077, -0.07244207710027695, -2.7221195697784424, -0.0008237857837229967, 0.22757625579833984, -2.9497532844543457, 0.005537793971598148, -0.02458036132156849, -0.8406327366828918, -4.56743828181061e-06]&#x27;, &#x27;[-0.2578882575035095, -121.38870239257812, 801.61962890625, 0.03505373001098633, 121.65729522705078, 0.8761919736862183, -5.816091060638428, 0.3620956540107727, -785.8128051757812, -0.0002460726536810398, 0.25339189171791077, -0.07244207710027695, -2.7221195697784424, -0.0008237857837229967, 0.22757625579833984, -2.9497532844543457, 0.005537793971598148, -0.02458036132156849, -0.8406327366828918, -4.56743828181061e-06]&#x27;, &#x27;[-0.2578882575035095, -121.38870239257812, 801.61962890625, 0.03505373001098633, 121.65729522705078, 0.8761919736862183, -5.816091060638428, 0.3620956540107727, -785.8128051757812, -0.0002460726536810398, 0.25339189171791077, -0.07244207710027695, -2.7221195697784424, -0.0008237857837229967, 0.22757625579833984, -2.9497532844543457, 0.005537793971598148, -0.02458036132156849, -0.8406327366828918, -4.56743828181061e-06]&#x27;]</dd><dt><span>yaw :</span></dt><dd>[&#x27;0.0&#x27;, &#x27;0.0&#x27;, &#x27;0.0&#x27;]</dd><dt><span>doppler_rate_coeffs :</span></dt><dd>[&#x27;[-5.58027093e+03  1.34212242e+06 -3.22798340e+08  7.76370140e+10]&#x27;, &#x27;[-5.58027093e+03  1.34212242e+06 -3.22798340e+08  7.76370140e+10]&#x27;, &#x27;[-5.58027093e+03  1.34212242e+06 -3.22798340e+08  7.76370140e+10]&#x27;]</dd><dt><span>avg_scene_height :</span></dt><dd>[&#x27;110.74176&#x27;, &#x27;110.74176&#x27;, &#x27;110.74176&#x27;]</dd><dt><span>coord_first_near :</span></dt><dd>[&#x27;[ 1.          1.         37.41700064 -6.28184839]&#x27;, &#x27;[ 1.          1.         37.41700064 -6.28184839]&#x27;, &#x27;[ 1.          1.         37.41700064 -6.28184839]&#x27;]</dd><dt><span>range_spread_comp_flag :</span></dt><dd>[&#x27;1&#x27;, &#x27;1&#x27;, &#x27;1&#x27;]</dd><dt><span>product_type :</span></dt><dd>[&#x27;SpotlightExtendedDwell&#x27;, &#x27;SpotlightExtendedDwell&#x27;, &#x27;SpotlightExtendedDwell&#x27;]</dd><dt><span>mean_earth_radius :</span></dt><dd>[&#x27;6370576.1554293325&#x27;, &#x27;6370576.1554293325&#x27;, &#x27;6370576.1554293325&#x27;]</dd><dt><span>orbit_repeat_cycle :</span></dt><dd>[&#x27;99999&#x27;, &#x27;99999&#x27;, &#x27;99999&#x27;]</dd><dt><span>chirp_bandwidth :</span></dt><dd>[&#x27;300000000&#x27;, &#x27;300000000&#x27;, &#x27;300000000&#x27;]</dd><dt><span>RPC_LAT_OFF :</span></dt><dd>[&#x27;37.44791793823242&#x27;, &#x27;37.44791793823242&#x27;, &#x27;37.44791793823242&#x27;]</dd><dt><span>azimuth_angles_of_the_beam :</span></dt><dd>[&#x27;[-0.24823085 -0.24821358 -0.24819631 ...  0.24507801  0.24509529\\n  0.24511257]&#x27;, &#x27;[-0.24823085 -0.24821358 -0.24819631 ...  0.24507801  0.24509529\\n  0.24511257]&#x27;, &#x27;[-0.24823085 -0.24821358 -0.24819631 ...  0.24507801  0.24509529\\n  0.24511257]&#x27;]</dd><dt><span>number_of_state_vectors :</span></dt><dd>[&#x27;81&#x27;, &#x27;81&#x27;, &#x27;81&#x27;]</dd><dt><span>first_pixel_time :</span></dt><dd>[&#x27;0.004147432745721746&#x27;, &#x27;0.004147432745721746&#x27;, &#x27;0.004147432745721746&#x27;]</dd><dt><span>processor_version :</span></dt><dd>[&#x27;1.31&#x27;, &#x27;1.31&#x27;, &#x27;1.31&#x27;]</dd><dt><span>pitch :</span></dt><dd>[&#x27;0.0&#x27;, &#x27;0.0&#x27;, &#x27;0.0&#x27;]</dd><dt><span>coord_last_far :</span></dt><dd>[&#x27;[ 7.42400000e+03  2.81600000e+04  3.74741236e+01 -6.22730050e+00]&#x27;, &#x27;[ 7.42400000e+03  2.81600000e+04  3.74741236e+01 -6.22730050e+00]&#x27;, &#x27;[ 7.42400000e+03  2.81600000e+04  3.74741236e+01 -6.22730050e+00]&#x27;]</dd><dt><span>dc_estimate_poly_order :</span></dt><dd>[&#x27;3&#x27;, &#x27;3&#x27;, &#x27;3&#x27;]</dd><dt><span>window_function_azimuth :</span></dt><dd>[&#x27;NONE&#x27;, &#x27;NONE&#x27;, &#x27;NONE&#x27;]</dd><dt><span>window_function_range :</span></dt><dd>[&#x27;NONE&#x27;, &#x27;NONE&#x27;, &#x27;NONE&#x27;]</dd><dt><span>angY :</span></dt><dd>[&#x27;[0. 0. 0. 0. 0. 0. 0. 0. 0. 0. 0. 0. 0. 0. 0. 0. 0. 0. 0. 0. 0. 0. 0. 0.\\n 0. 0. 0. 0. 0. 0. 0. 0. 0. 0. 0. 0. 0. 0. 0. 0. 0. 0. 0. 0. 0. 0. 0. 0.\\n 0. 0. 0. 0. 0. 0. 0. 0. 0. 0. 0. 0. 0. 0. 0. 0. 0. 0. 0. 0. 0. 0. 0. 0.\\n 0. 0. 0. 0. 0. 0. 0. 0. 0.]&#x27;, &#x27;[0. 0. 0. 0. 0. 0. 0. 0. 0. 0. 0. 0. 0. 0. 0. 0. 0. 0. 0. 0. 0. 0. 0. 0.\\n 0. 0. 0. 0. 0. 0. 0. 0. 0. 0. 0. 0. 0. 0. 0. 0. 0. 0. 0. 0. 0. 0. 0. 0.\\n 0. 0. 0. 0. 0. 0. 0. 0. 0. 0. 0. 0. 0. 0. 0. 0. 0. 0. 0. 0. 0. 0. 0. 0.\\n 0. 0. 0. 0. 0. 0. 0. 0. 0.]&#x27;, &#x27;[0. 0. 0. 0. 0. 0. 0. 0. 0. 0. 0. 0. 0. 0. 0. 0. 0. 0. 0. 0. 0. 0. 0. 0.\\n 0. 0. 0. 0. 0. 0. 0. 0. 0. 0. 0. 0. 0. 0. 0. 0. 0. 0. 0. 0. 0. 0. 0. 0.\\n 0. 0. 0. 0. 0. 0. 0. 0. 0. 0. 0. 0. 0. 0. 0. 0. 0. 0. 0. 0. 0. 0. 0. 0.\\n 0. 0. 0. 0. 0. 0. 0. 0. 0.]&#x27;]</dd><dt><span>RPC_SAMP_NUM_COEFF :</span></dt><dd>[&#x27;[-0.0009412214858457446, 0.12370436638593674, 0.027725663036108017, -0.003873632289469242, 0.0026649765204638243, -0.0002859267115127295, -7.105545228114352e-05, 0.006275189109146595, 0.0003226893022656441, 7.804713277437259e-06, -3.2152356652659364e-06, 8.491354674333706e-05, 9.824057997320779e-06, -4.820057029064628e-07, 4.86567550979089e-05, 8.434716960437072e-07, -9.65340021252814e-08, -7.038798685243819e-06, -3.9898580439512443e-07, 1.4833722694618245e-08]&#x27;, &#x27;[-0.0009412214858457446, 0.12370436638593674, 0.027725663036108017, -0.003873632289469242, 0.0026649765204638243, -0.0002859267115127295, -7.105545228114352e-05, 0.006275189109146595, 0.0003226893022656441, 7.804713277437259e-06, -3.2152356652659364e-06, 8.491354674333706e-05, 9.824057997320779e-06, -4.820057029064628e-07, 4.86567550979089e-05, 8.434716960437072e-07, -9.65340021252814e-08, -7.038798685243819e-06, -3.9898580439512443e-07, 1.4833722694618245e-08]&#x27;, &#x27;[-0.0009412214858457446, 0.12370436638593674, 0.027725663036108017, -0.003873632289469242, 0.0026649765204638243, -0.0002859267115127295, -7.105545228114352e-05, 0.006275189109146595, 0.0003226893022656441, 7.804713277437259e-06, -3.2152356652659364e-06, 8.491354674333706e-05, 9.824057997320779e-06, -4.820057029064628e-07, 4.86567550979089e-05, 8.434716960437072e-07, -9.65340021252814e-08, -7.038798685243819e-06, -3.9898580439512443e-07, 1.4833722694618245e-08]&#x27;]</dd><dt><span>slant_range_spacing :</span></dt><dd>[&#x27;0.4185311389253755&#x27;, &#x27;0.4185311389253755&#x27;, &#x27;0.4185311389253755&#x27;]</dd></dl></div><div class='xr-var-data'><table>\n",
       "<tr>\n",
       "<td>\n",
       "<table>\n",
       "  <thead>\n",
       "    <tr><td> </td><th> Array </th><th> Chunk </th></tr>\n",
       "  </thead>\n",
       "  <tbody>\n",
       "    <tr><th> Bytes </th><td> 300 B </td> <td> 100 B </td></tr>\n",
       "    <tr><th> Shape </th><td> (3, 5, 5) </td> <td> (1, 5, 5) </td></tr>\n",
       "    <tr><th> Count </th><td> 15 Tasks </td><td> 3 Chunks </td></tr>\n",
       "    <tr><th> Type </th><td> float32 </td><td> numpy.ndarray </td></tr>\n",
       "  </tbody>\n",
       "</table>\n",
       "</td>\n",
       "<td>\n",
       "<svg width=\"222\" height=\"212\" style=\"stroke:rgb(0,0,0);stroke-width:1\" >\n",
       "\n",
       "  <!-- Horizontal lines -->\n",
       "  <line x1=\"10\" y1=\"0\" x2=\"52\" y2=\"42\" style=\"stroke-width:2\" />\n",
       "  <line x1=\"10\" y1=\"120\" x2=\"52\" y2=\"162\" style=\"stroke-width:2\" />\n",
       "\n",
       "  <!-- Vertical lines -->\n",
       "  <line x1=\"10\" y1=\"0\" x2=\"10\" y2=\"120\" style=\"stroke-width:2\" />\n",
       "  <line x1=\"24\" y1=\"14\" x2=\"24\" y2=\"134\" />\n",
       "  <line x1=\"38\" y1=\"28\" x2=\"38\" y2=\"148\" />\n",
       "  <line x1=\"52\" y1=\"42\" x2=\"52\" y2=\"162\" style=\"stroke-width:2\" />\n",
       "\n",
       "  <!-- Colored Rectangle -->\n",
       "  <polygon points=\"10.0,0.0 52.35294117647059,42.35294117647059 52.35294117647059,162.35294117647058 10.0,120.0\" style=\"fill:#ECB172A0;stroke-width:0\"/>\n",
       "\n",
       "  <!-- Horizontal lines -->\n",
       "  <line x1=\"10\" y1=\"0\" x2=\"130\" y2=\"0\" style=\"stroke-width:2\" />\n",
       "  <line x1=\"24\" y1=\"14\" x2=\"144\" y2=\"14\" />\n",
       "  <line x1=\"38\" y1=\"28\" x2=\"158\" y2=\"28\" />\n",
       "  <line x1=\"52\" y1=\"42\" x2=\"172\" y2=\"42\" style=\"stroke-width:2\" />\n",
       "\n",
       "  <!-- Vertical lines -->\n",
       "  <line x1=\"10\" y1=\"0\" x2=\"52\" y2=\"42\" style=\"stroke-width:2\" />\n",
       "  <line x1=\"130\" y1=\"0\" x2=\"172\" y2=\"42\" style=\"stroke-width:2\" />\n",
       "\n",
       "  <!-- Colored Rectangle -->\n",
       "  <polygon points=\"10.0,0.0 130.0,0.0 172.35294117647058,42.35294117647059 52.35294117647059,42.35294117647059\" style=\"fill:#ECB172A0;stroke-width:0\"/>\n",
       "\n",
       "  <!-- Horizontal lines -->\n",
       "  <line x1=\"52\" y1=\"42\" x2=\"172\" y2=\"42\" style=\"stroke-width:2\" />\n",
       "  <line x1=\"52\" y1=\"162\" x2=\"172\" y2=\"162\" style=\"stroke-width:2\" />\n",
       "\n",
       "  <!-- Vertical lines -->\n",
       "  <line x1=\"52\" y1=\"42\" x2=\"52\" y2=\"162\" style=\"stroke-width:2\" />\n",
       "  <line x1=\"172\" y1=\"42\" x2=\"172\" y2=\"162\" style=\"stroke-width:2\" />\n",
       "\n",
       "  <!-- Colored Rectangle -->\n",
       "  <polygon points=\"52.35294117647059,42.35294117647059 172.35294117647058,42.35294117647059 172.35294117647058,162.35294117647058 52.35294117647059,162.35294117647058\" style=\"fill:#ECB172A0;stroke-width:0\"/>\n",
       "\n",
       "  <!-- Text -->\n",
       "  <text x=\"112.352941\" y=\"182.352941\" font-size=\"1.0rem\" font-weight=\"100\" text-anchor=\"middle\" >5</text>\n",
       "  <text x=\"192.352941\" y=\"102.352941\" font-size=\"1.0rem\" font-weight=\"100\" text-anchor=\"middle\" transform=\"rotate(0,192.352941,102.352941)\">5</text>\n",
       "  <text x=\"21.176471\" y=\"161.176471\" font-size=\"1.0rem\" font-weight=\"100\" text-anchor=\"middle\" transform=\"rotate(45,21.176471,161.176471)\">3</text>\n",
       "</svg>\n",
       "</td>\n",
       "</tr>\n",
       "</table></div></li><li class='xr-var-item'><div class='xr-var-name'><span>Complex</span></div><div class='xr-var-dims'>(Band, Azimuth, Range)</div><div class='xr-var-dtype'>float32</div><div class='xr-var-preview xr-preview'>dask.array&lt;chunksize=(1, 5, 5), meta=np.ndarray&gt;</div><input id='attrs-f2fa73cb-3003-46f6-9830-f32d81eae216' class='xr-var-attrs-in' type='checkbox' ><label for='attrs-f2fa73cb-3003-46f6-9830-f32d81eae216' title='Show/Hide attributes'><svg class='icon xr-icon-file-text2'><use xlink:href='#icon-file-text2'></use></svg></label><input id='data-1aa41f96-1f9c-4034-b277-e16b903c75a8' class='xr-var-data-in' type='checkbox'><label for='data-1aa41f96-1f9c-4034-b277-e16b903c75a8' title='Show/Hide data repr'><svg class='icon xr-icon-database'><use xlink:href='#icon-database'></use></svg></label><div class='xr-var-attrs'><dl class='xr-attrs'><dt><span>azimuth_time_interval :</span></dt><dd>[&#x27;2.709350530535653e-05&#x27;, &#x27;2.709350530535653e-05&#x27;, &#x27;2.709350530535653e-05&#x27;]</dd><dt><span>RPC_LINE_OFF :</span></dt><dd>[&#x27;15601.6005859375&#x27;, &#x27;15601.6005859375&#x27;, &#x27;15601.6005859375&#x27;]</dd><dt><span>ant_elev_corr_flag :</span></dt><dd>[&#x27;1&#x27;, &#x27;1&#x27;, &#x27;1&#x27;]</dd><dt><span>product_file :</span></dt><dd>[&#x27;ICEYE_SLC_54549_20210427T215124_hollow_20x20pixels_fake_1.h5&#x27;, &#x27;ICEYE_SLC_54549_20210427T215124_hollow_20x20pixels_fake_0.h5&#x27;, &#x27;ICEYE_SLC_54549_20210427T215124_hollow_20x20pixels_fake_2.h5&#x27;]</dd><dt><span>angX :</span></dt><dd>[&#x27;[0. 0. 0. 0. 0. 0. 0. 0. 0. 0. 0. 0. 0. 0. 0. 0. 0. 0. 0. 0. 0. 0. 0. 0.\\n 0. 0. 0. 0. 0. 0. 0. 0. 0. 0. 0. 0. 0. 0. 0. 0. 0. 0. 0. 0. 0. 0. 0. 0.\\n 0. 0. 0. 0. 0. 0. 0. 0. 0. 0. 0. 0. 0. 0. 0. 0. 0. 0. 0. 0. 0. 0. 0. 0.\\n 0. 0. 0. 0. 0. 0. 0. 0. 0.]&#x27;, &#x27;[0. 0. 0. 0. 0. 0. 0. 0. 0. 0. 0. 0. 0. 0. 0. 0. 0. 0. 0. 0. 0. 0. 0. 0.\\n 0. 0. 0. 0. 0. 0. 0. 0. 0. 0. 0. 0. 0. 0. 0. 0. 0. 0. 0. 0. 0. 0. 0. 0.\\n 0. 0. 0. 0. 0. 0. 0. 0. 0. 0. 0. 0. 0. 0. 0. 0. 0. 0. 0. 0. 0. 0. 0. 0.\\n 0. 0. 0. 0. 0. 0. 0. 0. 0.]&#x27;, &#x27;[0. 0. 0. 0. 0. 0. 0. 0. 0. 0. 0. 0. 0. 0. 0. 0. 0. 0. 0. 0. 0. 0. 0. 0.\\n 0. 0. 0. 0. 0. 0. 0. 0. 0. 0. 0. 0. 0. 0. 0. 0. 0. 0. 0. 0. 0. 0. 0. 0.\\n 0. 0. 0. 0. 0. 0. 0. 0. 0. 0. 0. 0. 0. 0. 0. 0. 0. 0. 0. 0. 0. 0. 0. 0.\\n 0. 0. 0. 0. 0. 0. 0. 0. 0.]&#x27;]</dd><dt><span>tropo_range_delay :</span></dt><dd>[&#x27;2.8238412754811586&#x27;, &#x27;2.8238412754811586&#x27;, &#x27;2.8238412754811586&#x27;]</dd><dt><span>number_of_dc_estimations :</span></dt><dd>[&#x27;10&#x27;, &#x27;10&#x27;, &#x27;10&#x27;]</dd><dt><span>chirp_duration :</span></dt><dd>[&#x27;3.397714285714286e-05&#x27;, &#x27;3.397714285714286e-05&#x27;, &#x27;3.397714285714286e-05&#x27;]</dd><dt><span>velY :</span></dt><dd>[&#x27;[-874.61792057 -874.43891918 -874.25989712 -874.08085523 -873.90179267\\n -873.7227103  -873.54360769 -873.36448441 -873.18534133 -873.0061776\\n -872.82699406 -872.6477903  -872.4685659  -872.2893217  -872.11005687\\n -871.93077225 -871.75146742 -871.57214196 -871.39279673 -871.21343086\\n -871.03404523 -870.85463941 -870.67521297 -870.49576677 -870.31629996\\n -870.1368134  -869.95730666 -869.77777932 -869.59823223 -869.41866455\\n -869.23907713 -869.05946955 -868.87984138 -868.70019348 -868.520525\\n -868.3408368  -868.16112845 -867.98139953 -867.8016509  -867.6218817\\n -867.44209279 -867.26228376 -867.08245416 -866.90260487 -866.72273502\\n -866.54284549 -866.36293584 -866.18300565 -866.00305577 -865.82308536\\n -865.64309527 -865.46308508 -865.28305437 -865.10300399 -864.92293308\\n -864.74284252 -864.56273187 -864.38260071 -864.2024499  -864.02227858\\n -863.84208762 -863.66187659 -863.48164506 -863.30139389 -863.12112223\\n -862.94083095 -862.76051961 -862.58018779 -862.39983634 -862.21946442\\n -862.03907289 -861.85866132 -861.67822928 -861.49777764 -861.31730553\\n -861.13681383 -860.9563021  -860.77576992 -860.59521816 -860.41464594\\n -860.23405415]&#x27;, &#x27;[-874.61792057 -874.43891918 -874.25989712 -874.08085523 -873.90179267\\n -873.7227103  -873.54360769 -873.36448441 -873.18534133 -873.0061776\\n -872.82699406 -872.6477903  -872.4685659  -872.2893217  -872.11005687\\n -871.93077225 -871.75146742 -871.57214196 -871.39279673 -871.21343086\\n -871.03404523 -870.85463941 -870.67521297 -870.49576677 -870.31629996\\n -870.1368134  -869.95730666 -869.77777932 -869.59823223 -869.41866455\\n -869.23907713 -869.05946955 -868.87984138 -868.70019348 -868.520525\\n -868.3408368  -868.16112845 -867.98139953 -867.8016509  -867.6218817\\n -867.44209279 -867.26228376 -867.08245416 -866.90260487 -866.72273502\\n -866.54284549 -866.36293584 -866.18300565 -866.00305577 -865.82308536\\n -865.64309527 -865.46308508 -865.28305437 -865.10300399 -864.92293308\\n -864.74284252 -864.56273187 -864.38260071 -864.2024499  -864.02227858\\n -863.84208762 -863.66187659 -863.48164506 -863.30139389 -863.12112223\\n -862.94083095 -862.76051961 -862.58018779 -862.39983634 -862.21946442\\n -862.03907289 -861.85866132 -861.67822928 -861.49777764 -861.31730553\\n -861.13681383 -860.9563021  -860.77576992 -860.59521816 -860.41464594\\n -860.23405415]&#x27;, &#x27;[-874.61792057 -874.43891918 -874.25989712 -874.08085523 -873.90179267\\n -873.7227103  -873.54360769 -873.36448441 -873.18534133 -873.0061776\\n -872.82699406 -872.6477903  -872.4685659  -872.2893217  -872.11005687\\n -871.93077225 -871.75146742 -871.57214196 -871.39279673 -871.21343086\\n -871.03404523 -870.85463941 -870.67521297 -870.49576677 -870.31629996\\n -870.1368134  -869.95730666 -869.77777932 -869.59823223 -869.41866455\\n -869.23907713 -869.05946955 -868.87984138 -868.70019348 -868.520525\\n -868.3408368  -868.16112845 -867.98139953 -867.8016509  -867.6218817\\n -867.44209279 -867.26228376 -867.08245416 -866.90260487 -866.72273502\\n -866.54284549 -866.36293584 -866.18300565 -866.00305577 -865.82308536\\n -865.64309527 -865.46308508 -865.28305437 -865.10300399 -864.92293308\\n -864.74284252 -864.56273187 -864.38260071 -864.2024499  -864.02227858\\n -863.84208762 -863.66187659 -863.48164506 -863.30139389 -863.12112223\\n -862.94083095 -862.76051961 -862.58018779 -862.39983634 -862.21946442\\n -862.03907289 -861.85866132 -861.67822928 -861.49777764 -861.31730553\\n -861.13681383 -860.9563021  -860.77576992 -860.59521816 -860.41464594\\n -860.23405415]&#x27;]</dd><dt><span>antenna_pattern_compensation :</span></dt><dd>[&#x27;[[1.0062476]\\n [1.0062436]\\n [1.0062395]\\n ...\\n [1.0118226]\\n [1.0118278]\\n [1.0118333]]&#x27;, &#x27;[[1.0062476]\\n [1.0062436]\\n [1.0062395]\\n ...\\n [1.0118226]\\n [1.0118278]\\n [1.0118333]]&#x27;, &#x27;[[1.0062476]\\n [1.0062436]\\n [1.0062395]\\n ...\\n [1.0118226]\\n [1.0118278]\\n [1.0118333]]&#x27;]</dd><dt><span>orbit_absolute_number :</span></dt><dd>[&#x27;9915&#x27;, &#x27;9915&#x27;, &#x27;9915&#x27;]</dd><dt><span>posY :</span></dt><dd>[&#x27;[-921374.0111596  -921461.46392007 -921548.89898784 -921636.31594396\\n -921723.71520326 -921811.09634695 -921898.45958141 -921985.80511285\\n -922073.13252274 -922160.44222547 -922247.73380269 -922335.00746057\\n -922422.26340509 -922509.50121817 -922596.72131376 -922683.92327395\\n -922771.10730469 -922858.27361175 -922945.42177747 -923032.55221539\\n -923119.66450801 -923206.75886107 -923293.83548014 -923380.89394799\\n -923467.93467772 -923554.95725228 -923641.96187719 -923728.94875781\\n -923815.91747734 -923902.86844845 -923989.80125452 -924076.71610086\\n -924163.61319261 -924250.49211339 -924337.35327547 -924424.19626264\\n -924511.02128001 -924597.82853249 -924684.61760415 -924771.38890681\\n -924858.1420247  -924944.8771627  -925031.59452554 -925118.2936977\\n -925204.97509058 -925291.63828885 -925378.28349717 -925464.91092006\\n -925551.52014242 -925638.11157524 -925724.6848036  -925811.24003196\\n -925897.77746461 -925984.2966869  -926070.79810938 -926157.28131758\\n -926243.74651573 -926330.19390792 -926416.62307992 -926503.03444186\\n -926589.42757968 -926675.80269742 -926762.15999894 -926848.49907045\\n -926934.82032164 -927021.1233389  -927107.40832605 -927193.67548674\\n -927279.92440761 -927366.15549791 -927452.36834447 -927538.56315089\\n -927624.7401206  -927710.89884068 -927797.03971997 -927883.16234572\\n -927969.26692131 -928055.35364997 -928141.4221192  -928227.47273742\\n -928313.50509229]&#x27;, &#x27;[-921374.0111596  -921461.46392007 -921548.89898784 -921636.31594396\\n -921723.71520326 -921811.09634695 -921898.45958141 -921985.80511285\\n -922073.13252274 -922160.44222547 -922247.73380269 -922335.00746057\\n -922422.26340509 -922509.50121817 -922596.72131376 -922683.92327395\\n -922771.10730469 -922858.27361175 -922945.42177747 -923032.55221539\\n -923119.66450801 -923206.75886107 -923293.83548014 -923380.89394799\\n -923467.93467772 -923554.95725228 -923641.96187719 -923728.94875781\\n -923815.91747734 -923902.86844845 -923989.80125452 -924076.71610086\\n -924163.61319261 -924250.49211339 -924337.35327547 -924424.19626264\\n -924511.02128001 -924597.82853249 -924684.61760415 -924771.38890681\\n -924858.1420247  -924944.8771627  -925031.59452554 -925118.2936977\\n -925204.97509058 -925291.63828885 -925378.28349717 -925464.91092006\\n -925551.52014242 -925638.11157524 -925724.6848036  -925811.24003196\\n -925897.77746461 -925984.2966869  -926070.79810938 -926157.28131758\\n -926243.74651573 -926330.19390792 -926416.62307992 -926503.03444186\\n -926589.42757968 -926675.80269742 -926762.15999894 -926848.49907045\\n -926934.82032164 -927021.1233389  -927107.40832605 -927193.67548674\\n -927279.92440761 -927366.15549791 -927452.36834447 -927538.56315089\\n -927624.7401206  -927710.89884068 -927797.03971997 -927883.16234572\\n -927969.26692131 -928055.35364997 -928141.4221192  -928227.47273742\\n -928313.50509229]&#x27;, &#x27;[-921374.0111596  -921461.46392007 -921548.89898784 -921636.31594396\\n -921723.71520326 -921811.09634695 -921898.45958141 -921985.80511285\\n -922073.13252274 -922160.44222547 -922247.73380269 -922335.00746057\\n -922422.26340509 -922509.50121817 -922596.72131376 -922683.92327395\\n -922771.10730469 -922858.27361175 -922945.42177747 -923032.55221539\\n -923119.66450801 -923206.75886107 -923293.83548014 -923380.89394799\\n -923467.93467772 -923554.95725228 -923641.96187719 -923728.94875781\\n -923815.91747734 -923902.86844845 -923989.80125452 -924076.71610086\\n -924163.61319261 -924250.49211339 -924337.35327547 -924424.19626264\\n -924511.02128001 -924597.82853249 -924684.61760415 -924771.38890681\\n -924858.1420247  -924944.8771627  -925031.59452554 -925118.2936977\\n -925204.97509058 -925291.63828885 -925378.28349717 -925464.91092006\\n -925551.52014242 -925638.11157524 -925724.6848036  -925811.24003196\\n -925897.77746461 -925984.2966869  -926070.79810938 -926157.28131758\\n -926243.74651573 -926330.19390792 -926416.62307992 -926503.03444186\\n -926589.42757968 -926675.80269742 -926762.15999894 -926848.49907045\\n -926934.82032164 -927021.1233389  -927107.40832605 -927193.67548674\\n -927279.92440761 -927366.15549791 -927452.36834447 -927538.56315089\\n -927624.7401206  -927710.89884068 -927797.03971997 -927883.16234572\\n -927969.26692131 -928055.35364997 -928141.4221192  -928227.47273742\\n -928313.50509229]&#x27;]</dd><dt><span>RPC_LINE_DEN_COEFF :</span></dt><dd>[&#x27;[922.84619140625, 2.3401360511779785, -905.03662109375, -6.660676956176758, -2.9819934368133545, 0.15026363730430603, -0.967059314250946, 0.5637755990028381, -3.297856092453003, 0.006362438667565584, 0.0007199099636636674, 0.003166565904393792, 0.004018398001790047, 1.2433517440513242e-05, 0.0070885238237679005, 0.0005446553113870323, 4.3951735278824344e-05, 0.0008221659809350967, 6.757764640497044e-05, -2.7039893666369608e-06]&#x27;, &#x27;[922.84619140625, 2.3401360511779785, -905.03662109375, -6.660676956176758, -2.9819934368133545, 0.15026363730430603, -0.967059314250946, 0.5637755990028381, -3.297856092453003, 0.006362438667565584, 0.0007199099636636674, 0.003166565904393792, 0.004018398001790047, 1.2433517440513242e-05, 0.0070885238237679005, 0.0005446553113870323, 4.3951735278824344e-05, 0.0008221659809350967, 6.757764640497044e-05, -2.7039893666369608e-06]&#x27;, &#x27;[922.84619140625, 2.3401360511779785, -905.03662109375, -6.660676956176758, -2.9819934368133545, 0.15026363730430603, -0.967059314250946, 0.5637755990028381, -3.297856092453003, 0.006362438667565584, 0.0007199099636636674, 0.003166565904393792, 0.004018398001790047, 1.2433517440513242e-05, 0.0070885238237679005, 0.0005446553113870323, 4.3951735278824344e-05, 0.0008221659809350967, 6.757764640497044e-05, -2.7039893666369608e-06]&#x27;]</dd><dt><span>orbit_direction :</span></dt><dd>[&#x27;DESCENDING&#x27;, &#x27;ASCENDING&#x27;, &#x27;ASCENDING&#x27;]</dd><dt><span>calibration_factor :</span></dt><dd>[&#x27;6.588095117705568e-07&#x27;, &#x27;6.588095117705568e-07&#x27;, &#x27;6.588095117705568e-07&#x27;]</dd><dt><span>RPC_SAMP_OFF :</span></dt><dd>[&#x27;3587.624267578125&#x27;, &#x27;3587.624267578125&#x27;, &#x27;3587.624267578125&#x27;]</dd><dt><span>total_processed_bandwidth_azimuth :</span></dt><dd>[&#x27;26363.724672587723&#x27;, &#x27;26363.724672587723&#x27;, &#x27;26363.724672587723&#x27;]</dd><dt><span>local_incidence_angle :</span></dt><dd>[&#x27;[31.69812486 31.69819448 31.6982641  ... 32.20868396 32.20875195\\n 32.20881994]&#x27;, &#x27;[31.69812486 31.69819448 31.6982641  ... 32.20868396 32.20875195\\n 32.20881994]&#x27;, &#x27;[31.69812486 31.69819448 31.6982641  ... 32.20868396 32.20875195\\n 32.20881994]&#x27;]</dd><dt><span>acquisition_mode :</span></dt><dd>[&#x27;spotlight&#x27;, &#x27;spotlight&#x27;, &#x27;spotlight&#x27;]</dd><dt><span>range_looks :</span></dt><dd>[&#x27;1&#x27;, &#x27;1&#x27;, &#x27;1&#x27;]</dd><dt><span>incidence_near :</span></dt><dd>[&#x27;31.69812485724647&#x27;, &#x27;31.69812485724647&#x27;, &#x27;31.69812485724647&#x27;]</dd><dt><span>coord_center :</span></dt><dd>[&#x27;[ 3.71300000e+03  1.40810000e+04  3.74456418e+01 -6.25407124e+00]&#x27;, &#x27;[ 3.71300000e+03  1.40810000e+04  3.74456418e+01 -6.25407124e+00]&#x27;, &#x27;[ 3.71300000e+03  1.40810000e+04  3.74456418e+01 -6.25407124e+00]&#x27;]</dd><dt><span>fsl_compensation :</span></dt><dd>[&#x27;[0.95738171 0.95738268 0.95738365 ... 0.96456525 0.96456622 0.96456719]&#x27;, &#x27;[0.95738171 0.95738268 0.95738365 ... 0.96456525 0.96456622 0.96456719]&#x27;, &#x27;[0.95738171 0.95738268 0.95738365 ... 0.96456525 0.96456622 0.96456719]&#x27;]</dd><dt><span>acquisition_end_utc :</span></dt><dd>[&#x27;2021-04-27T21:51:30.025535&#x27;, &#x27;2021-04-28T21:51:30.025535&#x27;, &#x27;2021-05-27T21:51:30.025535&#x27;]</dd><dt><span>spec_version :</span></dt><dd>[&#x27;2.2&#x27;, &#x27;2.2&#x27;, &#x27;2.2&#x27;]</dd><dt><span>RPC_LONG_OFF :</span></dt><dd>[&#x27;-6.256258487701416&#x27;, &#x27;-6.256258487701416&#x27;, &#x27;-6.256258487701416&#x27;]</dd><dt><span>state_vector_time_utc :</span></dt><dd>[&quot;[[b&#x27;2021-04-27T21:51:24.000000&#x27;]\\n [b&#x27;2021-04-27T21:51:24.100000&#x27;]\\n [b&#x27;2021-04-27T21:51:24.200000&#x27;]\\n [b&#x27;2021-04-27T21:51:24.300000&#x27;]\\n [b&#x27;2021-04-27T21:51:24.400000&#x27;]\\n [b&#x27;2021-04-27T21:51:24.500000&#x27;]\\n [b&#x27;2021-04-27T21:51:24.600000&#x27;]\\n [b&#x27;2021-04-27T21:51:24.700000&#x27;]\\n [b&#x27;2021-04-27T21:51:24.800000&#x27;]\\n [b&#x27;2021-04-27T21:51:24.900000&#x27;]\\n [b&#x27;2021-04-27T21:51:25.000000&#x27;]\\n [b&#x27;2021-04-27T21:51:25.100000&#x27;]\\n [b&#x27;2021-04-27T21:51:25.200000&#x27;]\\n [b&#x27;2021-04-27T21:51:25.300000&#x27;]\\n [b&#x27;2021-04-27T21:51:25.400000&#x27;]\\n [b&#x27;2021-04-27T21:51:25.500000&#x27;]\\n [b&#x27;2021-04-27T21:51:25.600000&#x27;]\\n [b&#x27;2021-04-27T21:51:25.700000&#x27;]\\n [b&#x27;2021-04-27T21:51:25.800000&#x27;]\\n [b&#x27;2021-04-27T21:51:25.900000&#x27;]\\n [b&#x27;2021-04-27T21:51:26.000000&#x27;]\\n [b&#x27;2021-04-27T21:51:26.100000&#x27;]\\n [b&#x27;2021-04-27T21:51:26.200000&#x27;]\\n [b&#x27;2021-04-27T21:51:26.300000&#x27;]\\n [b&#x27;2021-04-27T21:51:26.400000&#x27;]\\n [b&#x27;2021-04-27T21:51:26.500000&#x27;]\\n [b&#x27;2021-04-27T21:51:26.600000&#x27;]\\n [b&#x27;2021-04-27T21:51:26.700000&#x27;]\\n [b&#x27;2021-04-27T21:51:26.800000&#x27;]\\n [b&#x27;2021-04-27T21:51:26.900000&#x27;]\\n [b&#x27;2021-04-27T21:51:27.000000&#x27;]\\n [b&#x27;2021-04-27T21:51:27.100000&#x27;]\\n [b&#x27;2021-04-27T21:51:27.200000&#x27;]\\n [b&#x27;2021-04-27T21:51:27.300000&#x27;]\\n [b&#x27;2021-04-27T21:51:27.400000&#x27;]\\n [b&#x27;2021-04-27T21:51:27.500000&#x27;]\\n [b&#x27;2021-04-27T21:51:27.600000&#x27;]\\n [b&#x27;2021-04-27T21:51:27.700000&#x27;]\\n [b&#x27;2021-04-27T21:51:27.800000&#x27;]\\n [b&#x27;2021-04-27T21:51:27.900000&#x27;]\\n [b&#x27;2021-04-27T21:51:28.000000&#x27;]\\n [b&#x27;2021-04-27T21:51:28.100000&#x27;]\\n [b&#x27;2021-04-27T21:51:28.200000&#x27;]\\n [b&#x27;2021-04-27T21:51:28.300000&#x27;]\\n [b&#x27;2021-04-27T21:51:28.400000&#x27;]\\n [b&#x27;2021-04-27T21:51:28.500000&#x27;]\\n [b&#x27;2021-04-27T21:51:28.600000&#x27;]\\n [b&#x27;2021-04-27T21:51:28.700000&#x27;]\\n [b&#x27;2021-04-27T21:51:28.800000&#x27;]\\n [b&#x27;2021-04-27T21:51:28.900000&#x27;]\\n [b&#x27;2021-04-27T21:51:29.000000&#x27;]\\n [b&#x27;2021-04-27T21:51:29.100000&#x27;]\\n [b&#x27;2021-04-27T21:51:29.200000&#x27;]\\n [b&#x27;2021-04-27T21:51:29.300000&#x27;]\\n [b&#x27;2021-04-27T21:51:29.400000&#x27;]\\n [b&#x27;2021-04-27T21:51:29.500000&#x27;]\\n [b&#x27;2021-04-27T21:51:29.600000&#x27;]\\n [b&#x27;2021-04-27T21:51:29.700000&#x27;]\\n [b&#x27;2021-04-27T21:51:29.800000&#x27;]\\n [b&#x27;2021-04-27T21:51:29.900000&#x27;]\\n [b&#x27;2021-04-27T21:51:30.000000&#x27;]\\n [b&#x27;2021-04-27T21:51:30.100000&#x27;]\\n [b&#x27;2021-04-27T21:51:30.200000&#x27;]\\n [b&#x27;2021-04-27T21:51:30.300000&#x27;]\\n [b&#x27;2021-04-27T21:51:30.400000&#x27;]\\n [b&#x27;2021-04-27T21:51:30.500000&#x27;]\\n [b&#x27;2021-04-27T21:51:30.600000&#x27;]\\n [b&#x27;2021-04-27T21:51:30.700000&#x27;]\\n [b&#x27;2021-04-27T21:51:30.800000&#x27;]\\n [b&#x27;2021-04-27T21:51:30.900000&#x27;]\\n [b&#x27;2021-04-27T21:51:31.000000&#x27;]\\n [b&#x27;2021-04-27T21:51:31.100000&#x27;]\\n [b&#x27;2021-04-27T21:51:31.200000&#x27;]\\n [b&#x27;2021-04-27T21:51:31.300000&#x27;]\\n [b&#x27;2021-04-27T21:51:31.400000&#x27;]\\n [b&#x27;2021-04-27T21:51:31.500000&#x27;]\\n [b&#x27;2021-04-27T21:51:31.600000&#x27;]\\n [b&#x27;2021-04-27T21:51:31.700000&#x27;]\\n [b&#x27;2021-04-27T21:51:31.800000&#x27;]\\n [b&#x27;2021-04-27T21:51:31.900000&#x27;]\\n [b&#x27;2021-04-27T21:51:32.000000&#x27;]]&quot;, &quot;[[b&#x27;2021-04-27T21:51:24.000000&#x27;]\\n [b&#x27;2021-04-27T21:51:24.100000&#x27;]\\n [b&#x27;2021-04-27T21:51:24.200000&#x27;]\\n [b&#x27;2021-04-27T21:51:24.300000&#x27;]\\n [b&#x27;2021-04-27T21:51:24.400000&#x27;]\\n [b&#x27;2021-04-27T21:51:24.500000&#x27;]\\n [b&#x27;2021-04-27T21:51:24.600000&#x27;]\\n [b&#x27;2021-04-27T21:51:24.700000&#x27;]\\n [b&#x27;2021-04-27T21:51:24.800000&#x27;]\\n [b&#x27;2021-04-27T21:51:24.900000&#x27;]\\n [b&#x27;2021-04-27T21:51:25.000000&#x27;]\\n [b&#x27;2021-04-27T21:51:25.100000&#x27;]\\n [b&#x27;2021-04-27T21:51:25.200000&#x27;]\\n [b&#x27;2021-04-27T21:51:25.300000&#x27;]\\n [b&#x27;2021-04-27T21:51:25.400000&#x27;]\\n [b&#x27;2021-04-27T21:51:25.500000&#x27;]\\n [b&#x27;2021-04-27T21:51:25.600000&#x27;]\\n [b&#x27;2021-04-27T21:51:25.700000&#x27;]\\n [b&#x27;2021-04-27T21:51:25.800000&#x27;]\\n [b&#x27;2021-04-27T21:51:25.900000&#x27;]\\n [b&#x27;2021-04-27T21:51:26.000000&#x27;]\\n [b&#x27;2021-04-27T21:51:26.100000&#x27;]\\n [b&#x27;2021-04-27T21:51:26.200000&#x27;]\\n [b&#x27;2021-04-27T21:51:26.300000&#x27;]\\n [b&#x27;2021-04-27T21:51:26.400000&#x27;]\\n [b&#x27;2021-04-27T21:51:26.500000&#x27;]\\n [b&#x27;2021-04-27T21:51:26.600000&#x27;]\\n [b&#x27;2021-04-27T21:51:26.700000&#x27;]\\n [b&#x27;2021-04-27T21:51:26.800000&#x27;]\\n [b&#x27;2021-04-27T21:51:26.900000&#x27;]\\n [b&#x27;2021-04-27T21:51:27.000000&#x27;]\\n [b&#x27;2021-04-27T21:51:27.100000&#x27;]\\n [b&#x27;2021-04-27T21:51:27.200000&#x27;]\\n [b&#x27;2021-04-27T21:51:27.300000&#x27;]\\n [b&#x27;2021-04-27T21:51:27.400000&#x27;]\\n [b&#x27;2021-04-27T21:51:27.500000&#x27;]\\n [b&#x27;2021-04-27T21:51:27.600000&#x27;]\\n [b&#x27;2021-04-27T21:51:27.700000&#x27;]\\n [b&#x27;2021-04-27T21:51:27.800000&#x27;]\\n [b&#x27;2021-04-27T21:51:27.900000&#x27;]\\n [b&#x27;2021-04-27T21:51:28.000000&#x27;]\\n [b&#x27;2021-04-27T21:51:28.100000&#x27;]\\n [b&#x27;2021-04-27T21:51:28.200000&#x27;]\\n [b&#x27;2021-04-27T21:51:28.300000&#x27;]\\n [b&#x27;2021-04-27T21:51:28.400000&#x27;]\\n [b&#x27;2021-04-27T21:51:28.500000&#x27;]\\n [b&#x27;2021-04-27T21:51:28.600000&#x27;]\\n [b&#x27;2021-04-27T21:51:28.700000&#x27;]\\n [b&#x27;2021-04-27T21:51:28.800000&#x27;]\\n [b&#x27;2021-04-27T21:51:28.900000&#x27;]\\n [b&#x27;2021-04-27T21:51:29.000000&#x27;]\\n [b&#x27;2021-04-27T21:51:29.100000&#x27;]\\n [b&#x27;2021-04-27T21:51:29.200000&#x27;]\\n [b&#x27;2021-04-27T21:51:29.300000&#x27;]\\n [b&#x27;2021-04-27T21:51:29.400000&#x27;]\\n [b&#x27;2021-04-27T21:51:29.500000&#x27;]\\n [b&#x27;2021-04-27T21:51:29.600000&#x27;]\\n [b&#x27;2021-04-27T21:51:29.700000&#x27;]\\n [b&#x27;2021-04-27T21:51:29.800000&#x27;]\\n [b&#x27;2021-04-27T21:51:29.900000&#x27;]\\n [b&#x27;2021-04-27T21:51:30.000000&#x27;]\\n [b&#x27;2021-04-27T21:51:30.100000&#x27;]\\n [b&#x27;2021-04-27T21:51:30.200000&#x27;]\\n [b&#x27;2021-04-27T21:51:30.300000&#x27;]\\n [b&#x27;2021-04-27T21:51:30.400000&#x27;]\\n [b&#x27;2021-04-27T21:51:30.500000&#x27;]\\n [b&#x27;2021-04-27T21:51:30.600000&#x27;]\\n [b&#x27;2021-04-27T21:51:30.700000&#x27;]\\n [b&#x27;2021-04-27T21:51:30.800000&#x27;]\\n [b&#x27;2021-04-27T21:51:30.900000&#x27;]\\n [b&#x27;2021-04-27T21:51:31.000000&#x27;]\\n [b&#x27;2021-04-27T21:51:31.100000&#x27;]\\n [b&#x27;2021-04-27T21:51:31.200000&#x27;]\\n [b&#x27;2021-04-27T21:51:31.300000&#x27;]\\n [b&#x27;2021-04-27T21:51:31.400000&#x27;]\\n [b&#x27;2021-04-27T21:51:31.500000&#x27;]\\n [b&#x27;2021-04-27T21:51:31.600000&#x27;]\\n [b&#x27;2021-04-27T21:51:31.700000&#x27;]\\n [b&#x27;2021-04-27T21:51:31.800000&#x27;]\\n [b&#x27;2021-04-27T21:51:31.900000&#x27;]\\n [b&#x27;2021-04-27T21:51:32.000000&#x27;]]&quot;, &quot;[[b&#x27;2021-04-27T21:51:24.000000&#x27;]\\n [b&#x27;2021-04-27T21:51:24.100000&#x27;]\\n [b&#x27;2021-04-27T21:51:24.200000&#x27;]\\n [b&#x27;2021-04-27T21:51:24.300000&#x27;]\\n [b&#x27;2021-04-27T21:51:24.400000&#x27;]\\n [b&#x27;2021-04-27T21:51:24.500000&#x27;]\\n [b&#x27;2021-04-27T21:51:24.600000&#x27;]\\n [b&#x27;2021-04-27T21:51:24.700000&#x27;]\\n [b&#x27;2021-04-27T21:51:24.800000&#x27;]\\n [b&#x27;2021-04-27T21:51:24.900000&#x27;]\\n [b&#x27;2021-04-27T21:51:25.000000&#x27;]\\n [b&#x27;2021-04-27T21:51:25.100000&#x27;]\\n [b&#x27;2021-04-27T21:51:25.200000&#x27;]\\n [b&#x27;2021-04-27T21:51:25.300000&#x27;]\\n [b&#x27;2021-04-27T21:51:25.400000&#x27;]\\n [b&#x27;2021-04-27T21:51:25.500000&#x27;]\\n [b&#x27;2021-04-27T21:51:25.600000&#x27;]\\n [b&#x27;2021-04-27T21:51:25.700000&#x27;]\\n [b&#x27;2021-04-27T21:51:25.800000&#x27;]\\n [b&#x27;2021-04-27T21:51:25.900000&#x27;]\\n [b&#x27;2021-04-27T21:51:26.000000&#x27;]\\n [b&#x27;2021-04-27T21:51:26.100000&#x27;]\\n [b&#x27;2021-04-27T21:51:26.200000&#x27;]\\n [b&#x27;2021-04-27T21:51:26.300000&#x27;]\\n [b&#x27;2021-04-27T21:51:26.400000&#x27;]\\n [b&#x27;2021-04-27T21:51:26.500000&#x27;]\\n [b&#x27;2021-04-27T21:51:26.600000&#x27;]\\n [b&#x27;2021-04-27T21:51:26.700000&#x27;]\\n [b&#x27;2021-04-27T21:51:26.800000&#x27;]\\n [b&#x27;2021-04-27T21:51:26.900000&#x27;]\\n [b&#x27;2021-04-27T21:51:27.000000&#x27;]\\n [b&#x27;2021-04-27T21:51:27.100000&#x27;]\\n [b&#x27;2021-04-27T21:51:27.200000&#x27;]\\n [b&#x27;2021-04-27T21:51:27.300000&#x27;]\\n [b&#x27;2021-04-27T21:51:27.400000&#x27;]\\n [b&#x27;2021-04-27T21:51:27.500000&#x27;]\\n [b&#x27;2021-04-27T21:51:27.600000&#x27;]\\n [b&#x27;2021-04-27T21:51:27.700000&#x27;]\\n [b&#x27;2021-04-27T21:51:27.800000&#x27;]\\n [b&#x27;2021-04-27T21:51:27.900000&#x27;]\\n [b&#x27;2021-04-27T21:51:28.000000&#x27;]\\n [b&#x27;2021-04-27T21:51:28.100000&#x27;]\\n [b&#x27;2021-04-27T21:51:28.200000&#x27;]\\n [b&#x27;2021-04-27T21:51:28.300000&#x27;]\\n [b&#x27;2021-04-27T21:51:28.400000&#x27;]\\n [b&#x27;2021-04-27T21:51:28.500000&#x27;]\\n [b&#x27;2021-04-27T21:51:28.600000&#x27;]\\n [b&#x27;2021-04-27T21:51:28.700000&#x27;]\\n [b&#x27;2021-04-27T21:51:28.800000&#x27;]\\n [b&#x27;2021-04-27T21:51:28.900000&#x27;]\\n [b&#x27;2021-04-27T21:51:29.000000&#x27;]\\n [b&#x27;2021-04-27T21:51:29.100000&#x27;]\\n [b&#x27;2021-04-27T21:51:29.200000&#x27;]\\n [b&#x27;2021-04-27T21:51:29.300000&#x27;]\\n [b&#x27;2021-04-27T21:51:29.400000&#x27;]\\n [b&#x27;2021-04-27T21:51:29.500000&#x27;]\\n [b&#x27;2021-04-27T21:51:29.600000&#x27;]\\n [b&#x27;2021-04-27T21:51:29.700000&#x27;]\\n [b&#x27;2021-04-27T21:51:29.800000&#x27;]\\n [b&#x27;2021-04-27T21:51:29.900000&#x27;]\\n [b&#x27;2021-04-27T21:51:30.000000&#x27;]\\n [b&#x27;2021-04-27T21:51:30.100000&#x27;]\\n [b&#x27;2021-04-27T21:51:30.200000&#x27;]\\n [b&#x27;2021-04-27T21:51:30.300000&#x27;]\\n [b&#x27;2021-04-27T21:51:30.400000&#x27;]\\n [b&#x27;2021-04-27T21:51:30.500000&#x27;]\\n [b&#x27;2021-04-27T21:51:30.600000&#x27;]\\n [b&#x27;2021-04-27T21:51:30.700000&#x27;]\\n [b&#x27;2021-04-27T21:51:30.800000&#x27;]\\n [b&#x27;2021-04-27T21:51:30.900000&#x27;]\\n [b&#x27;2021-04-27T21:51:31.000000&#x27;]\\n [b&#x27;2021-04-27T21:51:31.100000&#x27;]\\n [b&#x27;2021-04-27T21:51:31.200000&#x27;]\\n [b&#x27;2021-04-27T21:51:31.300000&#x27;]\\n [b&#x27;2021-04-27T21:51:31.400000&#x27;]\\n [b&#x27;2021-04-27T21:51:31.500000&#x27;]\\n [b&#x27;2021-04-27T21:51:31.600000&#x27;]\\n [b&#x27;2021-04-27T21:51:31.700000&#x27;]\\n [b&#x27;2021-04-27T21:51:31.800000&#x27;]\\n [b&#x27;2021-04-27T21:51:31.900000&#x27;]\\n [b&#x27;2021-04-27T21:51:32.000000&#x27;]]&quot;]</dd><dt><span>posX :</span></dt><dd>[&#x27;[5474808.16271857 5474340.81737572 5473873.4037893  5473405.92419404\\n 5472938.37636674 5472470.76254275 5472003.08161336 5471535.33246921\\n 5471067.51734663 5470599.6340208  5470131.6847287  5469663.66836081\\n 5469195.58380697 5468727.43330512 5468259.21462887 5467790.93001677\\n 5467322.57835854 5466854.15854321 5466385.67281031 5465917.11893186\\n 5465448.49914802 5464979.81234768 5464511.05741911 5464042.23660344\\n 5463573.34767109 5463104.39286383 5462635.37106976 5462166.28117635\\n 5461697.12542633 5461227.90158851 5460758.61190628 5460289.25526693\\n 5459819.83055714 5459350.34002124 5458880.78142647 5458411.1570178\\n 5457941.46568175 5457471.70630418 5457001.88113104 5456531.98792796\\n 5456062.02894151 5455592.00305741 5455121.90916075 5454651.74949905\\n 5454181.52183638 5453711.2284209  5453240.86813754 5452770.43987059\\n 5452299.94586918 5451829.38389577 5451358.75620012 5450888.06166637\\n 5450417.29917802 5449946.47098578 5449475.57485055 5449004.61302369\\n 5448533.58438853 5448062.48782779 5447591.32559378 5447120.09544579\\n 5446648.79963678 5446177.4370493  5445706.00656526 5445234.51043858\\n 5444762.94642696 5444291.31678496 5443819.62039435 5443347.85613624\\n 5442876.02626614 5442404.12854017 5441932.16521447 5441460.13517001\\n 5440988.03728712 5440515.87382291 5440043.64253192 5439571.34567188\\n 5439098.98212298 5438626.55076475 5438154.0538559  5437681.48914937\\n 5437208.85890448]&#x27;, &#x27;[5474808.16271857 5474340.81737572 5473873.4037893  5473405.92419404\\n 5472938.37636674 5472470.76254275 5472003.08161336 5471535.33246921\\n 5471067.51734663 5470599.6340208  5470131.6847287  5469663.66836081\\n 5469195.58380697 5468727.43330512 5468259.21462887 5467790.93001677\\n 5467322.57835854 5466854.15854321 5466385.67281031 5465917.11893186\\n 5465448.49914802 5464979.81234768 5464511.05741911 5464042.23660344\\n 5463573.34767109 5463104.39286383 5462635.37106976 5462166.28117635\\n 5461697.12542633 5461227.90158851 5460758.61190628 5460289.25526693\\n 5459819.83055714 5459350.34002124 5458880.78142647 5458411.1570178\\n 5457941.46568175 5457471.70630418 5457001.88113104 5456531.98792796\\n 5456062.02894151 5455592.00305741 5455121.90916075 5454651.74949905\\n 5454181.52183638 5453711.2284209  5453240.86813754 5452770.43987059\\n 5452299.94586918 5451829.38389577 5451358.75620012 5450888.06166637\\n 5450417.29917802 5449946.47098578 5449475.57485055 5449004.61302369\\n 5448533.58438853 5448062.48782779 5447591.32559378 5447120.09544579\\n 5446648.79963678 5446177.4370493  5445706.00656526 5445234.51043858\\n 5444762.94642696 5444291.31678496 5443819.62039435 5443347.85613624\\n 5442876.02626614 5442404.12854017 5441932.16521447 5441460.13517001\\n 5440988.03728712 5440515.87382291 5440043.64253192 5439571.34567188\\n 5439098.98212298 5438626.55076475 5438154.0538559  5437681.48914937\\n 5437208.85890448]&#x27;, &#x27;[5474808.16271857 5474340.81737572 5473873.4037893  5473405.92419404\\n 5472938.37636674 5472470.76254275 5472003.08161336 5471535.33246921\\n 5471067.51734663 5470599.6340208  5470131.6847287  5469663.66836081\\n 5469195.58380697 5468727.43330512 5468259.21462887 5467790.93001677\\n 5467322.57835854 5466854.15854321 5466385.67281031 5465917.11893186\\n 5465448.49914802 5464979.81234768 5464511.05741911 5464042.23660344\\n 5463573.34767109 5463104.39286383 5462635.37106976 5462166.28117635\\n 5461697.12542633 5461227.90158851 5460758.61190628 5460289.25526693\\n 5459819.83055714 5459350.34002124 5458880.78142647 5458411.1570178\\n 5457941.46568175 5457471.70630418 5457001.88113104 5456531.98792796\\n 5456062.02894151 5455592.00305741 5455121.90916075 5454651.74949905\\n 5454181.52183638 5453711.2284209  5453240.86813754 5452770.43987059\\n 5452299.94586918 5451829.38389577 5451358.75620012 5450888.06166637\\n 5450417.29917802 5449946.47098578 5449475.57485055 5449004.61302369\\n 5448533.58438853 5448062.48782779 5447591.32559378 5447120.09544579\\n 5446648.79963678 5446177.4370493  5445706.00656526 5445234.51043858\\n 5444762.94642696 5444291.31678496 5443819.62039435 5443347.85613624\\n 5442876.02626614 5442404.12854017 5441932.16521447 5441460.13517001\\n 5440988.03728712 5440515.87382291 5440043.64253192 5439571.34567188\\n 5439098.98212298 5438626.55076475 5438154.0538559  5437681.48914937\\n 5437208.85890448]&#x27;]</dd><dt><span>heading :</span></dt><dd>[&#x27;349.91295192092355&#x27;, &#x27;349.91295192092355&#x27;, &#x27;349.91295192092355&#x27;]</dd><dt><span>number_of_range_samples :</span></dt><dd>[&#x27;20&#x27;, &#x27;20&#x27;, &#x27;20&#x27;]</dd><dt><span>product_level :</span></dt><dd>[&#x27;SLC&#x27;, &#x27;SLC&#x27;, &#x27;SLC&#x27;]</dd><dt><span>mean_orbit_altitude :</span></dt><dd>[&#x27;536675.3876030303&#x27;, &#x27;536675.3876030303&#x27;, &#x27;536675.3876030303&#x27;]</dd><dt><span>data_orientation :</span></dt><dd>[&#x27;native&#x27;, &#x27;native&#x27;, &#x27;native&#x27;]</dd><dt><span>acquisition_prf :</span></dt><dd>[&#x27;5886.672581404736&#x27;, &#x27;5886.672581404736&#x27;, &#x27;5886.672581404736&#x27;]</dd><dt><span>azimuth_looks :</span></dt><dd>[&#x27;1&#x27;, &#x27;1&#x27;, &#x27;1&#x27;]</dd><dt><span>RPC_HEIGHT_SCALE :</span></dt><dd>[&#x27;343.31927490234375&#x27;, &#x27;343.31927490234375&#x27;, &#x27;343.31927490234375&#x27;]</dd><dt><span>product_name :</span></dt><dd>[&#x27;ICEYE_X9_SLC_SLED_54549_20210427T215124&#x27;, &#x27;ICEYE_X9_SLC_SLED_54549_20210427T215124&#x27;, &#x27;ICEYE_X9_SLC_SLED_54549_20210427T215124&#x27;]</dd><dt><span>RPC_LINE_SCALE :</span></dt><dd>[&#x27;127695.265625&#x27;, &#x27;127695.265625&#x27;, &#x27;127695.265625&#x27;]</dd><dt><span>look_side :</span></dt><dd>[&#x27;right&#x27;, &#x27;right&#x27;, &#x27;right&#x27;]</dd><dt><span>RPC_HEIGHT_OFF :</span></dt><dd>[&#x27;176.6807403564453&#x27;, &#x27;176.6807403564453&#x27;, &#x27;176.6807403564453&#x27;]</dd><dt><span>satellite_look_angle :</span></dt><dd>[&#x27;29&#x27;, &#x27;30&#x27;, &#x27;28&#x27;]</dd><dt><span>azimuth_ground_spacing :</span></dt><dd>[&#x27;0.19142525627706425&#x27;, &#x27;0.19142525627706425&#x27;, &#x27;0.19142525627706425&#x27;]</dd><dt><span>incidence_center :</span></dt><dd>[&#x27;29.5&#x27;, &#x27;30.5&#x27;, &#x27;28.5&#x27;]</dd><dt><span>ref_track_point_lla :</span></dt><dd>[&#x27;[ 37.44566562  -6.25501394 -42.92271706]&#x27;, &#x27;[ 37.44566562  -6.25501394 -42.92271706]&#x27;, &#x27;[ 37.44566562  -6.25501394 -42.92271706]&#x27;]</dd><dt><span>angZ :</span></dt><dd>[&#x27;[0. 0. 0. 0. 0. 0. 0. 0. 0. 0. 0. 0. 0. 0. 0. 0. 0. 0. 0. 0. 0. 0. 0. 0.\\n 0. 0. 0. 0. 0. 0. 0. 0. 0. 0. 0. 0. 0. 0. 0. 0. 0. 0. 0. 0. 0. 0. 0. 0.\\n 0. 0. 0. 0. 0. 0. 0. 0. 0. 0. 0. 0. 0. 0. 0. 0. 0. 0. 0. 0. 0. 0. 0. 0.\\n 0. 0. 0. 0. 0. 0. 0. 0. 0.]&#x27;, &#x27;[0. 0. 0. 0. 0. 0. 0. 0. 0. 0. 0. 0. 0. 0. 0. 0. 0. 0. 0. 0. 0. 0. 0. 0.\\n 0. 0. 0. 0. 0. 0. 0. 0. 0. 0. 0. 0. 0. 0. 0. 0. 0. 0. 0. 0. 0. 0. 0. 0.\\n 0. 0. 0. 0. 0. 0. 0. 0. 0. 0. 0. 0. 0. 0. 0. 0. 0. 0. 0. 0. 0. 0. 0. 0.\\n 0. 0. 0. 0. 0. 0. 0. 0. 0.]&#x27;, &#x27;[0. 0. 0. 0. 0. 0. 0. 0. 0. 0. 0. 0. 0. 0. 0. 0. 0. 0. 0. 0. 0. 0. 0. 0.\\n 0. 0. 0. 0. 0. 0. 0. 0. 0. 0. 0. 0. 0. 0. 0. 0. 0. 0. 0. 0. 0. 0. 0. 0.\\n 0. 0. 0. 0. 0. 0. 0. 0. 0. 0. 0. 0. 0. 0. 0. 0. 0. 0. 0. 0. 0. 0. 0. 0.\\n 0. 0. 0. 0. 0. 0. 0. 0. 0.]&#x27;]</dd><dt><span>ref_track_point_ecef :</span></dt><dd>[&#x27;[5039944. -552410. 3856819.]&#x27;, &#x27;[5039944. -552410. 3856819.]&#x27;, &#x27;[5039944. -552410. 3856819.]&#x27;]</dd><dt><span>geo_ref_system :</span></dt><dd>[&#x27;WGS84&#x27;, &#x27;WGS84&#x27;, &#x27;WGS84&#x27;]</dd><dt><span>carrier_frequency :</span></dt><dd>[&#x27;9650000000.0&#x27;, &#x27;9650000000.0&#x27;, &#x27;9650000000.0&#x27;]</dd><dt><span>sample_precision :</span></dt><dd>[&#x27;int16&#x27;, &#x27;int16&#x27;, &#x27;int16&#x27;]</dd><dt><span>RPC_SAMP_DEN_COEFF :</span></dt><dd>[&#x27;[0.15467888116836548, 0.0044975802302360535, 0.0012687476119026542, -0.00029731247923336923, 3.889326035277918e-05, -3.516104243317386e-06, -1.202955672852113e-06, 5.7404660765314475e-05, 4.787736543221399e-06, -6.023450964676158e-07, -3.31531992969758e-08, -4.863581537506434e-09, 1.2052447573296377e-07, 1.5022953547827456e-08, 4.692299171438208e-08, 1.2532026971712185e-08, 1.0803641314893753e-09, -7.21848536500147e-09, -1.6511486622405869e-09, 1.5383416762659863e-09]&#x27;, &#x27;[0.15467888116836548, 0.0044975802302360535, 0.0012687476119026542, -0.00029731247923336923, 3.889326035277918e-05, -3.516104243317386e-06, -1.202955672852113e-06, 5.7404660765314475e-05, 4.787736543221399e-06, -6.023450964676158e-07, -3.31531992969758e-08, -4.863581537506434e-09, 1.2052447573296377e-07, 1.5022953547827456e-08, 4.692299171438208e-08, 1.2532026971712185e-08, 1.0803641314893753e-09, -7.21848536500147e-09, -1.6511486622405869e-09, 1.5383416762659863e-09]&#x27;, &#x27;[0.15467888116836548, 0.0044975802302360535, 0.0012687476119026542, -0.00029731247923336923, 3.889326035277918e-05, -3.516104243317386e-06, -1.202955672852113e-06, 5.7404660765314475e-05, 4.787736543221399e-06, -6.023450964676158e-07, -3.31531992969758e-08, -4.863581537506434e-09, 1.2052447573296377e-07, 1.5022953547827456e-08, 4.692299171438208e-08, 1.2532026971712185e-08, 1.0803641314893753e-09, -7.21848536500147e-09, -1.6511486622405869e-09, 1.5383416762659863e-09]&#x27;]</dd><dt><span>coord_last_near :</span></dt><dd>[&#x27;[ 1.00000000e+00  2.81600000e+04  3.74646428e+01 -6.29260350e+00]&#x27;, &#x27;[ 1.00000000e+00  2.81600000e+04  3.74646428e+01 -6.29260350e+00]&#x27;, &#x27;[ 1.00000000e+00  2.81600000e+04  3.74646428e+01 -6.29260350e+00]&#x27;]</dd><dt><span>doppler_rate_poly_order :</span></dt><dd>[&#x27;3&#x27;, &#x27;3&#x27;, &#x27;3&#x27;]</dd><dt><span>range_sampling_rate :</span></dt><dd>[&#x27;358148331.2923262&#x27;, &#x27;358148331.2923262&#x27;, &#x27;358148331.2923262&#x27;]</dd><dt><span>number_of_azimuth_samples :</span></dt><dd>[&#x27;20&#x27;, &#x27;20&#x27;, &#x27;20&#x27;]</dd><dt><span>orbit_relative_number :</span></dt><dd>[&#x27;9915&#x27;, &#x27;9915&#x27;, &#x27;9915&#x27;]</dd><dt><span>coord_first_far :</span></dt><dd>[&#x27;[ 7.42400000e+03  1.00000000e+00  3.74264593e+01 -6.21673831e+00]&#x27;, &#x27;[ 7.42400000e+03  1.00000000e+00  3.74264593e+01 -6.21673831e+00]&#x27;, &#x27;[ 7.42400000e+03  1.00000000e+00  3.74264593e+01 -6.21673831e+00]&#x27;]</dd><dt><span>velX :</span></dt><dd>[&#x27;[-4673.12223293 -4673.79355399 -4674.46481748 -4675.13602017\\n -4675.80716526 -4676.47824955 -4677.14927463 -4677.82024208\\n -4678.49114871 -4679.16199769 -4679.83278583 -4680.50351471\\n -4681.17418593 -4681.84479628 -4682.51534894 -4683.18584072\\n -4683.85627319 -4684.52664797 -4685.19696183 -4685.86721796\\n -4686.53741317 -4687.20754904 -4687.87762716 -4688.54764432\\n -4689.21760372 -4689.88750215 -4690.5573412  -4691.22712246\\n -4691.89684272 -4692.56650517 -4693.23610662 -4693.90564864\\n -4694.57513283 -4695.24455598 -4695.91392128 -4696.58322553\\n -4697.25247031 -4697.92165722 -4698.59078306 -4699.259851\\n -4699.92885785 -4700.59780519 -4701.26669461 -4701.93552292\\n -4702.60429329 -4703.27300253 -4703.94165222 -4704.61024395\\n -4705.27877453 -4705.94724712 -4706.61565854 -4707.28401038\\n -4707.95230421 -4708.62053684 -4709.28871145 -4709.95682485\\n -4710.62487861 -4711.29287433 -4711.96080881 -4712.62868523\\n -4713.2965004  -4713.96425589 -4714.6319533  -4715.29958942\\n -4715.96716744 -4716.63468417 -4717.30214118 -4717.96954006\\n -4718.63687762 -4719.30415703 -4719.97137511 -4720.63853343\\n -4721.30563359 -4721.97267238 -4722.63965298 -4723.3065722\\n -4723.97343163 -4724.64023284 -4725.30697265 -4725.97365423\\n -4726.64027439]&#x27;, &#x27;[-4673.12223293 -4673.79355399 -4674.46481748 -4675.13602017\\n -4675.80716526 -4676.47824955 -4677.14927463 -4677.82024208\\n -4678.49114871 -4679.16199769 -4679.83278583 -4680.50351471\\n -4681.17418593 -4681.84479628 -4682.51534894 -4683.18584072\\n -4683.85627319 -4684.52664797 -4685.19696183 -4685.86721796\\n -4686.53741317 -4687.20754904 -4687.87762716 -4688.54764432\\n -4689.21760372 -4689.88750215 -4690.5573412  -4691.22712246\\n -4691.89684272 -4692.56650517 -4693.23610662 -4693.90564864\\n -4694.57513283 -4695.24455598 -4695.91392128 -4696.58322553\\n -4697.25247031 -4697.92165722 -4698.59078306 -4699.259851\\n -4699.92885785 -4700.59780519 -4701.26669461 -4701.93552292\\n -4702.60429329 -4703.27300253 -4703.94165222 -4704.61024395\\n -4705.27877453 -4705.94724712 -4706.61565854 -4707.28401038\\n -4707.95230421 -4708.62053684 -4709.28871145 -4709.95682485\\n -4710.62487861 -4711.29287433 -4711.96080881 -4712.62868523\\n -4713.2965004  -4713.96425589 -4714.6319533  -4715.29958942\\n -4715.96716744 -4716.63468417 -4717.30214118 -4717.96954006\\n -4718.63687762 -4719.30415703 -4719.97137511 -4720.63853343\\n -4721.30563359 -4721.97267238 -4722.63965298 -4723.3065722\\n -4723.97343163 -4724.64023284 -4725.30697265 -4725.97365423\\n -4726.64027439]&#x27;, &#x27;[-4673.12223293 -4673.79355399 -4674.46481748 -4675.13602017\\n -4675.80716526 -4676.47824955 -4677.14927463 -4677.82024208\\n -4678.49114871 -4679.16199769 -4679.83278583 -4680.50351471\\n -4681.17418593 -4681.84479628 -4682.51534894 -4683.18584072\\n -4683.85627319 -4684.52664797 -4685.19696183 -4685.86721796\\n -4686.53741317 -4687.20754904 -4687.87762716 -4688.54764432\\n -4689.21760372 -4689.88750215 -4690.5573412  -4691.22712246\\n -4691.89684272 -4692.56650517 -4693.23610662 -4693.90564864\\n -4694.57513283 -4695.24455598 -4695.91392128 -4696.58322553\\n -4697.25247031 -4697.92165722 -4698.59078306 -4699.259851\\n -4699.92885785 -4700.59780519 -4701.26669461 -4701.93552292\\n -4702.60429329 -4703.27300253 -4703.94165222 -4704.61024395\\n -4705.27877453 -4705.94724712 -4706.61565854 -4707.28401038\\n -4707.95230421 -4708.62053684 -4709.28871145 -4709.95682485\\n -4710.62487861 -4711.29287433 -4711.96080881 -4712.62868523\\n -4713.2965004  -4713.96425589 -4714.6319533  -4715.29958942\\n -4715.96716744 -4716.63468417 -4717.30214118 -4717.96954006\\n -4718.63687762 -4719.30415703 -4719.97137511 -4720.63853343\\n -4721.30563359 -4721.97267238 -4722.63965298 -4723.3065722\\n -4723.97343163 -4724.64023284 -4725.30697265 -4725.97365423\\n -4726.64027439]&#x27;]</dd><dt><span>polarization :</span></dt><dd>[&#x27;VV&#x27;, &#x27;VV&#x27;, &#x27;VV&#x27;]</dd><dt><span>RPC_LONG_SCALE :</span></dt><dd>[&#x27;0.20208331942558289&#x27;, &#x27;0.20208331942558289&#x27;, &#x27;0.20208331942558289&#x27;]</dd><dt><span>acquisition_start_utc :</span></dt><dd>[&#x27;2021-04-27T21:51:24.929476&#x27;, &#x27;2021-04-27T21:51:24.929476&#x27;, &#x27;2021-04-27T21:51:24.929476&#x27;]</dd><dt><span>RPC_SAMP_SCALE :</span></dt><dd>[&#x27;27781.984375&#x27;, &#x27;27781.984375&#x27;, &#x27;27781.984375&#x27;]</dd><dt><span>velZ :</span></dt><dd>[&#x27;[6022.05575618 6021.5578102  6021.05979033 6020.56169896 6020.06353371\\n 6019.56529696 6019.06698754 6018.56860427 6018.07014951 6017.57162092\\n 6017.07302086 6016.57434815 6016.07560162 6015.57678364 6015.07789185\\n 6014.57892863 6014.07989279 6013.58078316 6013.08160211 6012.58234728\\n 6012.08302105 6011.58362224 6011.08414966 6010.58460569 6010.08498798\\n 6009.58529889 6009.08553725 6008.58570188 6008.08579515 6007.5858147\\n 6007.08576292 6006.58563861 6006.08544059 6005.58517126 6005.08482823\\n 6004.5844139  6004.08392707 6003.58336657 6003.08273479 6002.58202933\\n 6002.08125261 6001.58040342 6001.07948059 6000.5784865  6000.07741878\\n 5999.57627981 5999.07506842 5998.57378341 5998.07242718 5997.57099734\\n 5997.06949629 5996.56792284 5996.06627581 5995.56455758 5995.06276578\\n 5994.5609028  5994.05896746 5993.55695855 5993.05487849 5992.55272489\\n 5992.05050013 5991.54820304 5991.04583243 5990.54339068 5990.04087542\\n 5989.53828905 5989.03563037 5988.53289819 5988.03009492 5987.52721816\\n 5987.02427032 5986.52125021 5986.01815663 5985.51499198 5985.01175388\\n 5984.50844473 5984.00506334 5983.50160851 5982.99808264 5982.49448335\\n 5981.99081305]&#x27;, &#x27;[6022.05575618 6021.5578102  6021.05979033 6020.56169896 6020.06353371\\n 6019.56529696 6019.06698754 6018.56860427 6018.07014951 6017.57162092\\n 6017.07302086 6016.57434815 6016.07560162 6015.57678364 6015.07789185\\n 6014.57892863 6014.07989279 6013.58078316 6013.08160211 6012.58234728\\n 6012.08302105 6011.58362224 6011.08414966 6010.58460569 6010.08498798\\n 6009.58529889 6009.08553725 6008.58570188 6008.08579515 6007.5858147\\n 6007.08576292 6006.58563861 6006.08544059 6005.58517126 6005.08482823\\n 6004.5844139  6004.08392707 6003.58336657 6003.08273479 6002.58202933\\n 6002.08125261 6001.58040342 6001.07948059 6000.5784865  6000.07741878\\n 5999.57627981 5999.07506842 5998.57378341 5998.07242718 5997.57099734\\n 5997.06949629 5996.56792284 5996.06627581 5995.56455758 5995.06276578\\n 5994.5609028  5994.05896746 5993.55695855 5993.05487849 5992.55272489\\n 5992.05050013 5991.54820304 5991.04583243 5990.54339068 5990.04087542\\n 5989.53828905 5989.03563037 5988.53289819 5988.03009492 5987.52721816\\n 5987.02427032 5986.52125021 5986.01815663 5985.51499198 5985.01175388\\n 5984.50844473 5984.00506334 5983.50160851 5982.99808264 5982.49448335\\n 5981.99081305]&#x27;, &#x27;[6022.05575618 6021.5578102  6021.05979033 6020.56169896 6020.06353371\\n 6019.56529696 6019.06698754 6018.56860427 6018.07014951 6017.57162092\\n 6017.07302086 6016.57434815 6016.07560162 6015.57678364 6015.07789185\\n 6014.57892863 6014.07989279 6013.58078316 6013.08160211 6012.58234728\\n 6012.08302105 6011.58362224 6011.08414966 6010.58460569 6010.08498798\\n 6009.58529889 6009.08553725 6008.58570188 6008.08579515 6007.5858147\\n 6007.08576292 6006.58563861 6006.08544059 6005.58517126 6005.08482823\\n 6004.5844139  6004.08392707 6003.58336657 6003.08273479 6002.58202933\\n 6002.08125261 6001.58040342 6001.07948059 6000.5784865  6000.07741878\\n 5999.57627981 5999.07506842 5998.57378341 5998.07242718 5997.57099734\\n 5997.06949629 5996.56792284 5996.06627581 5995.56455758 5995.06276578\\n 5994.5609028  5994.05896746 5993.55695855 5993.05487849 5992.55272489\\n 5992.05050013 5991.54820304 5991.04583243 5990.54339068 5990.04087542\\n 5989.53828905 5989.03563037 5988.53289819 5988.03009492 5987.52721816\\n 5987.02427032 5986.52125021 5986.01815663 5985.51499198 5985.01175388\\n 5984.50844473 5984.00506334 5983.50160851 5982.99808264 5982.49448335\\n 5981.99081305]&#x27;]</dd><dt><span>processing_time :</span></dt><dd>[&#x27;2021-04-28T04:58:23&#x27;, &#x27;2021-04-28T04:58:23&#x27;, &#x27;2021-04-28T04:58:23&#x27;]</dd><dt><span>zerodoppler_start_utc :</span></dt><dd>[&#x27;2021-04-27T21:51:27.093640&#x27;, &#x27;2021-04-27T21:51:27.093640&#x27;, &#x27;2021-04-27T21:51:27.093640&#x27;]</dd><dt><span>RPC_LAT_SCALE :</span></dt><dd>[&#x27;0.19374999403953552&#x27;, &#x27;0.19374999403953552&#x27;, &#x27;0.19374999403953552&#x27;]</dd><dt><span>dc_estimate_coeffs :</span></dt><dd>[&#x27;[[-2259.75195312     0.             0.             0.        ]\\n [-1743.7265625      0.             0.             0.        ]\\n [-1227.69921875     0.             0.             0.        ]\\n [ -711.671875       0.             0.             0.        ]\\n [ -195.64453125     0.             0.             0.        ]\\n [  320.38085938     0.             0.             0.        ]\\n [  836.40625        0.             0.             0.        ]\\n [ 1352.43359375     0.             0.             0.        ]\\n [ 1868.4609375      0.             0.             0.        ]\\n [ 2384.48828125     0.             0.             0.        ]]&#x27;, &#x27;[[-2259.75195312     0.             0.             0.        ]\\n [-1743.7265625      0.             0.             0.        ]\\n [-1227.69921875     0.             0.             0.        ]\\n [ -711.671875       0.             0.             0.        ]\\n [ -195.64453125     0.             0.             0.        ]\\n [  320.38085938     0.             0.             0.        ]\\n [  836.40625        0.             0.             0.        ]\\n [ 1352.43359375     0.             0.             0.        ]\\n [ 1868.4609375      0.             0.             0.        ]\\n [ 2384.48828125     0.             0.             0.        ]]&#x27;, &#x27;[[-2259.75195312     0.             0.             0.        ]\\n [-1743.7265625      0.             0.             0.        ]\\n [-1227.69921875     0.             0.             0.        ]\\n [ -711.671875       0.             0.             0.        ]\\n [ -195.64453125     0.             0.             0.        ]\\n [  320.38085938     0.             0.             0.        ]\\n [  836.40625        0.             0.             0.        ]\\n [ 1352.43359375     0.             0.             0.        ]\\n [ 1868.4609375      0.             0.             0.        ]\\n [ 2384.48828125     0.             0.             0.        ]]&#x27;]</dd><dt><span>incidence_far :</span></dt><dd>[&#x27;32.208819936210446&#x27;, &#x27;32.208819936210446&#x27;, &#x27;32.208819936210446&#x27;]</dd><dt><span>dc_estimate_time_utc :</span></dt><dd>[&quot;[[b&#x27;2021-04-27T21:51:27.093640&#x27;]\\n [b&#x27;2021-04-27T21:51:27.178412&#x27;]\\n [b&#x27;2021-04-27T21:51:27.263185&#x27;]\\n [b&#x27;2021-04-27T21:51:27.347958&#x27;]\\n [b&#x27;2021-04-27T21:51:27.432730&#x27;]\\n [b&#x27;2021-04-27T21:51:27.517503&#x27;]\\n [b&#x27;2021-04-27T21:51:27.602275&#x27;]\\n [b&#x27;2021-04-27T21:51:27.687048&#x27;]\\n [b&#x27;2021-04-27T21:51:27.771820&#x27;]\\n [b&#x27;2021-04-27T21:51:27.856593&#x27;]]&quot;, &quot;[[b&#x27;2021-04-27T21:51:27.093640&#x27;]\\n [b&#x27;2021-04-27T21:51:27.178412&#x27;]\\n [b&#x27;2021-04-27T21:51:27.263185&#x27;]\\n [b&#x27;2021-04-27T21:51:27.347958&#x27;]\\n [b&#x27;2021-04-27T21:51:27.432730&#x27;]\\n [b&#x27;2021-04-27T21:51:27.517503&#x27;]\\n [b&#x27;2021-04-27T21:51:27.602275&#x27;]\\n [b&#x27;2021-04-27T21:51:27.687048&#x27;]\\n [b&#x27;2021-04-27T21:51:27.771820&#x27;]\\n [b&#x27;2021-04-27T21:51:27.856593&#x27;]]&quot;, &quot;[[b&#x27;2021-04-27T21:51:27.093640&#x27;]\\n [b&#x27;2021-04-27T21:51:27.178412&#x27;]\\n [b&#x27;2021-04-27T21:51:27.263185&#x27;]\\n [b&#x27;2021-04-27T21:51:27.347958&#x27;]\\n [b&#x27;2021-04-27T21:51:27.432730&#x27;]\\n [b&#x27;2021-04-27T21:51:27.517503&#x27;]\\n [b&#x27;2021-04-27T21:51:27.602275&#x27;]\\n [b&#x27;2021-04-27T21:51:27.687048&#x27;]\\n [b&#x27;2021-04-27T21:51:27.771820&#x27;]\\n [b&#x27;2021-04-27T21:51:27.856593&#x27;]]&quot;]</dd><dt><span>processing_prf :</span></dt><dd>[&#x27;36909.21454162281&#x27;, &#x27;36909.21454162281&#x27;, &#x27;36909.21454162281&#x27;]</dd><dt><span>slant_range_to_first_pixel :</span></dt><dd>[&#x27;621684.5286148057&#x27;, &#x27;621684.5286148057&#x27;, &#x27;621684.5286148057&#x27;]</dd><dt><span>zerodoppler_end_utc :</span></dt><dd>[&#x27;2021-04-27T21:51:27.856593&#x27;, &#x27;2021-04-27T21:51:27.856593&#x27;, &#x27;2021-04-27T21:51:27.856593&#x27;]</dd><dt><span>satellite_name :</span></dt><dd>[&#x27;ICEYE-X9&#x27;, &#x27;ICEYE-X9&#x27;, &#x27;ICEYE-X9&#x27;]</dd><dt><span>orbit_processing_level :</span></dt><dd>[&#x27;precise&#x27;, &#x27;precise&#x27;, &#x27;precise&#x27;]</dd><dt><span>posZ :</span></dt><dd>[&#x27;[4109487.20309768 4110089.38320021 4110691.51494008 4111293.59543885\\n 4111895.62756019 4112497.60842612 4113099.5394648  4113701.42210389\\n 4114303.25346613 4114905.03641401 4115506.76807074 4116108.44986388\\n 4116710.0832205  4117311.66526454 4117913.19885731 4118514.68112321\\n 4119116.11348921 4119717.4973818  4120318.82992609 4120920.1139822\\n 4121521.34667574 4122122.52943307 4122723.66368008 4123324.7465431\\n 4123925.78088107 4124526.76382077 4125127.69678798 4125728.58120801\\n 4126329.41420836 4126930.19864679 4127530.93165127 4128131.61464698\\n 4128732.24905865 4129332.83201498 4129933.36637252 4130533.84926045\\n 4131134.28210339 4131734.66632543 4132334.99905648 4132935.2831519\\n 4133535.51574207 4134135.69825099 4134735.83210218 4135335.91442675\\n 4135935.94807886 4136535.9301901  4137135.86218387 4137735.74548311\\n 4138335.5772201  4138935.36024782 4139535.09169906 4140134.77299661\\n 4140734.40556282 4141333.98653118 4141933.51875348 4142532.9993637\\n 4143132.42978405 4143731.81143628 4144331.14145507 4144930.42269102\\n 4145529.6522793  4146128.83164154 4146727.96219887 4147327.0410872\\n 4147926.07115592 4148525.04954141 4149123.9776647  4149722.85694634\\n 4150321.68452341 4150920.46324413 4151519.19024607 4152117.86694965\\n 4152716.49477483 4153315.07085991 4153913.5980519  4154512.07348958\\n 4155110.49859279 4155708.87478087 4156307.19919332 4156905.47467597\\n 4157503.69836878]&#x27;, &#x27;[4109487.20309768 4110089.38320021 4110691.51494008 4111293.59543885\\n 4111895.62756019 4112497.60842612 4113099.5394648  4113701.42210389\\n 4114303.25346613 4114905.03641401 4115506.76807074 4116108.44986388\\n 4116710.0832205  4117311.66526454 4117913.19885731 4118514.68112321\\n 4119116.11348921 4119717.4973818  4120318.82992609 4120920.1139822\\n 4121521.34667574 4122122.52943307 4122723.66368008 4123324.7465431\\n 4123925.78088107 4124526.76382077 4125127.69678798 4125728.58120801\\n 4126329.41420836 4126930.19864679 4127530.93165127 4128131.61464698\\n 4128732.24905865 4129332.83201498 4129933.36637252 4130533.84926045\\n 4131134.28210339 4131734.66632543 4132334.99905648 4132935.2831519\\n 4133535.51574207 4134135.69825099 4134735.83210218 4135335.91442675\\n 4135935.94807886 4136535.9301901  4137135.86218387 4137735.74548311\\n 4138335.5772201  4138935.36024782 4139535.09169906 4140134.77299661\\n 4140734.40556282 4141333.98653118 4141933.51875348 4142532.9993637\\n 4143132.42978405 4143731.81143628 4144331.14145507 4144930.42269102\\n 4145529.6522793  4146128.83164154 4146727.96219887 4147327.0410872\\n 4147926.07115592 4148525.04954141 4149123.9776647  4149722.85694634\\n 4150321.68452341 4150920.46324413 4151519.19024607 4152117.86694965\\n 4152716.49477483 4153315.07085991 4153913.5980519  4154512.07348958\\n 4155110.49859279 4155708.87478087 4156307.19919332 4156905.47467597\\n 4157503.69836878]&#x27;, &#x27;[4109487.20309768 4110089.38320021 4110691.51494008 4111293.59543885\\n 4111895.62756019 4112497.60842612 4113099.5394648  4113701.42210389\\n 4114303.25346613 4114905.03641401 4115506.76807074 4116108.44986388\\n 4116710.0832205  4117311.66526454 4117913.19885731 4118514.68112321\\n 4119116.11348921 4119717.4973818  4120318.82992609 4120920.1139822\\n 4121521.34667574 4122122.52943307 4122723.66368008 4123324.7465431\\n 4123925.78088107 4124526.76382077 4125127.69678798 4125728.58120801\\n 4126329.41420836 4126930.19864679 4127530.93165127 4128131.61464698\\n 4128732.24905865 4129332.83201498 4129933.36637252 4130533.84926045\\n 4131134.28210339 4131734.66632543 4132334.99905648 4132935.2831519\\n 4133535.51574207 4134135.69825099 4134735.83210218 4135335.91442675\\n 4135935.94807886 4136535.9301901  4137135.86218387 4137735.74548311\\n 4138335.5772201  4138935.36024782 4139535.09169906 4140134.77299661\\n 4140734.40556282 4141333.98653118 4141933.51875348 4142532.9993637\\n 4143132.42978405 4143731.81143628 4144331.14145507 4144930.42269102\\n 4145529.6522793  4146128.83164154 4146727.96219887 4147327.0410872\\n 4147926.07115592 4148525.04954141 4149123.9776647  4149722.85694634\\n 4150321.68452341 4150920.46324413 4151519.19024607 4152117.86694965\\n 4152716.49477483 4153315.07085991 4153913.5980519  4154512.07348958\\n 4155110.49859279 4155708.87478087 4156307.19919332 4156905.47467597\\n 4157503.69836878]&#x27;]</dd><dt><span>RPC_LINE_NUM_COEFF :</span></dt><dd>[&#x27;[-0.2578882575035095, -121.38870239257812, 801.61962890625, 0.03505373001098633, 121.65729522705078, 0.8761919736862183, -5.816091060638428, 0.3620956540107727, -785.8128051757812, -0.0002460726536810398, 0.25339189171791077, -0.07244207710027695, -2.7221195697784424, -0.0008237857837229967, 0.22757625579833984, -2.9497532844543457, 0.005537793971598148, -0.02458036132156849, -0.8406327366828918, -4.56743828181061e-06]&#x27;, &#x27;[-0.2578882575035095, -121.38870239257812, 801.61962890625, 0.03505373001098633, 121.65729522705078, 0.8761919736862183, -5.816091060638428, 0.3620956540107727, -785.8128051757812, -0.0002460726536810398, 0.25339189171791077, -0.07244207710027695, -2.7221195697784424, -0.0008237857837229967, 0.22757625579833984, -2.9497532844543457, 0.005537793971598148, -0.02458036132156849, -0.8406327366828918, -4.56743828181061e-06]&#x27;, &#x27;[-0.2578882575035095, -121.38870239257812, 801.61962890625, 0.03505373001098633, 121.65729522705078, 0.8761919736862183, -5.816091060638428, 0.3620956540107727, -785.8128051757812, -0.0002460726536810398, 0.25339189171791077, -0.07244207710027695, -2.7221195697784424, -0.0008237857837229967, 0.22757625579833984, -2.9497532844543457, 0.005537793971598148, -0.02458036132156849, -0.8406327366828918, -4.56743828181061e-06]&#x27;]</dd><dt><span>yaw :</span></dt><dd>[&#x27;0.0&#x27;, &#x27;0.0&#x27;, &#x27;0.0&#x27;]</dd><dt><span>doppler_rate_coeffs :</span></dt><dd>[&#x27;[-5.58027093e+03  1.34212242e+06 -3.22798340e+08  7.76370140e+10]&#x27;, &#x27;[-5.58027093e+03  1.34212242e+06 -3.22798340e+08  7.76370140e+10]&#x27;, &#x27;[-5.58027093e+03  1.34212242e+06 -3.22798340e+08  7.76370140e+10]&#x27;]</dd><dt><span>avg_scene_height :</span></dt><dd>[&#x27;110.74176&#x27;, &#x27;110.74176&#x27;, &#x27;110.74176&#x27;]</dd><dt><span>coord_first_near :</span></dt><dd>[&#x27;[ 1.          1.         37.41700064 -6.28184839]&#x27;, &#x27;[ 1.          1.         37.41700064 -6.28184839]&#x27;, &#x27;[ 1.          1.         37.41700064 -6.28184839]&#x27;]</dd><dt><span>range_spread_comp_flag :</span></dt><dd>[&#x27;1&#x27;, &#x27;1&#x27;, &#x27;1&#x27;]</dd><dt><span>product_type :</span></dt><dd>[&#x27;SpotlightExtendedDwell&#x27;, &#x27;SpotlightExtendedDwell&#x27;, &#x27;SpotlightExtendedDwell&#x27;]</dd><dt><span>mean_earth_radius :</span></dt><dd>[&#x27;6370576.1554293325&#x27;, &#x27;6370576.1554293325&#x27;, &#x27;6370576.1554293325&#x27;]</dd><dt><span>orbit_repeat_cycle :</span></dt><dd>[&#x27;99999&#x27;, &#x27;99999&#x27;, &#x27;99999&#x27;]</dd><dt><span>chirp_bandwidth :</span></dt><dd>[&#x27;300000000&#x27;, &#x27;300000000&#x27;, &#x27;300000000&#x27;]</dd><dt><span>RPC_LAT_OFF :</span></dt><dd>[&#x27;37.44791793823242&#x27;, &#x27;37.44791793823242&#x27;, &#x27;37.44791793823242&#x27;]</dd><dt><span>azimuth_angles_of_the_beam :</span></dt><dd>[&#x27;[-0.24823085 -0.24821358 -0.24819631 ...  0.24507801  0.24509529\\n  0.24511257]&#x27;, &#x27;[-0.24823085 -0.24821358 -0.24819631 ...  0.24507801  0.24509529\\n  0.24511257]&#x27;, &#x27;[-0.24823085 -0.24821358 -0.24819631 ...  0.24507801  0.24509529\\n  0.24511257]&#x27;]</dd><dt><span>number_of_state_vectors :</span></dt><dd>[&#x27;81&#x27;, &#x27;81&#x27;, &#x27;81&#x27;]</dd><dt><span>first_pixel_time :</span></dt><dd>[&#x27;0.004147432745721746&#x27;, &#x27;0.004147432745721746&#x27;, &#x27;0.004147432745721746&#x27;]</dd><dt><span>processor_version :</span></dt><dd>[&#x27;1.31&#x27;, &#x27;1.31&#x27;, &#x27;1.31&#x27;]</dd><dt><span>pitch :</span></dt><dd>[&#x27;0.0&#x27;, &#x27;0.0&#x27;, &#x27;0.0&#x27;]</dd><dt><span>coord_last_far :</span></dt><dd>[&#x27;[ 7.42400000e+03  2.81600000e+04  3.74741236e+01 -6.22730050e+00]&#x27;, &#x27;[ 7.42400000e+03  2.81600000e+04  3.74741236e+01 -6.22730050e+00]&#x27;, &#x27;[ 7.42400000e+03  2.81600000e+04  3.74741236e+01 -6.22730050e+00]&#x27;]</dd><dt><span>dc_estimate_poly_order :</span></dt><dd>[&#x27;3&#x27;, &#x27;3&#x27;, &#x27;3&#x27;]</dd><dt><span>window_function_azimuth :</span></dt><dd>[&#x27;NONE&#x27;, &#x27;NONE&#x27;, &#x27;NONE&#x27;]</dd><dt><span>window_function_range :</span></dt><dd>[&#x27;NONE&#x27;, &#x27;NONE&#x27;, &#x27;NONE&#x27;]</dd><dt><span>angY :</span></dt><dd>[&#x27;[0. 0. 0. 0. 0. 0. 0. 0. 0. 0. 0. 0. 0. 0. 0. 0. 0. 0. 0. 0. 0. 0. 0. 0.\\n 0. 0. 0. 0. 0. 0. 0. 0. 0. 0. 0. 0. 0. 0. 0. 0. 0. 0. 0. 0. 0. 0. 0. 0.\\n 0. 0. 0. 0. 0. 0. 0. 0. 0. 0. 0. 0. 0. 0. 0. 0. 0. 0. 0. 0. 0. 0. 0. 0.\\n 0. 0. 0. 0. 0. 0. 0. 0. 0.]&#x27;, &#x27;[0. 0. 0. 0. 0. 0. 0. 0. 0. 0. 0. 0. 0. 0. 0. 0. 0. 0. 0. 0. 0. 0. 0. 0.\\n 0. 0. 0. 0. 0. 0. 0. 0. 0. 0. 0. 0. 0. 0. 0. 0. 0. 0. 0. 0. 0. 0. 0. 0.\\n 0. 0. 0. 0. 0. 0. 0. 0. 0. 0. 0. 0. 0. 0. 0. 0. 0. 0. 0. 0. 0. 0. 0. 0.\\n 0. 0. 0. 0. 0. 0. 0. 0. 0.]&#x27;, &#x27;[0. 0. 0. 0. 0. 0. 0. 0. 0. 0. 0. 0. 0. 0. 0. 0. 0. 0. 0. 0. 0. 0. 0. 0.\\n 0. 0. 0. 0. 0. 0. 0. 0. 0. 0. 0. 0. 0. 0. 0. 0. 0. 0. 0. 0. 0. 0. 0. 0.\\n 0. 0. 0. 0. 0. 0. 0. 0. 0. 0. 0. 0. 0. 0. 0. 0. 0. 0. 0. 0. 0. 0. 0. 0.\\n 0. 0. 0. 0. 0. 0. 0. 0. 0.]&#x27;]</dd><dt><span>RPC_SAMP_NUM_COEFF :</span></dt><dd>[&#x27;[-0.0009412214858457446, 0.12370436638593674, 0.027725663036108017, -0.003873632289469242, 0.0026649765204638243, -0.0002859267115127295, -7.105545228114352e-05, 0.006275189109146595, 0.0003226893022656441, 7.804713277437259e-06, -3.2152356652659364e-06, 8.491354674333706e-05, 9.824057997320779e-06, -4.820057029064628e-07, 4.86567550979089e-05, 8.434716960437072e-07, -9.65340021252814e-08, -7.038798685243819e-06, -3.9898580439512443e-07, 1.4833722694618245e-08]&#x27;, &#x27;[-0.0009412214858457446, 0.12370436638593674, 0.027725663036108017, -0.003873632289469242, 0.0026649765204638243, -0.0002859267115127295, -7.105545228114352e-05, 0.006275189109146595, 0.0003226893022656441, 7.804713277437259e-06, -3.2152356652659364e-06, 8.491354674333706e-05, 9.824057997320779e-06, -4.820057029064628e-07, 4.86567550979089e-05, 8.434716960437072e-07, -9.65340021252814e-08, -7.038798685243819e-06, -3.9898580439512443e-07, 1.4833722694618245e-08]&#x27;, &#x27;[-0.0009412214858457446, 0.12370436638593674, 0.027725663036108017, -0.003873632289469242, 0.0026649765204638243, -0.0002859267115127295, -7.105545228114352e-05, 0.006275189109146595, 0.0003226893022656441, 7.804713277437259e-06, -3.2152356652659364e-06, 8.491354674333706e-05, 9.824057997320779e-06, -4.820057029064628e-07, 4.86567550979089e-05, 8.434716960437072e-07, -9.65340021252814e-08, -7.038798685243819e-06, -3.9898580439512443e-07, 1.4833722694618245e-08]&#x27;]</dd><dt><span>slant_range_spacing :</span></dt><dd>[&#x27;0.4185311389253755&#x27;, &#x27;0.4185311389253755&#x27;, &#x27;0.4185311389253755&#x27;]</dd></dl></div><div class='xr-var-data'><table>\n",
       "<tr>\n",
       "<td>\n",
       "<table>\n",
       "  <thead>\n",
       "    <tr><td> </td><th> Array </th><th> Chunk </th></tr>\n",
       "  </thead>\n",
       "  <tbody>\n",
       "    <tr><th> Bytes </th><td> 300 B </td> <td> 100 B </td></tr>\n",
       "    <tr><th> Shape </th><td> (3, 5, 5) </td> <td> (1, 5, 5) </td></tr>\n",
       "    <tr><th> Count </th><td> 15 Tasks </td><td> 3 Chunks </td></tr>\n",
       "    <tr><th> Type </th><td> float32 </td><td> numpy.ndarray </td></tr>\n",
       "  </tbody>\n",
       "</table>\n",
       "</td>\n",
       "<td>\n",
       "<svg width=\"222\" height=\"212\" style=\"stroke:rgb(0,0,0);stroke-width:1\" >\n",
       "\n",
       "  <!-- Horizontal lines -->\n",
       "  <line x1=\"10\" y1=\"0\" x2=\"52\" y2=\"42\" style=\"stroke-width:2\" />\n",
       "  <line x1=\"10\" y1=\"120\" x2=\"52\" y2=\"162\" style=\"stroke-width:2\" />\n",
       "\n",
       "  <!-- Vertical lines -->\n",
       "  <line x1=\"10\" y1=\"0\" x2=\"10\" y2=\"120\" style=\"stroke-width:2\" />\n",
       "  <line x1=\"24\" y1=\"14\" x2=\"24\" y2=\"134\" />\n",
       "  <line x1=\"38\" y1=\"28\" x2=\"38\" y2=\"148\" />\n",
       "  <line x1=\"52\" y1=\"42\" x2=\"52\" y2=\"162\" style=\"stroke-width:2\" />\n",
       "\n",
       "  <!-- Colored Rectangle -->\n",
       "  <polygon points=\"10.0,0.0 52.35294117647059,42.35294117647059 52.35294117647059,162.35294117647058 10.0,120.0\" style=\"fill:#ECB172A0;stroke-width:0\"/>\n",
       "\n",
       "  <!-- Horizontal lines -->\n",
       "  <line x1=\"10\" y1=\"0\" x2=\"130\" y2=\"0\" style=\"stroke-width:2\" />\n",
       "  <line x1=\"24\" y1=\"14\" x2=\"144\" y2=\"14\" />\n",
       "  <line x1=\"38\" y1=\"28\" x2=\"158\" y2=\"28\" />\n",
       "  <line x1=\"52\" y1=\"42\" x2=\"172\" y2=\"42\" style=\"stroke-width:2\" />\n",
       "\n",
       "  <!-- Vertical lines -->\n",
       "  <line x1=\"10\" y1=\"0\" x2=\"52\" y2=\"42\" style=\"stroke-width:2\" />\n",
       "  <line x1=\"130\" y1=\"0\" x2=\"172\" y2=\"42\" style=\"stroke-width:2\" />\n",
       "\n",
       "  <!-- Colored Rectangle -->\n",
       "  <polygon points=\"10.0,0.0 130.0,0.0 172.35294117647058,42.35294117647059 52.35294117647059,42.35294117647059\" style=\"fill:#ECB172A0;stroke-width:0\"/>\n",
       "\n",
       "  <!-- Horizontal lines -->\n",
       "  <line x1=\"52\" y1=\"42\" x2=\"172\" y2=\"42\" style=\"stroke-width:2\" />\n",
       "  <line x1=\"52\" y1=\"162\" x2=\"172\" y2=\"162\" style=\"stroke-width:2\" />\n",
       "\n",
       "  <!-- Vertical lines -->\n",
       "  <line x1=\"52\" y1=\"42\" x2=\"52\" y2=\"162\" style=\"stroke-width:2\" />\n",
       "  <line x1=\"172\" y1=\"42\" x2=\"172\" y2=\"162\" style=\"stroke-width:2\" />\n",
       "\n",
       "  <!-- Colored Rectangle -->\n",
       "  <polygon points=\"52.35294117647059,42.35294117647059 172.35294117647058,42.35294117647059 172.35294117647058,162.35294117647058 52.35294117647059,162.35294117647058\" style=\"fill:#ECB172A0;stroke-width:0\"/>\n",
       "\n",
       "  <!-- Text -->\n",
       "  <text x=\"112.352941\" y=\"182.352941\" font-size=\"1.0rem\" font-weight=\"100\" text-anchor=\"middle\" >5</text>\n",
       "  <text x=\"192.352941\" y=\"102.352941\" font-size=\"1.0rem\" font-weight=\"100\" text-anchor=\"middle\" transform=\"rotate(0,192.352941,102.352941)\">5</text>\n",
       "  <text x=\"21.176471\" y=\"161.176471\" font-size=\"1.0rem\" font-weight=\"100\" text-anchor=\"middle\" transform=\"rotate(45,21.176471,161.176471)\">3</text>\n",
       "</svg>\n",
       "</td>\n",
       "</tr>\n",
       "</table></div></li></ul></div></li><li class='xr-section-item'><input id='section-80633b9b-8768-4912-9f1d-89d2db182d24' class='xr-section-summary-in' type='checkbox' disabled ><label for='section-80633b9b-8768-4912-9f1d-89d2db182d24' class='xr-section-summary'  title='Expand/collapse section'>Attributes: <span>(0)</span></label><div class='xr-section-inline-details'></div><div class='xr-section-details'><dl class='xr-attrs'></dl></div></li></ul></div></div>"
      ],
      "text/plain": [
       "<xarray.Dataset>\n",
       "Dimensions:  (Azimuth: 5, Band: 3, Range: 5)\n",
       "Coordinates:\n",
       "  * Azimuth  (Azimuth) int64 0 1 2 3 4\n",
       "  * Range    (Range) int64 0 1 2 3 4\n",
       "  * Band     (Band) datetime64[ns] 2021-04-27 2021-04-28 2021-05-27\n",
       "Data variables:\n",
       "    Real     (Band, Azimuth, Range) float32 dask.array<chunksize=(1, 5, 5), meta=np.ndarray>\n",
       "    Complex  (Band, Azimuth, Range) float32 dask.array<chunksize=(1, 5, 5), meta=np.ndarray>"
      ]
     },
     "execution_count": 17,
     "metadata": {},
     "output_type": "execute_result"
    }
   ],
   "source": [
    "slc_datacube.xrdataset.head()"
   ]
  },
  {
   "cell_type": "markdown",
   "metadata": {},
   "source": [
    "### Temporal Resolution\n",
    "\n",
    "By modifying the cube_config variable, you are able to adjust the time resolution of your cube - the empty time slot where your don't have images will be replaced by empty data (np.nan) for the array and None for the metadata. \n",
    "\n",
    "For certain ML problem the time dimension is key in order to improve the prediction. If we take the problem of crop type classification - Having a fixed temporal resolution is necessary to help the model to learn different crop types. (eg;  the corn and the rise are havested at different time through the year)"
   ]
  },
  {
   "cell_type": "code",
   "execution_count": 18,
   "metadata": {},
   "outputs": [
    {
     "name": "stderr",
     "output_type": "stream",
     "text": [
      "09/07/2021 04:07:10 PM - sar_datacube_metadata.py - [INFO] - Building the metadata from the folder /mnt/xor/ICEYE_PACKAGES/icecube/tests/resources/slc_stack using SLC\n",
      "processing rasters for cubes: 100%|██████████| 3/3 [00:00<00:00, 63.07it/s]\n",
      "09/07/2021 04:07:10 PM - common_utils.py - [INFO] - create running time is 0.1214 seconds\n"
     ]
    }
   ],
   "source": [
    "cube_config = CubeConfig()\n",
    "cube_config.temporal_resolution = 2\n",
    "cube_config.start_date = 20210427 # end of April\n",
    "cube_config.end_date = 20210501 # begining of May - 6 days difference\n",
    "cube_config.load_config(None)\n",
    "\n",
    "# Build the datacube composed by a stack of SLC\n",
    "slc_datacube = SLCDatacube.build(cube_config, test_dir_slcs)"
   ]
  },
  {
   "cell_type": "code",
   "execution_count": 19,
   "metadata": {},
   "outputs": [
    {
     "data": {
      "text/plain": [
       "['2021-04-27T21:51:30.025535', 'None', 'None']"
      ]
     },
     "execution_count": 19,
     "metadata": {},
     "output_type": "execute_result"
    }
   ],
   "source": [
    "# If no images are found at the specific date - by default np.nan is used to fill the gap for the metadata\n",
    "slc_datacube.xrdataset[\"Complex\"].attrs[\"acquisition_end_utc\"]"
   ]
  },
  {
   "cell_type": "code",
   "execution_count": 20,
   "metadata": {},
   "outputs": [
    {
     "data": {
      "text/plain": [
       "True"
      ]
     },
     "execution_count": 20,
     "metadata": {},
     "output_type": "execute_result"
    }
   ],
   "source": [
    "# If no images are found at the specific date - by default np.nan is used to fill the gap for the array\n",
    "np.isnan(slc_datacube.xrdataset[\"Complex\"][1].values).all()"
   ]
  },
  {
   "cell_type": "markdown",
   "metadata": {},
   "source": [
    "### Filtering by date"
   ]
  },
  {
   "cell_type": "markdown",
   "metadata": {},
   "source": [
    "The datacube is built with the time component as coordinate. By doing so, we have the possibility to query the datacube using the acquisition date of the image. That is really useful when you are looking for a specific time or an interval of time."
   ]
  },
  {
   "cell_type": "code",
   "execution_count": 21,
   "metadata": {},
   "outputs": [
    {
     "data": {
      "text/plain": [
       "<bound method Dataset.head of <xarray.Dataset>\n",
       "Dimensions:  (Azimuth: 20, Range: 20)\n",
       "Coordinates:\n",
       "  * Azimuth  (Azimuth) int64 0 1 2 3 4 5 6 7 8 9 10 11 12 13 14 15 16 17 18 19\n",
       "  * Range    (Range) int64 0 1 2 3 4 5 6 7 8 9 10 11 12 13 14 15 16 17 18 19\n",
       "    Band     datetime64[ns] 2021-04-27\n",
       "Data variables:\n",
       "    Real     (Azimuth, Range) float32 dask.array<chunksize=(20, 20), meta=np.ndarray>\n",
       "    Complex  (Azimuth, Range) float32 dask.array<chunksize=(20, 20), meta=np.ndarray>>"
      ]
     },
     "execution_count": 21,
     "metadata": {},
     "output_type": "execute_result"
    }
   ],
   "source": [
    "# Single date\n",
    "slc_datacube.xrdataset.sel(Band=\"2021-04-27\").head"
   ]
  },
  {
   "cell_type": "code",
   "execution_count": 22,
   "metadata": {},
   "outputs": [
    {
     "data": {
      "text/plain": [
       "<bound method Dataset.head of <xarray.Dataset>\n",
       "Dimensions:  (Azimuth: 20, Band: 2, Range: 20)\n",
       "Coordinates:\n",
       "  * Azimuth  (Azimuth) int64 0 1 2 3 4 5 6 7 8 9 10 11 12 13 14 15 16 17 18 19\n",
       "  * Range    (Range) int64 0 1 2 3 4 5 6 7 8 9 10 11 12 13 14 15 16 17 18 19\n",
       "  * Band     (Band) datetime64[ns] 2021-04-27 2021-04-29\n",
       "Data variables:\n",
       "    Real     (Band, Azimuth, Range) float32 dask.array<chunksize=(1, 20, 20), meta=np.ndarray>\n",
       "    Complex  (Band, Azimuth, Range) float32 dask.array<chunksize=(1, 20, 20), meta=np.ndarray>>"
      ]
     },
     "execution_count": 22,
     "metadata": {},
     "output_type": "execute_result"
    }
   ],
   "source": [
    "# Interval\n",
    "slc_datacube.xrdataset.sel(Band=slice(\"2021-04-27\", \"2021-04-30\")).head"
   ]
  },
  {
   "cell_type": "markdown",
   "metadata": {},
   "source": [
    "## Writing the cube to disk\n",
    "\n",
    "Finally, save the datacube usint the `.to_file()` method of the `SarDatacube` object.\n",
    "The default format is `netCDF4` - this can be expanded if needed."
   ]
  },
  {
   "cell_type": "code",
   "execution_count": 23,
   "metadata": {},
   "outputs": [],
   "source": [
    "grd_cube_save_path = os.path.join(icecube_abspath, \"icecube/dataset/temp/my_awesome_datacube_grd.nc\")\n",
    "slc_cube_save_path = os.path.join(icecube_abspath, \"icecube/dataset/temp/my_awesome_datacube_slc.nc\")\n",
    "# create path if not exists.\n",
    "Path(str(Path(grd_cube_save_path).parent)).mkdir(parents=True, exist_ok=True)\n",
    "# now write\n",
    "grd_datacube.to_file(output_fpath=grd_cube_save_path)\n",
    "slc_datacube.to_file(output_fpath=slc_cube_save_path)"
   ]
  },
  {
   "cell_type": "markdown",
   "metadata": {},
   "source": [
    "**hyvää työtä!**"
   ]
  }
 ],
 "metadata": {
  "interpreter": {
   "hash": "287d0f10f5e6cd0277b587b08d668c282979eb26d55b811c79481398c6b0311a"
  },
  "kernelspec": {
   "display_name": "Python 3",
   "language": "python",
   "name": "python3"
  },
  "language_info": {
   "codemirror_mode": {
    "name": "ipython",
    "version": 3
   },
   "file_extension": ".py",
   "mimetype": "text/x-python",
   "name": "python",
   "nbconvert_exporter": "python",
   "pygments_lexer": "ipython3",
   "version": "3.8.8"
  }
 },
 "nbformat": 4,
 "nbformat_minor": 2
}
