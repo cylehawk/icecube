{
 "cells": [
  {
   "cell_type": "markdown",
   "source": [
    "# Ex 2 - SLC Datacube I/O\n",
    "\n",
    "In this example, we will open a stack of Single Look Complex (SLC) images, read them in as a `SARDatacube` object, display the array data, perform some simple metadata queries, and save the stack of images. The SLC files from ICEYE are in the.hdf5 format."
   ],
   "metadata": {}
  },
  {
   "cell_type": "code",
   "execution_count": 1,
   "source": [
    "import os,sys,inspect\r\n",
    "from os.path import dirname, abspath, join\r\n",
    "from icecube.bin.sar_cube.slc_datacube import SLCDatacube\r\n",
    "from icecube.bin.config import CubeConfig \r\n",
    "import matplotlib.pyplot as plt\r\n",
    "from pathlib import Path \r\n",
    "from icecube.bin.datacube_variables import NAME_REAL_BAND, NAME_COMPLEX_BAND\r\n",
    "import numpy as np"
   ],
   "outputs": [],
   "metadata": {}
  },
  {
   "cell_type": "markdown",
   "source": [
    "## Creating  a Datacube"
   ],
   "metadata": {}
  },
  {
   "cell_type": "markdown",
   "source": [
    "Modify the following paths based of your use case. For the purpose of this demo, we'll work on a subset of the images used to test the library."
   ],
   "metadata": {}
  },
  {
   "cell_type": "code",
   "execution_count": 2,
   "source": [
    "parent_dir = dirname(dirname(dirname(abspath(inspect.getfile(inspect.currentframe())))))\r\n",
    "test_dir =  join(parent_dir, \"tests\", \"resources\", \"slc_stack\")\r\n",
    "print(f\"The SLCs used for the demo are located at Path_to_library/icecube/tests/resources/slc_stack\")"
   ],
   "outputs": [
    {
     "output_type": "stream",
     "name": "stdout",
     "text": [
      "The SLCs used for the demo are located at Path_to_library/icecube/tests/resources/slc_stack\n"
     ]
    }
   ],
   "metadata": {}
  },
  {
   "cell_type": "markdown",
   "source": [
    "The first step is to create or edit the config file, which is a json file containing the parameters that you want to modify for the datacube construction."
   ],
   "metadata": {}
  },
  {
   "cell_type": "code",
   "execution_count": 3,
   "source": [
    "cube_config = CubeConfig()\r\n",
    "\r\n",
    "# To load the config parameters;\r\n",
    "#cube_config.load_config(cube_config_path)\r\n",
    "\r\n",
    "# Example json:\r\n",
    "#{\r\n",
    "#    \"start_date\": \"20200402\",\r\n",
    "#    \"end_date\": \"20210420\",\r\n",
    "#    \"min_incidence_angle\": 20,\r\n",
    "#    \"max_incidence_angle\": 21,\r\n",
    "#    \"temporal_resolution\": 1,\r\n",
    "#    \"coregistered\": true,\r\n",
    "#    \"space_overlap\": true,\r\n",
    "#    \"temporal_overlap\": true\r\n",
    "#}"
   ],
   "outputs": [],
   "metadata": {}
  },
  {
   "cell_type": "code",
   "execution_count": 4,
   "source": [
    "# Build the datacube composed of a stack of SLC\r\n",
    "\r\n",
    "# The program will execute the following steps:\r\n",
    "#  - Fetch the metadata of the images\r\n",
    "#  - Build a dataframe containing the metadata\r\n",
    "#  - Apply the filtering (sort by date, select by angle)\r\n",
    "#  - From the filtered metadata, it will load the data accordingly \r\n",
    "\r\n",
    "slc_datacube = SLCDatacube.build(cube_config, test_dir)"
   ],
   "outputs": [
    {
     "output_type": "stream",
     "name": "stderr",
     "text": [
      "08/24/2021 04:13:34 PM - sar_datacube_metadata.py - [INFO] - Building the metadata from the folder /home/adupeyrat/Documents/code/icecube/tests/resources/slc_stack using SLC\n",
      "processing rasters for cubes: 100%|██████████| 3/3 [00:00<00:00, 28.00it/s]\n",
      "08/24/2021 04:13:34 PM - common_utils.py - [INFO] - create running time is 0.1728 seconds\n"
     ]
    }
   ],
   "metadata": {}
  },
  {
   "cell_type": "markdown",
   "source": [
    "## `SLCDatacube` object\n",
    "\n",
    "Every `SLCDatacube` object is a `SARDatacube`\n",
    "\n",
    "These have multiple methods:\n",
    "\n",
    "- `.cube_config` -> As seen above, the configuration is used to create the datacube. We can modify those parameters by defining a json file that will load each parameters.\n",
    "\n",
    "\n",
    "- `.xrdataset` -> This is theXarray.Dataset containing the stack of images (Azimuth, Range, and Band). Each image is loaded using dask (for memory optimization) and then tranformed into an Xarray.Dataarray. There is one temporal layer in the datacube for each SLC file found in your directory.\n",
    "\n",
    "\n",
    "- `.get_metadata(temporal_index)` ->  Returns the metadata of the image at a certain index, this is the Dict[str, str] representing the images."
   ],
   "metadata": {}
  },
  {
   "cell_type": "code",
   "execution_count": 5,
   "source": [
    "# You can access the dataset for ease of visualization,\r\n",
    "# The 'Band' dimension shows the number of SLC images stacked from your input path\r\n",
    "slc_datacube.xrdataset.head"
   ],
   "outputs": [
    {
     "output_type": "execute_result",
     "data": {
      "text/plain": [
       "<bound method Dataset.head of <xarray.Dataset>\n",
       "Dimensions:  (Azimuth: 20, Band: 3, Range: 20)\n",
       "Coordinates:\n",
       "  * Azimuth  (Azimuth) int64 0 1 2 3 4 5 6 7 8 9 10 11 12 13 14 15 16 17 18 19\n",
       "  * Range    (Range) int64 0 1 2 3 4 5 6 7 8 9 10 11 12 13 14 15 16 17 18 19\n",
       "  * Band     (Band) datetime64[ns] 2021-04-27 2021-04-28 2021-05-27\n",
       "Data variables:\n",
       "    Real     (Band, Azimuth, Range) float32 dask.array<chunksize=(1, 20, 20), meta=np.ndarray>\n",
       "    Complex  (Band, Azimuth, Range) float32 dask.array<chunksize=(1, 20, 20), meta=np.ndarray>>"
      ]
     },
     "metadata": {},
     "execution_count": 5
    }
   ],
   "metadata": {}
  },
  {
   "cell_type": "code",
   "execution_count": 6,
   "source": [
    "# Access the array dimensions\r\n",
    "slc_datacube.xrdataset.dims"
   ],
   "outputs": [
    {
     "output_type": "execute_result",
     "data": {
      "text/plain": [
       "Frozen(SortedKeysDict({'Azimuth': 20, 'Range': 20, 'Band': 3}))"
      ]
     },
     "metadata": {},
     "execution_count": 6
    }
   ],
   "metadata": {}
  },
  {
   "cell_type": "code",
   "execution_count": 7,
   "source": [
    "# Let's visualize the Complex component of the slc_datacube for the first and last image of the stack.\r\n",
    "# Will convert the data to bytes (from float64), so we can see something.\r\n",
    "\r\n",
    "fig, ax = plt.subplots(1,2)\r\n",
    "\r\n",
    "#First image in the stack\r\n",
    "ax[0].imshow(slc_datacube.xrdataset['Real'][0].values)\r\n",
    "\r\n",
    "#Last image in the stack\r\n",
    "ax[1].imshow(slc_datacube.xrdataset['Real'][-1].values)\r\n"
   ],
   "outputs": [
    {
     "output_type": "execute_result",
     "data": {
      "text/plain": [
       "<matplotlib.image.AxesImage at 0x7f4d94450a90>"
      ]
     },
     "metadata": {},
     "execution_count": 7
    },
    {
     "output_type": "display_data",
     "data": {
      "text/plain": [
       "<Figure size 432x288 with 2 Axes>"
      ],
      "image/png": "[encoded data removed]"
     },
     "metadata": {
      "needs_background": "light"
     }
    }
   ],
   "metadata": {}
  },
  {
   "cell_type": "code",
   "execution_count": 8,
   "source": [
    "# Slice the stack at a pixel level. If the SLC stack images are co-located at different times, you are slicing by time at this point:\r\n",
    "# Let's pick the first pixel in range and aziumuth for all images in the stack. \r\n",
    "\r\n",
    "#Check the shape of the stack again\r\n",
    "print(slc_datacube.xrdataset['Complex'].shape)\r\n",
    "\r\n",
    "#The stack depth is the first dimension of the array\r\n",
    "pixel_time_series = slc_datacube.xrdataset['Complex'][:,1,1].values\r\n",
    "print(f\"The time series for the pixel located at the pixel (1,1) is {pixel_time_series}\")\r\n"
   ],
   "outputs": [
    {
     "output_type": "stream",
     "name": "stdout",
     "text": [
      "(3, 20, 20)\n",
      "The time series for the pixel located at the pixel (1,1) is [0.51176447 0.92778593 0.350109  ]\n"
     ]
    }
   ],
   "metadata": {}
  },
  {
   "cell_type": "markdown",
   "source": [
    "The raw ICEYE image metadata for each image can be accessed using the method `get_metadata(attributes, datavars, cube_index)`or directly using attrs of the xarray.Dataset[data_vars].\n",
    "\n",
    "\n",
    "slc_datacube.xrdataset[\"Complex\"].attrs will return a dict[str, list]\n",
    "\n",
    "- `The key` represents the metadata key\n",
    "- `The values` represents the values associated with each layer of the datacube - a missing value is represented by `None`\n"
   ],
   "metadata": {}
  },
  {
   "cell_type": "code",
   "execution_count": 9,
   "source": [
    "# Visualize all possibles values\r\n",
    "slc_datacube.xrdataset['Complex'].attrs.keys()"
   ],
   "outputs": [
    {
     "output_type": "execute_result",
     "data": {
      "text/plain": [
       "dict_keys(['RPC_LONG_OFF', 'RPC_HEIGHT_SCALE', 'RPC_LONG_SCALE', 'calibration_factor', 'RPC_LAT_OFF', 'number_of_azimuth_samples', 'dc_estimate_poly_order', 'velX', 'look_side', 'ant_elev_corr_flag', 'ref_track_point_ecef', 'product_file', 'range_looks', 'coord_center', 'velZ', 'zerodoppler_start_utc', 'chirp_bandwidth', 'doppler_rate_coeffs', 'avg_scene_height', 'zerodoppler_end_utc', 'RPC_HEIGHT_OFF', 'number_of_state_vectors', 'angX', 'tropo_range_delay', 'doppler_rate_poly_order', 'incidence_near', 'satellite_look_angle', 'antenna_pattern_compensation', 'window_function_azimuth', 'chirp_duration', 'orbit_direction', 'angZ', 'incidence_far', 'orbit_relative_number', 'product_level', 'dc_estimate_coeffs', 'pitch', 'RPC_LAT_SCALE', 'azimuth_angles_of_the_beam', 'processing_time', 'slant_range_spacing', 'posX', 'mean_earth_radius', 'acquisition_end_utc', 'angY', 'satellite_name', 'product_name', 'state_vector_time_utc', 'number_of_dc_estimations', 'RPC_LINE_DEN_COEFF', 'orbit_processing_level', 'acquisition_start_utc', 'azimuth_time_interval', 'sample_precision', 'RPC_SAMP_DEN_COEFF', 'geo_ref_system', 'coord_last_far', 'RPC_SAMP_OFF', 'heading', 'orbit_absolute_number', 'RPC_SAMP_NUM_COEFF', 'azimuth_looks', 'acquisition_prf', 'RPC_SAMP_SCALE', 'range_sampling_rate', 'product_type', 'coord_first_far', 'total_processed_bandwidth_azimuth', 'spec_version', 'RPC_LINE_NUM_COEFF', 'coord_last_near', 'mean_orbit_altitude', 'polarization', 'azimuth_ground_spacing', 'velY', 'incidence_center', 'ref_track_point_lla', 'yaw', 'fsl_compensation', 'processor_version', 'acquisition_mode', 'coord_first_near', 'range_spread_comp_flag', 'first_pixel_time', 'local_incidence_angle', 'orbit_repeat_cycle', 'posY', 'window_function_range', 'carrier_frequency', 'number_of_range_samples', 'posZ', 'data_orientation', 'slant_range_to_first_pixel', 'dc_estimate_time_utc', 'RPC_LINE_SCALE', 'processing_prf', 'RPC_LINE_OFF'])"
      ]
     },
     "metadata": {},
     "execution_count": 9
    }
   ],
   "metadata": {}
  },
  {
   "cell_type": "code",
   "execution_count": 10,
   "source": [
    "# You can see the list of values for a specific metadata\r\n",
    "slc_datacube.xrdataset['Complex'].attrs[\"product_file\"]"
   ],
   "outputs": [
    {
     "output_type": "execute_result",
     "data": {
      "text/plain": [
       "['ICEYE_SLC_54549_20210427T215124_hollow_20x20pixels_fake_1.h5',\n",
       " 'ICEYE_SLC_54549_20210427T215124_hollow_20x20pixels_fake_0.h5',\n",
       " 'ICEYE_SLC_54549_20210427T215124_hollow_20x20pixels_fake_2.h5']"
      ]
     },
     "metadata": {},
     "execution_count": 10
    }
   ],
   "metadata": {}
  },
  {
   "cell_type": "code",
   "execution_count": 11,
   "source": [
    "# If you know what you are looking for, you can directly use `get_metadata(attr, var, index)` method\r\n",
    "slc_datacube.get_metadata(\"product_file\", NAME_COMPLEX_BAND, 1)"
   ],
   "outputs": [
    {
     "output_type": "execute_result",
     "data": {
      "text/plain": [
       "'ICEYE_SLC_54549_20210427T215124_hollow_20x20pixels_fake_0.h5'"
      ]
     },
     "metadata": {},
     "execution_count": 11
    }
   ],
   "metadata": {}
  },
  {
   "cell_type": "markdown",
   "source": [
    "# The temporal Resolution\r\n",
    "\r\n",
    "By modifying the cube_config variable, you are able to adjust the time resolution - the empty time slot will be replaced by empty data (np.nan) for the array and None for the metadata."
   ],
   "metadata": {}
  },
  {
   "cell_type": "code",
   "execution_count": 12,
   "source": [
    "cube_config = CubeConfig()\r\n",
    "cube_config.temporal_resolution = 2\r\n",
    "cube_config.start_date = 20210427 # end of April\r\n",
    "cube_config.end_date = 20210501 # begining of May - 6 days difference\r\n",
    "cube_config.load_config(None)\r\n",
    "\r\n",
    "# Build the datacube composed by a stack of SLC\r\n",
    "slc_datacube = SLCDatacube.build(cube_config, test_dir)"
   ],
   "outputs": [
    {
     "output_type": "stream",
     "name": "stderr",
     "text": [
      "08/24/2021 04:13:34 PM - sar_datacube_metadata.py - [INFO] - Building the metadata from the folder /home/adupeyrat/Documents/code/icecube/tests/resources/slc_stack using SLC\n",
      "processing rasters for cubes: 100%|██████████| 3/3 [00:00<00:00, 57.54it/s]\n",
      "08/24/2021 04:13:34 PM - common_utils.py - [INFO] - create running time is 0.1144 seconds\n"
     ]
    }
   ],
   "metadata": {}
  },
  {
   "cell_type": "code",
   "execution_count": 13,
   "source": [
    "slc_datacube.xrdataset[NAME_COMPLEX_BAND].attrs[\"acquisition_end_utc\"]"
   ],
   "outputs": [
    {
     "output_type": "execute_result",
     "data": {
      "text/plain": [
       "['2021-04-27T21:51:30.025535', 'None', 'None']"
      ]
     },
     "metadata": {},
     "execution_count": 13
    }
   ],
   "metadata": {}
  },
  {
   "cell_type": "code",
   "execution_count": 14,
   "source": [
    "np.isnan(slc_datacube.xrdataset[NAME_COMPLEX_BAND][1].values).all()"
   ],
   "outputs": [
    {
     "output_type": "execute_result",
     "data": {
      "text/plain": [
       "True"
      ]
     },
     "metadata": {},
     "execution_count": 14
    }
   ],
   "metadata": {}
  },
  {
   "cell_type": "markdown",
   "source": [
    "# The filtering by date"
   ],
   "metadata": {}
  },
  {
   "cell_type": "markdown",
   "source": [
    "The datacube is built with the time component as coordinate. By doing so, we have the possibility to query the datacube using the acquisition date of the image. That is really useful when you are looking for a specific time or an interval of time."
   ],
   "metadata": {}
  },
  {
   "cell_type": "code",
   "execution_count": 15,
   "source": [
    "# Single date\r\n",
    "slc_datacube.xrdataset.sel(Band=\"2021-04-27\").head"
   ],
   "outputs": [
    {
     "output_type": "execute_result",
     "data": {
      "text/plain": [
       "<bound method Dataset.head of <xarray.Dataset>\n",
       "Dimensions:  (Azimuth: 20, Range: 20)\n",
       "Coordinates:\n",
       "  * Azimuth  (Azimuth) int64 0 1 2 3 4 5 6 7 8 9 10 11 12 13 14 15 16 17 18 19\n",
       "  * Range    (Range) int64 0 1 2 3 4 5 6 7 8 9 10 11 12 13 14 15 16 17 18 19\n",
       "    Band     datetime64[ns] 2021-04-27\n",
       "Data variables:\n",
       "    Real     (Azimuth, Range) float32 dask.array<chunksize=(20, 20), meta=np.ndarray>\n",
       "    Complex  (Azimuth, Range) float32 dask.array<chunksize=(20, 20), meta=np.ndarray>>"
      ]
     },
     "metadata": {},
     "execution_count": 15
    }
   ],
   "metadata": {}
  },
  {
   "cell_type": "code",
   "execution_count": 16,
   "source": [
    "# Interval\r\n",
    "slc_datacube.xrdataset.sel(Band=slice(\"2021-04-27\", \"2021-04-30\")).head"
   ],
   "outputs": [
    {
     "output_type": "execute_result",
     "data": {
      "text/plain": [
       "<bound method Dataset.head of <xarray.Dataset>\n",
       "Dimensions:  (Azimuth: 20, Band: 2, Range: 20)\n",
       "Coordinates:\n",
       "  * Azimuth  (Azimuth) int64 0 1 2 3 4 5 6 7 8 9 10 11 12 13 14 15 16 17 18 19\n",
       "  * Range    (Range) int64 0 1 2 3 4 5 6 7 8 9 10 11 12 13 14 15 16 17 18 19\n",
       "  * Band     (Band) datetime64[ns] 2021-04-27 2021-04-29\n",
       "Data variables:\n",
       "    Real     (Band, Azimuth, Range) float32 dask.array<chunksize=(1, 20, 20), meta=np.ndarray>\n",
       "    Complex  (Band, Azimuth, Range) float32 dask.array<chunksize=(1, 20, 20), meta=np.ndarray>>"
      ]
     },
     "metadata": {},
     "execution_count": 16
    }
   ],
   "metadata": {}
  },
  {
   "cell_type": "markdown",
   "source": [
    "## Build datacube from a list of path\n",
    "\n",
    "It's also possible to build a datacube from a list of path instead of a local folder. For that, you will need to call the `build_from_list()` function instead of `build()`. The method will build your datacube taking into account only the files in your list. In the following example, we will reduce the inputs to only two images instead of three."
   ],
   "metadata": {}
  },
  {
   "cell_type": "code",
   "execution_count": 17,
   "source": [
    "# Build the datacube composed of a stack of SLC\r\n",
    "list_interesting_paths = [Path(join(test_dir, cur_path)) for cur_path in os.listdir(test_dir)[:2]]\r\n",
    "print(list_interesting_paths)"
   ],
   "outputs": [
    {
     "output_type": "stream",
     "name": "stdout",
     "text": [
      "[PosixPath('/home/adupeyrat/Documents/code/icecube/tests/resources/slc_stack/ICEYE_SLC_54549_20210427T215124_hollow_20x20pixels_fake_1.h5'), PosixPath('/home/adupeyrat/Documents/code/icecube/tests/resources/slc_stack/ICEYE_SLC_54549_20210427T215124_hollow_20x20pixels_fake_2.h5')]\n"
     ]
    }
   ],
   "metadata": {}
  },
  {
   "cell_type": "code",
   "execution_count": 18,
   "source": [
    "# Build the datacube composed of a stack of SLC\r\n",
    "cube_config = CubeConfig()\r\n",
    "slc_datacube = SLCDatacube.build_from_list(cube_config, list_interesting_paths)"
   ],
   "outputs": [
    {
     "output_type": "stream",
     "name": "stderr",
     "text": [
      "08/24/2021 04:13:34 PM - sar_datacube_metadata.py - [INFO] - Building the metadata from the list [PosixPath('/home/adupeyrat/Documents/code/icecube/tests/resources/slc_stack/ICEYE_SLC_54549_20210427T215124_hollow_20x20pixels_fake_1.h5'), PosixPath('/home/adupeyrat/Documents/code/icecube/tests/resources/slc_stack/ICEYE_SLC_54549_20210427T215124_hollow_20x20pixels_fake_2.h5')]\n",
      "processing rasters for cubes: 100%|██████████| 2/2 [00:00<00:00, 26.06it/s]\n",
      "08/24/2021 04:13:34 PM - common_utils.py - [INFO] - create_from_list running time is 0.1206 seconds\n"
     ]
    }
   ],
   "metadata": {}
  },
  {
   "cell_type": "code",
   "execution_count": 19,
   "source": [
    "slc_datacube.xrdataset.dims"
   ],
   "outputs": [
    {
     "output_type": "execute_result",
     "data": {
      "text/plain": [
       "Frozen(SortedKeysDict({'Azimuth': 20, 'Range': 20, 'Band': 2}))"
      ]
     },
     "metadata": {},
     "execution_count": 19
    }
   ],
   "metadata": {}
  },
  {
   "cell_type": "markdown",
   "source": [
    "## Writing a file to GeoTiff\r\n",
    "\r\n",
    "Finally, save the datacube using the `.to_file()` method of the `SarDatacube` object. The default format is `netCDF4`."
   ],
   "metadata": {}
  },
  {
   "cell_type": "code",
   "execution_count": 20,
   "source": [
    "slc_datacube.to_file(output_fpath=\"my_awesome_datacube_slc.nc\")"
   ],
   "outputs": [],
   "metadata": {}
  },
  {
   "cell_type": "markdown",
   "source": [
    "hyvää työtä!"
   ],
   "metadata": {}
  }
 ],
 "metadata": {
  "kernelspec": {
   "display_name": "Python 3",
   "language": "python",
   "name": "python3"
  },
  "language_info": {
   "codemirror_mode": {
    "name": "ipython",
    "version": 3
   },
   "file_extension": ".py",
   "mimetype": "text/x-python",
   "name": "python",
   "nbconvert_exporter": "python",
   "pygments_lexer": "ipython3",
   "version": "3.8.10"
  }
 },
 "nbformat": 4,
 "nbformat_minor": 4
}