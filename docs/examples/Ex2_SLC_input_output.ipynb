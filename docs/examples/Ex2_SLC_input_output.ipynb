{
 "cells": [
  {
   "cell_type": "markdown",
   "metadata": {},
   "source": [
    "# Ex 2 - SLC Datacube I/O\n",
    "\n",
    "In this example, we will open a stack of Single Look Complex (SLC) images, read them in as a `SARDatacube` object, display the array data, perform some simple metadata queries, and save the stack of images. The SLC files from ICEYE are in the.hdf5 format."
   ]
  },
  {
   "cell_type": "code",
   "execution_count": 1,
   "metadata": {},
   "outputs": [],
   "source": [
    "import os,sys,inspect\n",
    "from os.path import dirname, abspath, join\n",
    "from icecube.bin.sar_cube.slc_datacube import SLCDatacube\n",
    "from icecube.bin.config import CubeConfig \n",
    "import matplotlib.pyplot as plt\n",
    "from pathlib import Path \n",
    "from icecube.bin.datacube_variables import NAME_REAL_BAND, NAME_COMPLEX_BAND\n",
    "import numpy as np"
   ]
  },
  {
   "cell_type": "markdown",
   "metadata": {},
   "source": [
    "## Creating  a Datacube"
   ]
  },
  {
   "cell_type": "markdown",
   "metadata": {},
   "source": [
    "Modify the following paths based of your use case. For the purpose of this demo, we'll work on a subset of the images used to test the library."
   ]
  },
  {
   "cell_type": "code",
   "execution_count": 2,
   "metadata": {},
   "outputs": [
    {
     "name": "stdout",
     "output_type": "stream",
     "text": [
      "The SLCs used for the demo are located at Path_to_library/icecube/tests/resources/slc_stack\n"
     ]
    }
   ],
   "source": [
    "parent_dir = dirname(dirname(dirname(abspath(inspect.getfile(inspect.currentframe())))))\n",
    "test_dir =  join(parent_dir, \"tests\", \"resources\", \"slc_stack\")\n",
    "print(f\"The SLCs used for the demo are located at Path_to_library/icecube/tests/resources/slc_stack\")"
   ]
  },
  {
   "cell_type": "markdown",
   "metadata": {},
   "source": [
    "The first step is to create or edit the config file, which is a json file containing the parameters that you want to modify for the datacube construction."
   ]
  },
  {
   "cell_type": "code",
   "execution_count": 3,
   "metadata": {},
   "outputs": [],
   "source": [
    "cube_config = CubeConfig()\n",
    "\n",
    "# To load the config parameters;\n",
    "#cube_config.load_config(cube_config_path)\n",
    "\n",
    "# Example json:\n",
    "#{\n",
    "#    \"start_date\": \"20200402\",\n",
    "#    \"end_date\": \"20210420\",\n",
    "#    \"min_incidence_angle\": 20,\n",
    "#    \"max_incidence_angle\": 21,\n",
    "#    \"temporal_resolution\": 1,\n",
    "#    \"coregistered\": true,\n",
    "#    \"space_overlap\": true,\n",
    "#    \"temporal_overlap\": true\n",
    "#}"
   ]
  },
  {
   "cell_type": "code",
   "execution_count": 4,
   "metadata": {},
   "outputs": [
    {
     "name": "stderr",
     "output_type": "stream",
     "text": [
      "08/31/2021 10:38:30 AM - sar_datacube_metadata.py - [INFO] - Building the metadata from the folder /home/adupeyrat/Documents/code/icecube/tests/resources/slc_stack using SLC\n",
      "processing rasters for cubes: 100%|██████████| 3/3 [00:00<00:00, 27.73it/s]\n",
      "08/31/2021 10:38:31 AM - common_utils.py - [INFO] - create running time is 0.1698 seconds\n"
     ]
    }
   ],
   "source": [
    "# Build the datacube composed of a stack of SLC\n",
    "\n",
    "# The program will execute the following steps:\n",
    "#  - Fetch the metadata of the images\n",
    "#  - Build a dataframe containing the metadata\n",
    "#  - Apply the filtering (sort by date, select by angle)\n",
    "#  - From the filtered metadata, it will load the data accordingly \n",
    "\n",
    "slc_datacube = SLCDatacube.build(cube_config, test_dir)"
   ]
  },
  {
   "cell_type": "markdown",
   "metadata": {},
   "source": [
    "## `SLCDatacube` object\n",
    "\n",
    "Every `SLCDatacube` object is a `SARDatacube`\n",
    "\n",
    "These have multiple methods:\n",
    "\n",
    "- `.cube_config` -> As seen above, the configuration is used to create the datacube. We can modify those parameters by defining a json file that will load each parameters.\n",
    "\n",
    "\n",
    "- `.xrdataset` -> This is theXarray.Dataset containing the stack of images (Azimuth, Range, and Band). Each image is loaded using dask (for memory optimization) and then tranformed into an Xarray.Dataarray. There is one temporal layer in the datacube for each SLC file found in your directory.\n",
    "\n",
    "\n",
    "- `.get_metadata(temporal_index)` ->  Returns the metadata of the image at a certain index, this is the Dict[str, str] representing the images."
   ]
  },
  {
   "cell_type": "code",
   "execution_count": 5,
   "metadata": {},
   "outputs": [
    {
     "data": {
      "text/plain": [
       "<bound method Dataset.head of <xarray.Dataset>\n",
       "Dimensions:  (Azimuth: 20, Band: 3, Range: 20)\n",
       "Coordinates:\n",
       "  * Azimuth  (Azimuth) int64 0 1 2 3 4 5 6 7 8 9 10 11 12 13 14 15 16 17 18 19\n",
       "  * Range    (Range) int64 0 1 2 3 4 5 6 7 8 9 10 11 12 13 14 15 16 17 18 19\n",
       "  * Band     (Band) datetime64[ns] 2021-04-27 2021-04-28 2021-05-27\n",
       "Data variables:\n",
       "    Real     (Band, Azimuth, Range) float32 dask.array<chunksize=(1, 20, 20), meta=np.ndarray>\n",
       "    Complex  (Band, Azimuth, Range) float32 dask.array<chunksize=(1, 20, 20), meta=np.ndarray>>"
      ]
     },
     "execution_count": 5,
     "metadata": {},
     "output_type": "execute_result"
    }
   ],
   "source": [
    "# You can access the dataset for ease of visualization,\n",
    "# The 'Band' dimension shows the number of SLC images stacked from your input path\n",
    "slc_datacube.xrdataset.head"
   ]
  },
  {
   "cell_type": "code",
   "execution_count": 6,
   "metadata": {},
   "outputs": [
    {
     "data": {
      "text/plain": [
       "Frozen(SortedKeysDict({'Azimuth': 20, 'Range': 20, 'Band': 3}))"
      ]
     },
     "execution_count": 6,
     "metadata": {},
     "output_type": "execute_result"
    }
   ],
   "source": [
    "# Access the array dimensions\n",
    "slc_datacube.xrdataset.dims"
   ]
  },
  {
   "cell_type": "code",
   "execution_count": 7,
   "metadata": {},
   "outputs": [
    {
     "data": {
      "text/plain": [
       "<matplotlib.image.AxesImage at 0x7f078fe47a30>"
      ]
     },
     "execution_count": 7,
     "metadata": {},
     "output_type": "execute_result"
    },
    {
     "data": {
      "image/png": "[encoded data removed]",
      "text/plain": [
       "<Figure size 432x288 with 2 Axes>"
      ]
     },
     "metadata": {
      "needs_background": "light"
     },
     "output_type": "display_data"
    }
   ],
   "source": [
    "# Let's visualize the Complex component of the slc_datacube for the first and last image of the stack.\n",
    "# Will convert the data to bytes (from float64), so we can see something.\n",
    "\n",
    "fig, ax = plt.subplots(1,2)\n",
    "\n",
    "#First image in the stack\n",
    "ax[0].imshow(slc_datacube.xrdataset['Real'][0].values)\n",
    "\n",
    "#Last image in the stack\n",
    "ax[1].imshow(slc_datacube.xrdataset['Real'][-1].values)\n"
   ]
  },
  {
   "cell_type": "code",
   "execution_count": 8,
   "metadata": {},
   "outputs": [
    {
     "name": "stdout",
     "output_type": "stream",
     "text": [
      "(3, 20, 20)\n",
      "The time series for the pixel located at the pixel (1,1) is [0.51176447 0.92778593 0.350109  ]\n"
     ]
    }
   ],
   "source": [
    "# Slice the stack at a pixel level. If the SLC stack images are co-located at different times, you are slicing by time at this point:\n",
    "# Let's pick the first pixel in range and aziumuth for all images in the stack. \n",
    "\n",
    "#Check the shape of the stack again\n",
    "print(slc_datacube.xrdataset['Complex'].shape)\n",
    "\n",
    "#The stack depth is the first dimension of the array\n",
    "pixel_time_series = slc_datacube.xrdataset['Complex'][:,1,1].values\n",
    "print(f\"The time series for the pixel located at the pixel (1,1) is {pixel_time_series}\")\n"
   ]
  },
  {
   "cell_type": "markdown",
   "metadata": {},
   "source": [
    "The raw ICEYE image metadata for each image can be accessed using the method `get_metadata(attributes, datavars, cube_index)`or directly using attrs of the xarray.Dataset[data_vars].\n",
    "\n",
    "\n",
    "slc_datacube.xrdataset[\"Complex\"].attrs will return a dict[str, list]\n",
    "\n",
    "- `The key` represents the metadata key\n",
    "- `The values` represents the values associated with each layer of the datacube - a missing value is represented by `None`\n"
   ]
  },
  {
   "cell_type": "code",
   "execution_count": 9,
   "metadata": {},
   "outputs": [
    {
     "data": {
      "text/plain": [
       "dict_keys(['product_type', 'fsl_compensation', 'angY', 'processing_time', 'incidence_far', 'slant_range_to_first_pixel', 'carrier_frequency', 'range_looks', 'RPC_SAMP_OFF', 'acquisition_start_utc', 'chirp_bandwidth', 'chirp_duration', 'state_vector_time_utc', 'data_orientation', 'look_side', 'orbit_repeat_cycle', 'slant_range_spacing', 'zerodoppler_start_utc', 'sample_precision', 'acquisition_end_utc', 'RPC_LONG_OFF', 'posX', 'window_function_range', 'orbit_processing_level', 'incidence_near', 'processing_prf', 'RPC_LAT_OFF', 'RPC_HEIGHT_SCALE', 'RPC_LINE_DEN_COEFF', 'geo_ref_system', 'RPC_SAMP_NUM_COEFF', 'RPC_LINE_OFF', 'dc_estimate_coeffs', 'azimuth_time_interval', 'local_incidence_angle', 'azimuth_looks', 'coord_first_far', 'dc_estimate_poly_order', 'dc_estimate_time_utc', 'coord_last_near', 'doppler_rate_poly_order', 'product_name', 'number_of_azimuth_samples', 'azimuth_angles_of_the_beam', 'incidence_center', 'azimuth_ground_spacing', 'RPC_SAMP_DEN_COEFF', 'number_of_state_vectors', 'velX', 'acquisition_prf', 'RPC_LINE_SCALE', 'avg_scene_height', 'number_of_dc_estimations', 'RPC_SAMP_SCALE', 'pitch', 'window_function_azimuth', 'first_pixel_time', 'ref_track_point_lla', 'coord_first_near', 'ant_elev_corr_flag', 'mean_orbit_altitude', 'RPC_LAT_SCALE', 'acquisition_mode', 'coord_last_far', 'total_processed_bandwidth_azimuth', 'range_spread_comp_flag', 'coord_center', 'number_of_range_samples', 'RPC_LONG_SCALE', 'velZ', 'tropo_range_delay', 'range_sampling_rate', 'angZ', 'posZ', 'satellite_name', 'orbit_direction', 'calibration_factor', 'posY', 'ref_track_point_ecef', 'product_file', 'yaw', 'velY', 'doppler_rate_coeffs', 'RPC_HEIGHT_OFF', 'angX', 'spec_version', 'polarization', 'processor_version', 'orbit_absolute_number', 'product_level', 'zerodoppler_end_utc', 'antenna_pattern_compensation', 'orbit_relative_number', 'heading', 'satellite_look_angle', 'mean_earth_radius', 'RPC_LINE_NUM_COEFF'])"
      ]
     },
     "execution_count": 9,
     "metadata": {},
     "output_type": "execute_result"
    }
   ],
   "source": [
    "# Visualize all possibles values\n",
    "slc_datacube.xrdataset['Complex'].attrs.keys()"
   ]
  },
  {
   "cell_type": "code",
   "execution_count": 10,
   "metadata": {},
   "outputs": [
    {
     "data": {
      "text/plain": [
       "['ICEYE_SLC_54549_20210427T215124_hollow_20x20pixels_fake_1.h5',\n",
       " 'ICEYE_SLC_54549_20210427T215124_hollow_20x20pixels_fake_0.h5',\n",
       " 'ICEYE_SLC_54549_20210427T215124_hollow_20x20pixels_fake_2.h5']"
      ]
     },
     "execution_count": 10,
     "metadata": {},
     "output_type": "execute_result"
    }
   ],
   "source": [
    "# You can see the list of values for a specific metadata\n",
    "slc_datacube.xrdataset['Complex'].attrs[\"product_file\"]"
   ]
  },
  {
   "cell_type": "code",
   "execution_count": 11,
   "metadata": {},
   "outputs": [
    {
     "data": {
      "text/plain": [
       "'ICEYE_SLC_54549_20210427T215124_hollow_20x20pixels_fake_0.h5'"
      ]
     },
     "execution_count": 11,
     "metadata": {},
     "output_type": "execute_result"
    }
   ],
   "source": [
    "# If you know what you are looking for, you can directly use `get_metadata(attr, var, index)` method\n",
    "slc_datacube.get_metadata(\"product_file\", NAME_COMPLEX_BAND, 1)"
   ]
  },
  {
   "cell_type": "markdown",
   "metadata": {},
   "source": [
    "# The temporal Resolution\n",
    "\n",
    "By modifying the cube_config variable, you are able to adjust the time resolution - the empty time slot will be replaced by empty data (np.nan) for the array and None for the metadata."
   ]
  },
  {
   "cell_type": "code",
   "execution_count": 12,
   "metadata": {},
   "outputs": [
    {
     "name": "stderr",
     "output_type": "stream",
     "text": [
      "08/31/2021 10:38:31 AM - sar_datacube_metadata.py - [INFO] - Building the metadata from the folder /home/adupeyrat/Documents/code/icecube/tests/resources/slc_stack using SLC\n",
      "processing rasters for cubes: 100%|██████████| 3/3 [00:00<00:00, 57.45it/s]\n",
      "08/31/2021 10:38:31 AM - common_utils.py - [INFO] - create running time is 0.1104 seconds\n"
     ]
    }
   ],
   "source": [
    "cube_config = CubeConfig()\n",
    "cube_config.temporal_resolution = 2\n",
    "cube_config.start_date = 20210427 # end of April\n",
    "cube_config.end_date = 20210501 # begining of May - 6 days difference\n",
    "cube_config.load_config(None)\n",
    "\n",
    "# Build the datacube composed by a stack of SLC\n",
    "slc_datacube = SLCDatacube.build(cube_config, test_dir)"
   ]
  },
  {
   "cell_type": "code",
   "execution_count": 13,
   "metadata": {},
   "outputs": [
    {
     "data": {
      "text/plain": [
       "['2021-04-27T21:51:30.025535', 'None', 'None']"
      ]
     },
     "execution_count": 13,
     "metadata": {},
     "output_type": "execute_result"
    }
   ],
   "source": [
    "slc_datacube.xrdataset[NAME_COMPLEX_BAND].attrs[\"acquisition_end_utc\"]"
   ]
  },
  {
   "cell_type": "code",
   "execution_count": 14,
   "metadata": {},
   "outputs": [
    {
     "data": {
      "text/plain": [
       "True"
      ]
     },
     "execution_count": 14,
     "metadata": {},
     "output_type": "execute_result"
    }
   ],
   "source": [
    "np.isnan(slc_datacube.xrdataset[NAME_COMPLEX_BAND][1].values).all()"
   ]
  },
  {
   "cell_type": "markdown",
   "metadata": {},
   "source": [
    "# The filtering by date"
   ]
  },
  {
   "cell_type": "markdown",
   "metadata": {},
   "source": [
    "The datacube is built with the time component as coordinate. By doing so, we have the possibility to query the datacube using the acquisition date of the image. That is really useful when you are looking for a specific time or an interval of time."
   ]
  },
  {
   "cell_type": "code",
   "execution_count": 15,
   "metadata": {},
   "outputs": [
    {
     "data": {
      "text/plain": [
       "<bound method Dataset.head of <xarray.Dataset>\n",
       "Dimensions:  (Azimuth: 20, Range: 20)\n",
       "Coordinates:\n",
       "  * Azimuth  (Azimuth) int64 0 1 2 3 4 5 6 7 8 9 10 11 12 13 14 15 16 17 18 19\n",
       "  * Range    (Range) int64 0 1 2 3 4 5 6 7 8 9 10 11 12 13 14 15 16 17 18 19\n",
       "    Band     datetime64[ns] 2021-04-27\n",
       "Data variables:\n",
       "    Real     (Azimuth, Range) float32 dask.array<chunksize=(20, 20), meta=np.ndarray>\n",
       "    Complex  (Azimuth, Range) float32 dask.array<chunksize=(20, 20), meta=np.ndarray>>"
      ]
     },
     "execution_count": 15,
     "metadata": {},
     "output_type": "execute_result"
    }
   ],
   "source": [
    "# Single date\n",
    "slc_datacube.xrdataset.sel(Band=\"2021-04-27\").head"
   ]
  },
  {
   "cell_type": "code",
   "execution_count": 16,
   "metadata": {},
   "outputs": [
    {
     "data": {
      "text/plain": [
       "<bound method Dataset.head of <xarray.Dataset>\n",
       "Dimensions:  (Azimuth: 20, Band: 2, Range: 20)\n",
       "Coordinates:\n",
       "  * Azimuth  (Azimuth) int64 0 1 2 3 4 5 6 7 8 9 10 11 12 13 14 15 16 17 18 19\n",
       "  * Range    (Range) int64 0 1 2 3 4 5 6 7 8 9 10 11 12 13 14 15 16 17 18 19\n",
       "  * Band     (Band) datetime64[ns] 2021-04-27 2021-04-29\n",
       "Data variables:\n",
       "    Real     (Band, Azimuth, Range) float32 dask.array<chunksize=(1, 20, 20), meta=np.ndarray>\n",
       "    Complex  (Band, Azimuth, Range) float32 dask.array<chunksize=(1, 20, 20), meta=np.ndarray>>"
      ]
     },
     "execution_count": 16,
     "metadata": {},
     "output_type": "execute_result"
    }
   ],
   "source": [
    "# Interval\n",
    "slc_datacube.xrdataset.sel(Band=slice(\"2021-04-27\", \"2021-04-30\")).head"
   ]
  },
  {
   "cell_type": "markdown",
   "metadata": {},
   "source": [
    "## Build datacube from a list of path\n",
    "\n",
    "It's also possible to build a datacube from a list of path instead of a local folder. For that, you will need to call the `build_from_list()` function instead of `build()`. The method will build your datacube taking into account only the files in your list. In the following example, we will reduce the inputs to only two images instead of three."
   ]
  },
  {
   "cell_type": "code",
   "execution_count": 17,
   "metadata": {},
   "outputs": [
    {
     "name": "stdout",
     "output_type": "stream",
     "text": [
      "[PosixPath('/home/adupeyrat/Documents/code/icecube/tests/resources/slc_stack/ICEYE_SLC_54549_20210427T215124_hollow_20x20pixels_fake_1.h5'), PosixPath('/home/adupeyrat/Documents/code/icecube/tests/resources/slc_stack/ICEYE_SLC_54549_20210427T215124_hollow_20x20pixels_fake_2.h5')]\n"
     ]
    }
   ],
   "source": [
    "# Build the datacube composed of a stack of SLC\n",
    "list_interesting_paths = [Path(join(test_dir, cur_path)) for cur_path in os.listdir(test_dir)[:2]]\n",
    "print(list_interesting_paths)"
   ]
  },
  {
   "cell_type": "code",
   "execution_count": 18,
   "metadata": {},
   "outputs": [
    {
     "name": "stderr",
     "output_type": "stream",
     "text": [
      "08/31/2021 10:38:31 AM - sar_datacube_metadata.py - [INFO] - Building the metadata from the list [PosixPath('/home/adupeyrat/Documents/code/icecube/tests/resources/slc_stack/ICEYE_SLC_54549_20210427T215124_hollow_20x20pixels_fake_1.h5'), PosixPath('/home/adupeyrat/Documents/code/icecube/tests/resources/slc_stack/ICEYE_SLC_54549_20210427T215124_hollow_20x20pixels_fake_2.h5')]\n",
      "processing rasters for cubes: 100%|██████████| 2/2 [00:00<00:00, 26.22it/s]\n",
      "08/31/2021 10:38:31 AM - common_utils.py - [INFO] - create_from_list running time is 0.1211 seconds\n"
     ]
    }
   ],
   "source": [
    "# Build the datacube composed of a stack of SLC\n",
    "cube_config = CubeConfig()\n",
    "slc_datacube = SLCDatacube.build_from_list(cube_config, list_interesting_paths)"
   ]
  },
  {
   "cell_type": "code",
   "execution_count": 19,
   "metadata": {},
   "outputs": [
    {
     "data": {
      "text/plain": [
       "Frozen(SortedKeysDict({'Azimuth': 20, 'Range': 20, 'Band': 2}))"
      ]
     },
     "execution_count": 19,
     "metadata": {},
     "output_type": "execute_result"
    }
   ],
   "source": [
    "slc_datacube.xrdataset.dims"
   ]
  },
  {
   "cell_type": "markdown",
   "metadata": {},
   "source": [
    "## Writing a file to GeoTiff\n",
    "\n",
    "Finally, save the datacube using the `.to_file()` method of the `SarDatacube` object. The default format is `netCDF4`."
   ]
  },
  {
   "cell_type": "code",
   "execution_count": 20,
   "metadata": {},
   "outputs": [],
   "source": [
    "slc_datacube.to_file(output_fpath=\"my_awesome_datacube_slc.nc\")"
   ]
  },
  {
   "cell_type": "markdown",
   "metadata": {},
   "source": [
    "hyvää työtä!"
   ]
  }
 ],
 "metadata": {
  "kernelspec": {
   "display_name": "Python 3",
   "language": "python",
   "name": "python3"
  },
  "language_info": {
   "codemirror_mode": {
    "name": "ipython",
    "version": 3
   },
   "file_extension": ".py",
   "mimetype": "text/x-python",
   "name": "python",
   "nbconvert_exporter": "python",
   "pygments_lexer": "ipython3",
   "version": "3.8.10"
  }
 },
 "nbformat": 4,
 "nbformat_minor": 4
}
