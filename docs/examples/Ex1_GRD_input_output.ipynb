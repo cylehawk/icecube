{
 "cells": [
  {
   "cell_type": "markdown",
   "metadata": {},
   "source": [
    "# Ex 1 - GRD Datacube I/O\n",
    "\n",
    "In this basic example, we will open a stack of Ground Range Detected (GRD) images, read it as a `SARDatacube` object, display the array, run some simple metadata queries, and then save the stack of images as a datacube.\n",
    "\n",
    "GRD images are georegistered rasters. ICEYE uses the .tif format. This image has only signal intensity and not the complex information."
   ]
  },
  {
   "cell_type": "code",
   "execution_count": 1,
   "metadata": {},
   "outputs": [],
   "source": [
    "import os,sys,inspect\n",
    "import numpy as np\n",
    "from os.path import dirname, abspath, join\n",
    "from icecube.bin.sar_cube.grd_datacube import GRDDatacube\n",
    "from icecube.bin.config import CubeConfig \n",
    "import matplotlib.pyplot as plt\n",
    "from pathlib import Path \n",
    "from icecube.bin.datacube_variables import NAME_INTENSITY_BAND"
   ]
  },
  {
   "cell_type": "markdown",
   "metadata": {},
   "source": [
    "## Creating  a Datacube"
   ]
  },
  {
   "cell_type": "markdown",
   "metadata": {},
   "source": [
    "Modify the following paths based on your use case. For the purpose of this demo, we'll work on a subset of images used for testing the library."
   ]
  },
  {
   "cell_type": "code",
   "execution_count": 2,
   "metadata": {
    "scrolled": true
   },
   "outputs": [
    {
     "name": "stdout",
     "output_type": "stream",
     "text": [
      "The GRDs used for the demo are located at Path_to_library/icecube/tests/resources/grd_stack\n"
     ]
    }
   ],
   "source": [
    "parent_dir = dirname(dirname(dirname(abspath(inspect.getfile(inspect.currentframe())))))\n",
    "test_dir =  join(parent_dir, \"tests\", \"resources\", \"grd_stack\")\n",
    "print(f\"The GRDs used for the demo are located at Path_to_library/icecube/tests/resources/grd_stack\")"
   ]
  },
  {
   "cell_type": "markdown",
   "metadata": {},
   "source": [
    "The first step is to create or edit the config file, which is a json file containing the parameters that you want to modify for the datacube construction."
   ]
  },
  {
   "cell_type": "code",
   "execution_count": 3,
   "metadata": {},
   "outputs": [],
   "source": [
    "cube_config = CubeConfig()\n",
    "\n",
    "# If you want to load config parameters;\n",
    "#cube_config.load_config(cube_config_path)"
   ]
  },
  {
   "cell_type": "code",
   "execution_count": 4,
   "metadata": {},
   "outputs": [
    {
     "name": "stderr",
     "output_type": "stream",
     "text": [
      "08/24/2021 04:23:46 PM - sar_datacube_metadata.py - [INFO] - Building the metadata from the folder /home/adupeyrat/Documents/code/icecube/tests/resources/grd_stack using GRD\n",
      "processing rasters for cubes: 100%|██████████| 3/3 [00:00<00:00, 90.51it/s]\n",
      "08/24/2021 04:23:46 PM - common_utils.py - [INFO] - create running time is 0.0592 seconds\n"
     ]
    }
   ],
   "source": [
    "# build the datacube composed by a stack of GRD\n",
    "grd_datacube = GRDDatacube.build(cube_config, test_dir)"
   ]
  },
  {
   "cell_type": "markdown",
   "metadata": {},
   "source": [
    "## `GRDDatacube` object\n",
    "\n",
    "Every `GRDDatacube` object is a `SARDatacube`\n",
    "\n",
    "These have multiple methods:\n",
    "\n",
    "- `.cube_config` -> As seen above, the configuration is the one used to create the datacube. We can modify those parameters by defining a json file that will overload every parameters. \n",
    "\n",
    "\n",
    "- `.xrdataset` -> This is theXarray.Dataset containing the stack of images, (Azimuth, Range and Band). Each image is loaded using dask (for memory optimization) and then tranformed into an Xarray.Dataarray. There is one temporal layer in the datacube for each GRD file found in your directory.\n",
    "\n",
    "\n",
    "- `.get_metadata(temporal_index)` ->  Returns the metadata of the image at the certain index, this is Dict[str, str] representing the images"
   ]
  },
  {
   "cell_type": "code",
   "execution_count": 5,
   "metadata": {},
   "outputs": [
    {
     "data": {
      "text/plain": [
       "<bound method Dataset.head of <xarray.Dataset>\n",
       "Dimensions:    (Azimuth: 10, Band: 3, Range: 10)\n",
       "Coordinates:\n",
       "  * Azimuth    (Azimuth) int64 0 1 2 3 4 5 6 7 8 9\n",
       "  * Range      (Range) int64 0 1 2 3 4 5 6 7 8 9\n",
       "  * Band       (Band) datetime64[ns] 2021-04-27 2021-04-28 2021-05-27\n",
       "Data variables:\n",
       "    Intensity  (Band, Azimuth, Range) uint16 329 389 217 418 ... 597 85 482 334>"
      ]
     },
     "execution_count": 5,
     "metadata": {},
     "output_type": "execute_result"
    }
   ],
   "source": [
    "# You can access the dataset, for an easy visualization. The 'Band' dimension shows the number of GRD images stacked from your input path.\n",
    "grd_datacube.xrdataset.head"
   ]
  },
  {
   "cell_type": "code",
   "execution_count": 6,
   "metadata": {},
   "outputs": [
    {
     "data": {
      "text/plain": [
       "Frozen(SortedKeysDict({'Azimuth': 10, 'Range': 10, 'Band': 3}))"
      ]
     },
     "execution_count": 6,
     "metadata": {},
     "output_type": "execute_result"
    }
   ],
   "source": [
    "# Access the array dimensions\n",
    "grd_datacube.xrdataset.dims"
   ]
  },
  {
   "cell_type": "code",
   "execution_count": 7,
   "metadata": {},
   "outputs": [
    {
     "data": {
      "text/plain": [
       "<matplotlib.image.AxesImage at 0x7f318ac2ef70>"
      ]
     },
     "execution_count": 7,
     "metadata": {},
     "output_type": "execute_result"
    },
    {
     "data": {
      "image/png": "[encoded data removed]",
      "text/plain": [
       "<Figure size 432x288 with 2 Axes>"
      ]
     },
     "metadata": {
      "needs_background": "light"
     },
     "output_type": "display_data"
    }
   ],
   "source": [
    "# Let's visualize the intensity component of the grd_datacube for the first and last image of the stack. \n",
    "# Will convert the data to bytes (from float64), so we can see something.\n",
    "\n",
    "fig, ax = plt.subplots(1,2)\n",
    "\n",
    "#First image in the stack\n",
    "ax[0].imshow(np.byte(grd_datacube.xrdataset['Intensity'][0].values))\n",
    "\n",
    "#Last image in the stack\n",
    "ax[1].imshow(np.byte(grd_datacube.xrdataset['Intensity'][-1].values))"
   ]
  },
  {
   "cell_type": "code",
   "execution_count": 8,
   "metadata": {},
   "outputs": [
    {
     "name": "stdout",
     "output_type": "stream",
     "text": [
      "(3, 10, 10)\n",
      "The time series for the pixel located to the pixel (1,1) is [508  81 525]\n"
     ]
    }
   ],
   "source": [
    "# Slice the stack at the pixel level. If the GRD stack are co-located images at different times, you are slicing by time at this point:\n",
    "# Let's pick the first pixel in range and aziumuth for all images in the stack. \n",
    "\n",
    "#Check the shape of the stack again\n",
    "print(grd_datacube.xrdataset['Intensity'].shape)\n",
    "\n",
    "#the stack depth is the first dimension of the array\n",
    "pixel_time_series = grd_datacube.xrdataset['Intensity'][:,1,1].values\n",
    "print(f\"The time series for the pixel located to the pixel (1,1) is {pixel_time_series}\")"
   ]
  },
  {
   "cell_type": "markdown",
   "metadata": {},
   "source": [
    "The raw ICEYE image metadata for each image can be accessed using the method `get_metadata(attributes, datavars, cube_index)`or directly using attrs of the xarray.Dataset[data_vars]\n",
    "\n",
    "\n",
    "grd_datacube.xrdataset[\"intensity\"].attrs will return a dict[str, list]\n",
    "\n",
    "- `key` represents the metadata key\n",
    "- `vlues` represents the values associated with each layer of the datacube - a missing value is represented by `None`"
   ]
  },
  {
   "cell_type": "code",
   "execution_count": 9,
   "metadata": {},
   "outputs": [
    {
     "data": {
      "text/plain": [
       "dict_keys(['spec_version', 'posX', 'grsr_coefficients', 'doppler_rate_poly_order', 'applied_processing', 'gcp_terrain_model', 'incidence_angle_ground_range_origin', 'calibration_factor', 'grsr_zero_doppler_time', 'azimuth_look_overlap', 'grsr_poly_order', 'mean_earth_radius', 'geo_ref_system', 'orbit_repeat_cycle', 'range_looks', 'zerodoppler_end_utc', 'satellite_name', 'incidence_near', 'window_function_range', 'processor_version', 'slant_range_to_first_pixel', 'processing_prf', 'satellite_look_angle', 'heading', 'chirp_bandwidth', 'azimuth_look_bandwidth', 'grsr_ground_range_origin', 'incidence_far', 'product_level', 'azimuth_time_interval', 'number_of_state_vectors', 'acquisition_mode', 'product_file', 'dc_estimate_poly_order', 'chirp_duration', 'dc_estimate_coeffs', 'range_sampling_rate', 'velX', 'polarization', 'azimuth_spacing', 'number_of_dc_estimations', 'processing_time', 'product_name', 'state_vector_time_utc', 'azimuth_looks', 'orbit_absolute_number', 'mean_orbit_altitude', 'incidence_angle_poly_order', 'total_processed_bandwidth_azimuth', 'avg_scene_height', 'number_of_range_samples', 'look_side', 'tropo_range_delay', 'orbit_processing_level', 'incidence_angle_zero_doppler_time', 'acquisition_start_utc', 'posY', 'carrier_frequency', 'coord_first_far', 'posZ', 'coord_last_near', 'sample_precision', 'acquisition_end_utc', 'velY', 'dc_estimate_time_utc', 'acquisition_prf', 'range_look_overlap', 'zerodoppler_start_utc', 'range_spread_comp_flag', 'coord_center', 'ant_elev_corr_flag', 'doppler_rate_coeffs', 'incidence_angle_coefficients', 'number_of_azimuth_samples', 'range_look_bandwidth', 'area_or_point', 'coord_last_far', 'incidence_center', 'orbit_relative_number', 'window_function_azimuth', 'range_spacing', 'orbit_direction', 'product_type', 'coord_first_near', 'velZ'])"
      ]
     },
     "execution_count": 9,
     "metadata": {},
     "output_type": "execute_result"
    }
   ],
   "source": [
    "# visualize all possibles values\n",
    "grd_datacube.xrdataset['Intensity'].attrs.keys()"
   ]
  },
  {
   "cell_type": "code",
   "execution_count": 10,
   "metadata": {},
   "outputs": [
    {
     "data": {
      "text/plain": [
       "['ICEYE_GRD_54549_20210427T215124_hollow_10x10pixels_fake_1.tif',\n",
       " 'ICEYE_GRD_54549_20210427T215124_hollow_10x10pixels_fake_0.tif',\n",
       " 'ICEYE_GRD_54549_20210427T215124_hollow_10x10pixels_fake_2.tif']"
      ]
     },
     "execution_count": 10,
     "metadata": {},
     "output_type": "execute_result"
    }
   ],
   "source": [
    "# You can see the list of values a specific metadata\n",
    "grd_datacube.xrdataset['Intensity'].attrs['product_file']"
   ]
  },
  {
   "cell_type": "code",
   "execution_count": 11,
   "metadata": {},
   "outputs": [
    {
     "data": {
      "text/plain": [
       "'ICEYE_GRD_54549_20210427T215124_hollow_10x10pixels_fake_1.tif'"
      ]
     },
     "execution_count": 11,
     "metadata": {},
     "output_type": "execute_result"
    }
   ],
   "source": [
    "# If you know what you are looking for, you can directly use the`get_metadata(attr, var, index)` method\n",
    "grd_datacube.get_metadata(\"product_file\", 'Intensity', 0)"
   ]
  },
  {
   "cell_type": "markdown",
   "metadata": {},
   "source": [
    "## Build datacube from a list of path\n",
    "\n",
    "It's also possible to build a datacube from a list of different paths instead of a single local folder. For that, you will need to call the `build_from_list()` function instead of `build()`. The method will build your datacube taking into account only the files in your list. In the following example, we will reduce the inputs to only two images instead of three. Ensure that you are passing only .tif files."
   ]
  },
  {
   "cell_type": "code",
   "execution_count": 12,
   "metadata": {},
   "outputs": [
    {
     "name": "stdout",
     "output_type": "stream",
     "text": [
      "[PosixPath('/home/adupeyrat/Documents/code/icecube/tests/resources/grd_stack/ICEYE_GRD_54549_20210427T215124_hollow_10x10pixels_fake_2.tif'), PosixPath('/home/adupeyrat/Documents/code/icecube/tests/resources/grd_stack/ICEYE_GRD_54549_20210427T215124_hollow_10x10pixels_fake_1.tif')]\n"
     ]
    }
   ],
   "source": [
    "# build the datacube composed of a stack of GRD\n",
    "list_interesting_paths = [Path(join(test_dir, cur_path)) for cur_path in os.listdir(test_dir)[:2]]\n",
    "print(list_interesting_paths)"
   ]
  },
  {
   "cell_type": "code",
   "execution_count": 13,
   "metadata": {},
   "outputs": [
    {
     "name": "stderr",
     "output_type": "stream",
     "text": [
      "08/24/2021 04:23:46 PM - sar_datacube_metadata.py - [INFO] - Building the metadata from the list [PosixPath('/home/adupeyrat/Documents/code/icecube/tests/resources/grd_stack/ICEYE_GRD_54549_20210427T215124_hollow_10x10pixels_fake_2.tif'), PosixPath('/home/adupeyrat/Documents/code/icecube/tests/resources/grd_stack/ICEYE_GRD_54549_20210427T215124_hollow_10x10pixels_fake_1.tif')]\n",
      "processing rasters for cubes: 100%|██████████| 2/2 [00:00<00:00, 165.12it/s]\n",
      "08/24/2021 04:23:46 PM - common_utils.py - [INFO] - create_from_list running time is 0.0267 seconds\n"
     ]
    }
   ],
   "source": [
    "# build the datacube composed of a stack of GRD\n",
    "grd_datacube = GRDDatacube.build_from_list(cube_config, list_interesting_paths)"
   ]
  },
  {
   "cell_type": "code",
   "execution_count": 14,
   "metadata": {},
   "outputs": [
    {
     "data": {
      "text/plain": [
       "Frozen(SortedKeysDict({'Azimuth': 10, 'Range': 10, 'Band': 2}))"
      ]
     },
     "execution_count": 14,
     "metadata": {},
     "output_type": "execute_result"
    }
   ],
   "source": [
    "grd_datacube.xrdataset.dims"
   ]
  },
  {
   "cell_type": "markdown",
   "metadata": {},
   "source": [
    "## Writing a file to GeoTiff\n",
    "\n",
    "Finally, save the datacube usint the `.to_file()` method of the `SarDatacube` object.\n",
    "The default format is `netCDF4` - this can be expanded if needed."
   ]
  },
  {
   "cell_type": "code",
   "execution_count": 15,
   "metadata": {},
   "outputs": [],
   "source": [
    "grd_datacube.to_file(output_fpath=\"my_awesome_datacube_grd.nc\")"
   ]
  },
  {
   "cell_type": "markdown",
   "metadata": {},
   "source": [
    "hyvää työtä!"
   ]
  }
 ],
 "metadata": {
  "interpreter": {
   "hash": "287d0f10f5e6cd0277b587b08d668c282979eb26d55b811c79481398c6b0311a"
  },
  "kernelspec": {
   "display_name": "Python 3",
   "language": "python",
   "name": "python3"
  },
  "language_info": {
   "codemirror_mode": {
    "name": "ipython",
    "version": 3
   },
   "file_extension": ".py",
   "mimetype": "text/x-python",
   "name": "python",
   "nbconvert_exporter": "python",
   "pygments_lexer": "ipython3",
   "version": "3.8.10"
  }
 },
 "nbformat": 4,
 "nbformat_minor": 2
}
